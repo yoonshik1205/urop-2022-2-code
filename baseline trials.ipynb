{
 "cells": [
  {
   "cell_type": "code",
   "execution_count": 1,
   "metadata": {},
   "outputs": [],
   "source": [
    "import os\n",
    "import pickle\n",
    "\n",
    "import numpy as np\n",
    "import pandas as pd\n",
    "import matplotlib.pyplot as plt\n",
    "\n",
    "from datetime import datetime as dt\n",
    "from datetime import timedelta as td"
   ]
  },
  {
   "cell_type": "code",
   "execution_count": 2,
   "metadata": {},
   "outputs": [],
   "source": [
    "import utils"
   ]
  },
  {
   "cell_type": "code",
   "execution_count": 3,
   "metadata": {},
   "outputs": [],
   "source": [
    "RAW_ROOT = 'raw'\n",
    "DATA_ROOT = 'data'"
   ]
  },
  {
   "cell_type": "code",
   "execution_count": 4,
   "metadata": {},
   "outputs": [],
   "source": [
    "_, _, _, df_sub_raw = utils.load_raw(RAW_ROOT)"
   ]
  },
  {
   "cell_type": "code",
   "execution_count": 5,
   "metadata": {},
   "outputs": [],
   "source": [
    "df_user_CV = pd.read_parquet(f'{DATA_ROOT}/df_user_aggregated_CV.pq')\n",
    "df_user_LB = pd.read_parquet(f'{DATA_ROOT}/df_user_aggregated_LB.pq')\n",
    "df_item_CV = pd.read_parquet(f'{DATA_ROOT}/df_item_aggregated_CV.pq')\n",
    "df_item_LB = pd.read_parquet(f'{DATA_ROOT}/df_item_aggregated_LB.pq')\n",
    "df_log_all = pd.read_parquet(f'{DATA_ROOT}/df_log_preprocessed.pq')\n",
    "df_log_CV = utils.get_df_log_of(df_log_all, 'CV')\n",
    "df_log_LB = utils.get_df_log_of(df_log_all, 'LB')\n",
    "\n",
    "del df_log_all"
   ]
  },
  {
   "cell_type": "markdown",
   "metadata": {},
   "source": [
    "# submit test"
   ]
  },
  {
   "cell_type": "code",
   "execution_count": 6,
   "metadata": {},
   "outputs": [
    {
     "name": "stdout",
     "output_type": "stream",
     "text": [
      "POP_CV: 0.5275%\n"
     ]
    }
   ],
   "source": [
    "df_log_CV_test = df_log_CV[df_log_CV['target'] == 'test']\n",
    "df_log_CV_train_valid = df_log_CV[df_log_CV['target'] != 'test']\n",
    "\n",
    "uid2aiidset_CV = {}\n",
    "for row in df_log_CV_test[['customer_id', 'article_id']].itertuples():\n",
    "    _, uid, iid = row\n",
    "    if uid not in uid2aiidset_CV:\n",
    "        uid2aiidset_CV[uid] = set()\n",
    "    uid2aiidset_CV[uid].add(iid)\n",
    "\n",
    "df_iid_count_temp = df_log_CV_train_valid[['article_id', 'customer_id']].groupby('article_id').count()\n",
    "df_iid_count_temp.columns = ['count']\n",
    "\n",
    "global_popular_iids = list(df_iid_count_temp.sort_values('count', ascending=False).iloc[:12].index)\n",
    "\n",
    "APs = []\n",
    "for uid, aiidset in uid2aiidset_CV.items():\n",
    "    AP = utils.calc_ap(aiidset, global_popular_iids)\n",
    "    APs.append(AP)\n",
    "mAP = np.array(APs).mean()\n",
    "\n",
    "print(f\"POP_CV: {100 * mAP:.04f}%\")\n",
    "\n",
    "del APs\n",
    "del global_popular_iids\n",
    "del df_iid_count_temp"
   ]
  },
  {
   "cell_type": "code",
   "execution_count": 7,
   "metadata": {},
   "outputs": [],
   "source": [
    "os.makedirs('data/subs', exist_ok=True)"
   ]
  },
  {
   "cell_type": "code",
   "execution_count": 9,
   "metadata": {},
   "outputs": [],
   "source": [
    "df_iid_count_temp = df_log_LB[['article_id', 'customer_id']].groupby('article_id').count()\n",
    "df_iid_count_temp.columns = ['count']\n",
    "\n",
    "global_popular_iids = list(df_iid_count_temp.sort_values('count', ascending=False).iloc[:12].index)\n",
    "\n",
    "sub_name = 'POP'\n",
    "\n",
    "df_sub_temp = df_sub_raw.copy()\n",
    "df_sub_temp['prediction'] = ' '.join(global_popular_iids)\n",
    "df_sub_temp.to_csv(f'data/subs/{sub_name}_LB.csv.gz', index=False)\n",
    "\n",
    "# submit to kaggle\n",
    "\n",
    "del df_sub_temp\n",
    "del global_popular_iids\n",
    "del df_iid_count_temp"
   ]
  },
  {
   "cell_type": "markdown",
   "metadata": {},
   "source": [
    "# recent week popular"
   ]
  },
  {
   "cell_type": "code",
   "execution_count": 10,
   "metadata": {},
   "outputs": [],
   "source": [
    "last_week = df_log_CV_train_valid['week'].max()\n",
    "\n",
    "week_cuts = list(range(1, last_week + 2))\n",
    "\n",
    "results = []\n",
    "for week_cut in week_cuts:\n",
    "    df_log_temp = df_log_CV_train_valid[df_log_CV_train_valid['week'] > last_week - week_cut]\n",
    "    df_iid_count_temp = df_log_temp[['article_id', 'customer_id']].groupby('article_id').count()\n",
    "    df_iid_count_temp.columns = ['count']\n",
    "    local_popular_iids = list(df_iid_count_temp.sort_values('count', ascending=False).iloc[:12].index)\n",
    "    APs = []\n",
    "    for uid, aiidset in uid2aiidset_CV.items():\n",
    "        AP = utils.calc_ap(aiidset, local_popular_iids)\n",
    "        APs.append(AP)\n",
    "    mAP = np.array(APs).mean()\n",
    "    results.append((week_cut, mAP))\n",
    "\n",
    "del APs\n",
    "del local_popular_iids\n",
    "del df_iid_count_temp\n",
    "del df_log_temp"
   ]
  },
  {
   "cell_type": "code",
   "execution_count": 11,
   "metadata": {},
   "outputs": [
    {
     "data": {
      "text/plain": [
       "[<matplotlib.lines.Line2D at 0x2bf8c9423b0>]"
      ]
     },
     "execution_count": 11,
     "metadata": {},
     "output_type": "execute_result"
    },
    {
     "data": {
      "image/png": "[encoded data removed]",
      "text/plain": [
       "<Figure size 432x288 with 1 Axes>"
      ]
     },
     "metadata": {
      "needs_background": "light"
     },
     "output_type": "display_data"
    }
   ],
   "source": [
    "plt.plot(week_cuts, [mAP for _, mAP in results])"
   ]
  },
  {
   "cell_type": "code",
   "execution_count": 12,
   "metadata": {},
   "outputs": [
    {
     "name": "stdout",
     "output_type": "stream",
     "text": [
      "RWP_WC4_CV: 0.6464%\n"
     ]
    }
   ],
   "source": [
    "best_week_cut, mAP = sorted(results, key=lambda x: x[1], reverse=True)[0]\n",
    "print(f\"RWP_WC{best_week_cut}_CV: {100 * mAP:.04f}%\")"
   ]
  },
  {
   "cell_type": "code",
   "execution_count": 13,
   "metadata": {},
   "outputs": [],
   "source": [
    "last_week = df_log_LB['week'].max()\n",
    "\n",
    "df_log_temp = df_log_LB[df_log_LB['week'] > last_week - best_week_cut]\n",
    "df_iid_count_temp = df_log_temp[['article_id', 'customer_id']].groupby('article_id').count()\n",
    "df_iid_count_temp.columns = ['count']\n",
    "local_popular_iids = list(df_iid_count_temp.sort_values('count', ascending=False).iloc[:12].index)\n",
    "\n",
    "sub_name = f'RWP_WC{best_week_cut}'\n",
    "\n",
    "df_sub_temp = df_sub_raw.copy()\n",
    "df_sub_temp['prediction'] = ' '.join(local_popular_iids)\n",
    "df_sub_temp.to_csv(f'data/subs/{sub_name}_LB.csv.gz', index=False)\n",
    "\n",
    "del df_sub_temp\n",
    "del local_popular_iids\n",
    "del df_iid_count_temp\n",
    "del df_log_temp"
   ]
  },
  {
   "cell_type": "markdown",
   "metadata": {},
   "source": [
    "# ascending week popular"
   ]
  },
  {
   "cell_type": "code",
   "execution_count": 14,
   "metadata": {},
   "outputs": [],
   "source": [
    "last_week = df_log_CV_train_valid['week'].max()\n",
    "min_week = df_log_CV_train_valid['week'].min()\n",
    "\n",
    "df_item_temp = df_item_CV.copy()\n",
    "for week in list(range(last_week + 1)):\n",
    "    df_log_temp = df_log_CV_train_valid[df_log_CV_train_valid['week'] == week]\n",
    "    df_iid_count_temp = df_log_temp[['article_id', 'customer_id']].groupby('article_id').count()\n",
    "    df_iid_count_temp.columns = [f'week_{week}_count']\n",
    "    df_item_temp = df_item_temp.merge(df_iid_count_temp, how='left', left_index=True, right_index=True)\n",
    "    df_item_temp[f'week_{week}_count'].fillna(0, inplace=True)\n",
    "\n",
    "def ascender(weight, power, ss):\n",
    "    return np.power(weight, power) * ss\n",
    "\n",
    "week_cuts = list(range(2, last_week - min_week + 2))\n",
    "\n",
    "powers = [i / 10 for i in range(1, 10)] + [i / 2 for i in range(2, 20)] + [i * 10 for i in range(1, 6)] + [100]\n",
    "powers = [float(power) for power in powers]\n",
    "\n",
    "results = []\n",
    "for week_cut in week_cuts:\n",
    "    mAPs = []\n",
    "    for power in powers:\n",
    "        df_item_temp['awp'] = 0\n",
    "        start_week = last_week - week_cut + 1\n",
    "        for week in range(start_week, last_week + 1):\n",
    "            weight = (week - start_week + 1) / (last_week - start_week + 2)\n",
    "            df_item_temp['awp'] += ascender(weight, power, df_item_temp[f'week_{week}_count'])\n",
    "        ascending_popular_iids = list(df_item_temp['awp'].sort_values(ascending=False).iloc[:12].index)\n",
    "        APs = []\n",
    "        for uid, aiidset in uid2aiidset_CV.items():\n",
    "            AP = utils.calc_ap(aiidset, ascending_popular_iids)\n",
    "            APs.append(AP)\n",
    "        mAP = np.array(APs).mean()\n",
    "        mAPs.append(mAP)\n",
    "    best_power_index = np.argsort(mAPs)[::-1][0]\n",
    "    results.append((best_power_index, mAPs[best_power_index]))"
   ]
  },
  {
   "cell_type": "code",
   "execution_count": 15,
   "metadata": {},
   "outputs": [
    {
     "data": {
      "text/plain": [
       "[<matplotlib.lines.Line2D at 0x2bf8ca15600>]"
      ]
     },
     "execution_count": 15,
     "metadata": {},
     "output_type": "execute_result"
    },
    {
     "data": {
      "image/png": "[encoded data removed]",
      "text/plain": [
       "<Figure size 432x288 with 1 Axes>"
      ]
     },
     "metadata": {
      "needs_background": "light"
     },
     "output_type": "display_data"
    }
   ],
   "source": [
    "plt.plot(week_cuts, [mAP for _, mAP in results])"
   ]
  },
  {
   "cell_type": "code",
   "execution_count": 16,
   "metadata": {},
   "outputs": [
    {
     "name": "stdout",
     "output_type": "stream",
     "text": [
      "AWP_WC6_P0.8_CV: 0.6497%\n"
     ]
    }
   ],
   "source": [
    "best_week_cut_index = np.argsort([mAP for _, mAP in results])[-1]\n",
    "best_power_index, mAP = results[best_week_cut_index]\n",
    "best_week_cut = week_cuts[best_week_cut_index]\n",
    "best_power = powers[best_power_index]\n",
    "\n",
    "print(f\"AWP_WC{best_week_cut}_P{best_power}_CV: {100 * mAP:.04f}%\")\n",
    "\n",
    "del results\n",
    "del APs\n",
    "del mAPs\n",
    "del ascending_popular_iids\n",
    "\n",
    "del df_item_temp\n",
    "del df_log_temp\n",
    "del df_iid_count_temp"
   ]
  },
  {
   "cell_type": "code",
   "execution_count": 17,
   "metadata": {},
   "outputs": [],
   "source": [
    "last_week = df_log_LB['week'].max()\n",
    "\n",
    "start_week = last_week - best_week_cut + 1\n",
    "\n",
    "df_item_temp = df_item_LB.copy()\n",
    "for week in range(start_week, last_week + 1):\n",
    "    df_log_temp = df_log_LB[df_log_LB['week'] == week]\n",
    "    df_iid_count_temp = df_log_temp[['article_id', 'customer_id']].groupby('article_id').count()\n",
    "    df_iid_count_temp.columns = [f'week_{week}_count']\n",
    "    df_item_temp = df_item_temp.merge(df_iid_count_temp, how='left', left_index=True, right_index=True)\n",
    "    df_item_temp[f'week_{week}_count'].fillna(0, inplace=True)\n",
    "\n",
    "df_item_temp['awp'] = 0\n",
    "for week in range(start_week, last_week + 1):\n",
    "    weight = (week - min_week + 1) / (last_week - min_week + 2)\n",
    "    df_item_temp['awp'] += ascender(weight, power, df_item_temp[f'week_{week}_count'])\n",
    "ascending_popular_iids = list(df_item_temp['awp'].sort_values(ascending=False).iloc[:12].index)\n",
    "\n",
    "sub_name = f'AWP_WC{best_week_cut}_P{best_power}'\n",
    "\n",
    "df_sub_temp = df_sub_raw.copy()\n",
    "df_sub_temp['prediction'] = ' '.join(ascending_popular_iids)\n",
    "df_sub_temp.to_csv(f'data/subs/{sub_name}_LB.csv.gz', index=False)\n",
    "\n",
    "del df_sub_temp\n",
    "del ascending_popular_iids\n",
    "\n",
    "del df_item_temp\n",
    "del df_iid_count_temp\n",
    "del df_log_temp"
   ]
  },
  {
   "cell_type": "markdown",
   "metadata": {},
   "source": [
    "# recent bought"
   ]
  },
  {
   "cell_type": "code",
   "execution_count": 18,
   "metadata": {},
   "outputs": [],
   "source": [
    "best_week_cut = 4\n",
    "\n",
    "last_week = df_log_CV_train_valid['week'].max()\n",
    "\n",
    "df_log_temp = df_log_CV_train_valid[df_log_CV_train_valid['week'] > last_week - best_week_cut]\n",
    "df_iid_count_temp = df_log_temp[['article_id', 'customer_id']].groupby('article_id').count()\n",
    "df_iid_count_temp.columns = ['count']\n",
    "local_popular_iids = list(df_iid_count_temp.sort_values('count', ascending=False).iloc[:12].index)\n",
    "\n",
    "del df_iid_count_temp\n",
    "del df_log_temp"
   ]
  },
  {
   "cell_type": "code",
   "execution_count": 19,
   "metadata": {},
   "outputs": [],
   "source": [
    "max_week_cut = 20\n",
    "week_cuts = list(range(1, max_week_cut + 1))\n",
    "\n",
    "results = []\n",
    "for week_cut in list(range(1, max_week_cut + 1)):\n",
    "    df_log_temp = df_log_CV_train_valid[df_log_CV_train_valid['week'] > (last_week - week_cut)]\n",
    "    df_iid_count_temp = df_log_temp[['article_id', 'customer_id']].groupby('article_id').count()\n",
    "    df_iid_count_temp.columns = ['count']\n",
    "    df_log_temp = df_log_temp.merge(df_iid_count_temp, how='left', left_on='article_id', right_index=True)\n",
    "    df_log_temp = df_log_temp.sort_values(['t_dat', 'count'], ascending=[False, False])\n",
    "    df_recent_boughts = df_log_temp.groupby('customer_id').agg({'article_id': lambda x: list(x)[:12]})\n",
    "    df_recent_boughts.columns = ['recent_boughts']\n",
    "    APs = []\n",
    "    for uid, aiidset in uid2aiidset_CV.items():\n",
    "        predictions = []\n",
    "        try:\n",
    "            recent_bought_iids = df_recent_boughts.loc[uid, 'recent_boughts']\n",
    "        except KeyError:\n",
    "            recent_bought_iids = []\n",
    "        for iid in recent_bought_iids:\n",
    "            if iid in predictions:\n",
    "                continue\n",
    "            predictions.append(iid)\n",
    "        for iid in local_popular_iids:\n",
    "            if iid in predictions:\n",
    "                continue\n",
    "            predictions.append(iid)\n",
    "        AP = utils.calc_ap(aiidset, predictions[:12])\n",
    "        APs.append(AP)\n",
    "    mAP = np.array(APs).mean()\n",
    "    results.append((week_cut, mAP))"
   ]
  },
  {
   "cell_type": "code",
   "execution_count": 20,
   "metadata": {},
   "outputs": [
    {
     "data": {
      "text/plain": [
       "[<matplotlib.lines.Line2D at 0x2bfccbd2200>]"
      ]
     },
     "execution_count": 20,
     "metadata": {},
     "output_type": "execute_result"
    },
    {
     "data": {
      "image/png": "[encoded data removed]",
      "text/plain": [
       "<Figure size 432x288 with 1 Axes>"
      ]
     },
     "metadata": {
      "needs_background": "light"
     },
     "output_type": "display_data"
    }
   ],
   "source": [
    "plt.plot(week_cuts, [mAP for _, mAP in results])"
   ]
  },
  {
   "cell_type": "code",
   "execution_count": 21,
   "metadata": {},
   "outputs": [
    {
     "name": "stdout",
     "output_type": "stream",
     "text": [
      "RB_WC8_CV: 2.0657%\n"
     ]
    }
   ],
   "source": [
    "week_cut, mAP = sorted(results, key=lambda x: x[1], reverse=True)[0]\n",
    "print(f\"RB_WC{week_cut}_CV: {100 * mAP:.04f}%\")\n",
    "\n",
    "del results\n",
    "del APs\n",
    "del df_recent_boughts\n",
    "del recent_bought_iids\n",
    "del local_popular_iids\n",
    "\n",
    "del df_iid_count_temp\n",
    "del df_log_temp"
   ]
  },
  {
   "cell_type": "code",
   "execution_count": 22,
   "metadata": {},
   "outputs": [],
   "source": [
    "best_week_cut = 4\n",
    "\n",
    "last_week = df_log_LB['week'].max()\n",
    "\n",
    "df_log_temp = df_log_LB[df_log_LB['week'] > last_week - best_week_cut]\n",
    "df_iid_count_temp = df_log_temp[['article_id', 'customer_id']].groupby('article_id').count()\n",
    "df_iid_count_temp.columns = ['count']\n",
    "local_popular_iids = list(df_iid_count_temp.sort_values('count', ascending=False).iloc[:12].index)\n",
    "\n",
    "del df_iid_count_temp\n",
    "del df_log_temp"
   ]
  },
  {
   "cell_type": "code",
   "execution_count": 23,
   "metadata": {},
   "outputs": [],
   "source": [
    "df_log_temp = df_log_LB[df_log_LB['week'] > (last_week - week_cut)]\n",
    "df_iid_count_temp = df_log_temp[['article_id', 'customer_id']].groupby('article_id').count()\n",
    "df_iid_count_temp.columns = ['count']\n",
    "df_log_temp = df_log_temp.merge(df_iid_count_temp, how='left', left_on='article_id', right_index=True)\n",
    "df_log_temp = df_log_temp.sort_values(['t_dat', 'count'], ascending=[False, False])\n",
    "df_recent_boughts = df_log_temp.groupby('customer_id').agg({'article_id': lambda x: list(x)[:12]})\n",
    "df_recent_boughts.columns = ['recent_boughts']\n",
    "\n",
    "df_sub_temp = df_sub_raw.copy()\n",
    "\n",
    "sub_rows = []\n",
    "uids = df_sub_temp['customer_id'].to_list()\n",
    "for uid in uids:\n",
    "    predictions = []\n",
    "    try:\n",
    "        recent_bought_iids = df_recent_boughts.loc[uid, 'recent_boughts']\n",
    "    except KeyError:\n",
    "        recent_bought_iids = []\n",
    "    for iid in recent_bought_iids:\n",
    "        if iid in predictions:\n",
    "            continue\n",
    "        predictions.append(iid)\n",
    "    for iid in local_popular_iids:\n",
    "        if iid in predictions:\n",
    "            continue\n",
    "        predictions.append(iid)\n",
    "    sub_rows.append((uid, ' '.join(predictions[:12])))\n",
    "\n",
    "sub_name = f'RB_WD{week_cut}'\n",
    "\n",
    "df_sub_temp = pd.DataFrame(sub_rows)\n",
    "df_sub_temp.columns = ['customer_id', 'prediction']\n",
    "df_sub_temp.to_csv(f'data/subs/{sub_name}_LB.csv.gz', index=False)\n",
    "\n",
    "del df_recent_boughts\n",
    "del recent_bought_iids\n",
    "del local_popular_iids\n",
    "\n",
    "del df_iid_count_temp\n",
    "del df_log_temp"
   ]
  },
  {
   "cell_type": "code",
   "execution_count": null,
   "metadata": {},
   "outputs": [],
   "source": []
  }
 ],
 "metadata": {
  "kernelspec": {
   "display_name": "Python 3.10.0 64-bit",
   "language": "python",
   "name": "python3"
  },
  "language_info": {
   "codemirror_mode": {
    "name": "ipython",
    "version": 3
   },
   "file_extension": ".py",
   "mimetype": "text/x-python",
   "name": "python",
   "nbconvert_exporter": "python",
   "pygments_lexer": "ipython3",
   "version": "3.10.0"
  },
  "orig_nbformat": 4,
  "vscode": {
   "interpreter": {
    "hash": "efb881ff8f996c0b6dd8311259b4eab25403411b810201cbba5a110d03ebe070"
   }
  }
 },
 "nbformat": 4,
 "nbformat_minor": 2
}
