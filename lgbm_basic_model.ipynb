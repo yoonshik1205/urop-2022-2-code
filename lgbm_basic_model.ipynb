{
  "cells": [
    {
      "cell_type": "code",
      "source": [
        "[1]*10**11"
      ],
      "metadata": {
        "id": "rGve3bvOMvuz"
      },
      "execution_count": null,
      "outputs": []
    },
    {
      "cell_type": "code",
      "source": [
        "from google.colab import drive\n",
        "drive.mount('/content/drive')"
      ],
      "metadata": {
        "colab": {
          "base_uri": "https://localhost:8080/"
        },
        "id": "xrc1AC4r3JDj",
        "outputId": "f205f507-a4ee-4092-a15a-de61047a2b58"
      },
      "execution_count": null,
      "outputs": [
        {
          "output_type": "stream",
          "name": "stdout",
          "text": [
            "Mounted at /content/drive\n"
          ]
        }
      ]
    },
    {
      "cell_type": "code",
      "source": [
        "!cp -r /content/drive/MyDrive/datasets_for_colab_temp/urop/* /content"
      ],
      "metadata": {
        "id": "CZF5ozxm709W"
      },
      "execution_count": null,
      "outputs": []
    },
    {
      "cell_type": "code",
      "source": [
        "!git clone --recursive https://github.com/Microsoft/LightGBM\n",
        "!cd LightGBM && rm -rf build && mkdir build && cd build && cmake -DUSE_GPU=1 ../../LightGBM && make -j4 && cd ../python-package && python3 setup.py install --precompile --gpu;"
      ],
      "metadata": {
        "colab": {
          "base_uri": "https://localhost:8080/"
        },
        "id": "pxahD5_KcoyU",
        "outputId": "5a166033-0f42-4064-a0b1-e23b6a014a61"
      },
      "execution_count": null,
      "outputs": [
        {
          "output_type": "stream",
          "name": "stdout",
          "text": [
            "Cloning into 'LightGBM'...\n",
            "remote: Enumerating objects: 27933, done.\u001b[K\n",
            "remote: Counting objects: 100% (3388/3388), done.\u001b[K\n",
            "remote: Compressing objects: 100% (543/543), done.\u001b[K\n",
            "remote: Total 27933 (delta 3102), reused 2999 (delta 2833), pack-reused 24545\u001b[K\n",
            "Receiving objects: 100% (27933/27933), 19.70 MiB | 15.09 MiB/s, done.\n",
            "Resolving deltas: 100% (20698/20698), done.\n",
            "Submodule 'include/boost/compute' (https://github.com/boostorg/compute) registered for path 'external_libs/compute'\n",
            "Submodule 'eigen' (https://gitlab.com/libeigen/eigen.git) registered for path 'external_libs/eigen'\n",
            "Submodule 'external_libs/fast_double_parser' (https://github.com/lemire/fast_double_parser.git) registered for path 'external_libs/fast_double_parser'\n",
            "Submodule 'external_libs/fmt' (https://github.com/fmtlib/fmt.git) registered for path 'external_libs/fmt'\n",
            "Cloning into '/content/LightGBM/external_libs/compute'...\n",
            "remote: Enumerating objects: 21733, done.        \n",
            "remote: Counting objects: 100% (5/5), done.        \n",
            "remote: Compressing objects: 100% (4/4), done.        \n",
            "remote: Total 21733 (delta 1), reused 3 (delta 1), pack-reused 21728        \n",
            "Receiving objects: 100% (21733/21733), 8.51 MiB | 16.92 MiB/s, done.\n",
            "Resolving deltas: 100% (17567/17567), done.\n",
            "Cloning into '/content/LightGBM/external_libs/eigen'...\n",
            "remote: Enumerating objects: 116961, done.        \n",
            "remote: Counting objects: 100% (54/54), done.        \n",
            "remote: Compressing objects: 100% (31/31), done.        \n",
            "remote: Total 116961 (delta 24), reused 51 (delta 23), pack-reused 116907        \n",
            "Receiving objects: 100% (116961/116961), 102.44 MiB | 29.38 MiB/s, done.\n",
            "Resolving deltas: 100% (96599/96599), done.\n",
            "Cloning into '/content/LightGBM/external_libs/fast_double_parser'...\n",
            "remote: Enumerating objects: 726, done.        \n",
            "remote: Counting objects: 100% (125/125), done.        \n",
            "remote: Compressing objects: 100% (33/33), done.        \n",
            "remote: Total 726 (delta 98), reused 97 (delta 88), pack-reused 601        \n",
            "Receiving objects: 100% (726/726), 821.43 KiB | 1.48 MiB/s, done.\n",
            "Resolving deltas: 100% (369/369), done.\n",
            "Cloning into '/content/LightGBM/external_libs/fmt'...\n",
            "remote: Enumerating objects: 30682, done.        \n",
            "remote: Counting objects: 100% (676/676), done.        \n",
            "remote: Compressing objects: 100% (129/129), done.        \n",
            "remote: Total 30682 (delta 586), reused 584 (delta 536), pack-reused 30006        \n",
            "Receiving objects: 100% (30682/30682), 14.52 MiB | 22.62 MiB/s, done.\n",
            "Resolving deltas: 100% (20736/20736), done.\n",
            "Submodule path 'external_libs/compute': checked out '36350b7de849300bd3d72a05d8bf890ca405a014'\n",
            "Submodule path 'external_libs/eigen': checked out '3147391d946bb4b6c68edd901f2add6ac1f31f8c'\n",
            "Submodule path 'external_libs/fast_double_parser': checked out 'ace60646c02dc54c57f19d644e49a61e7e7758ec'\n",
            "Submodule 'benchmark/dependencies/abseil-cpp' (https://github.com/abseil/abseil-cpp.git) registered for path 'external_libs/fast_double_parser/benchmarks/dependencies/abseil-cpp'\n",
            "Submodule 'benchmark/dependencies/double-conversion' (https://github.com/google/double-conversion.git) registered for path 'external_libs/fast_double_parser/benchmarks/dependencies/double-conversion'\n",
            "Cloning into '/content/LightGBM/external_libs/fast_double_parser/benchmarks/dependencies/abseil-cpp'...\n",
            "remote: Enumerating objects: 18397, done.        \n",
            "remote: Counting objects: 100% (40/40), done.        \n",
            "remote: Compressing objects: 100% (32/32), done.        \n",
            "remote: Total 18397 (delta 14), reused 20 (delta 8), pack-reused 18357        \n",
            "Receiving objects: 100% (18397/18397), 11.57 MiB | 14.86 MiB/s, done.\n",
            "Resolving deltas: 100% (14288/14288), done.\n",
            "Cloning into '/content/LightGBM/external_libs/fast_double_parser/benchmarks/dependencies/double-conversion'...\n",
            "remote: Enumerating objects: 1352, done.        \n",
            "remote: Counting objects: 100% (196/196), done.        \n",
            "remote: Compressing objects: 100% (103/103), done.        \n",
            "remote: Total 1352 (delta 108), reused 156 (delta 86), pack-reused 1156        \n",
            "Receiving objects: 100% (1352/1352), 7.15 MiB | 7.81 MiB/s, done.\n",
            "Resolving deltas: 100% (880/880), done.\n",
            "Submodule path 'external_libs/fast_double_parser/benchmarks/dependencies/abseil-cpp': checked out 'd936052d32a5b7ca08b0199a6724724aea432309'\n",
            "Submodule path 'external_libs/fast_double_parser/benchmarks/dependencies/double-conversion': checked out 'f4cb2384efa55dee0e6652f8674b05763441ab09'\n",
            "Submodule path 'external_libs/fmt': checked out 'b6f4ceaed0a0a24ccf575fab6c56dd50ccf6f1a9'\n",
            "-- The C compiler identification is GNU 7.5.0\n",
            "-- The CXX compiler identification is GNU 7.5.0\n",
            "-- Detecting C compiler ABI info\n",
            "-- Detecting C compiler ABI info - done\n",
            "-- Check for working C compiler: /usr/bin/cc - skipped\n",
            "-- Detecting C compile features\n",
            "-- Detecting C compile features - done\n",
            "-- Detecting CXX compiler ABI info\n",
            "-- Detecting CXX compiler ABI info - done\n",
            "-- Check for working CXX compiler: /usr/bin/c++ - skipped\n",
            "-- Detecting CXX compile features\n",
            "-- Detecting CXX compile features - done\n",
            "-- Found OpenMP_C: -fopenmp (found version \"4.5\") \n",
            "-- Found OpenMP_CXX: -fopenmp (found version \"4.5\") \n",
            "-- Found OpenMP: TRUE (found version \"4.5\")  \n",
            "-- Looking for CL_VERSION_2_2\n",
            "-- Looking for CL_VERSION_2_2 - found\n",
            "-- Found OpenCL: /usr/lib/x86_64-linux-gnu/libOpenCL.so (found version \"2.2\") \n",
            "-- OpenCL include directory: /usr/include\n",
            "-- Found Boost: /usr/include (found suitable version \"1.65.1\", minimum required is \"1.56.0\") found components: filesystem system \n",
            "-- Performing Test MM_PREFETCH\n",
            "-- Performing Test MM_PREFETCH - Success\n",
            "-- Using _mm_prefetch\n",
            "-- Performing Test MM_MALLOC\n",
            "-- Performing Test MM_MALLOC - Success\n",
            "-- Using _mm_malloc\n",
            "-- Configuring done\n",
            "-- Generating done\n",
            "-- Build files have been written to: /content/LightGBM/build\n",
            "[  1%] \u001b[32mBuilding CXX object CMakeFiles/lightgbm_capi_objs.dir/src/c_api.cpp.o\u001b[0m\n",
            "[  3%] \u001b[32mBuilding CXX object CMakeFiles/lightgbm_objs.dir/src/boosting/boosting.cpp.o\u001b[0m\n",
            "[  5%] \u001b[32mBuilding CXX object CMakeFiles/lightgbm_objs.dir/src/boosting/cuda/cuda_score_updater.cpp.o\u001b[0m\n",
            "[  7%] \u001b[32mBuilding CXX object CMakeFiles/lightgbm_objs.dir/src/boosting/gbdt.cpp.o\u001b[0m\n",
            "[  9%] \u001b[32mBuilding CXX object CMakeFiles/lightgbm_objs.dir/src/boosting/gbdt_model_text.cpp.o\u001b[0m\n",
            "[ 11%] \u001b[32mBuilding CXX object CMakeFiles/lightgbm_objs.dir/src/boosting/gbdt_prediction.cpp.o\u001b[0m\n",
            "[ 13%] \u001b[32mBuilding CXX object CMakeFiles/lightgbm_objs.dir/src/boosting/prediction_early_stop.cpp.o\u001b[0m\n",
            "[ 15%] \u001b[32mBuilding CXX object CMakeFiles/lightgbm_objs.dir/src/cuda/cuda_utils.cpp.o\u001b[0m\n",
            "[ 17%] \u001b[32mBuilding CXX object CMakeFiles/lightgbm_objs.dir/src/io/bin.cpp.o\u001b[0m\n",
            "[ 19%] \u001b[32mBuilding CXX object CMakeFiles/lightgbm_objs.dir/src/io/config.cpp.o\u001b[0m\n",
            "[ 21%] \u001b[32mBuilding CXX object CMakeFiles/lightgbm_objs.dir/src/io/config_auto.cpp.o\u001b[0m\n",
            "[ 21%] Built target lightgbm_capi_objs\n",
            "[ 23%] \u001b[32mBuilding CXX object CMakeFiles/lightgbm_objs.dir/src/io/cuda/cuda_column_data.cpp.o\u001b[0m\n",
            "[ 25%] \u001b[32mBuilding CXX object CMakeFiles/lightgbm_objs.dir/src/io/cuda/cuda_metadata.cpp.o\u001b[0m\n",
            "[ 27%] \u001b[32mBuilding CXX object CMakeFiles/lightgbm_objs.dir/src/io/cuda/cuda_row_data.cpp.o\u001b[0m\n",
            "[ 29%] \u001b[32mBuilding CXX object CMakeFiles/lightgbm_objs.dir/src/io/cuda/cuda_tree.cpp.o\u001b[0m\n",
            "[ 31%] \u001b[32mBuilding CXX object CMakeFiles/lightgbm_objs.dir/src/io/dataset.cpp.o\u001b[0m\n",
            "[ 33%] \u001b[32mBuilding CXX object CMakeFiles/lightgbm_objs.dir/src/io/dataset_loader.cpp.o\u001b[0m\n",
            "[ 35%] \u001b[32mBuilding CXX object CMakeFiles/lightgbm_objs.dir/src/io/file_io.cpp.o\u001b[0m\n",
            "[ 37%] \u001b[32mBuilding CXX object CMakeFiles/lightgbm_objs.dir/src/io/json11.cpp.o\u001b[0m\n",
            "[ 39%] \u001b[32mBuilding CXX object CMakeFiles/lightgbm_objs.dir/src/io/metadata.cpp.o\u001b[0m\n",
            "[ 41%] \u001b[32mBuilding CXX object CMakeFiles/lightgbm_objs.dir/src/io/parser.cpp.o\u001b[0m\n",
            "[ 43%] \u001b[32mBuilding CXX object CMakeFiles/lightgbm_objs.dir/src/io/train_share_states.cpp.o\u001b[0m\n",
            "[ 45%] \u001b[32mBuilding CXX object CMakeFiles/lightgbm_objs.dir/src/io/tree.cpp.o\u001b[0m\n",
            "[ 47%] \u001b[32mBuilding CXX object CMakeFiles/lightgbm_objs.dir/src/metric/dcg_calculator.cpp.o\u001b[0m\n",
            "[ 49%] \u001b[32mBuilding CXX object CMakeFiles/lightgbm_objs.dir/src/metric/metric.cpp.o\u001b[0m\n",
            "[ 50%] \u001b[32mBuilding CXX object CMakeFiles/lightgbm_objs.dir/src/network/linker_topo.cpp.o\u001b[0m\n",
            "[ 52%] \u001b[32mBuilding CXX object CMakeFiles/lightgbm_objs.dir/src/network/linkers_mpi.cpp.o\u001b[0m\n",
            "[ 54%] \u001b[32mBuilding CXX object CMakeFiles/lightgbm_objs.dir/src/network/linkers_socket.cpp.o\u001b[0m\n",
            "[ 56%] \u001b[32mBuilding CXX object CMakeFiles/lightgbm_objs.dir/src/network/network.cpp.o\u001b[0m\n",
            "[ 58%] \u001b[32mBuilding CXX object CMakeFiles/lightgbm_objs.dir/src/objective/cuda/cuda_binary_objective.cpp.o\u001b[0m\n",
            "[ 60%] \u001b[32mBuilding CXX object CMakeFiles/lightgbm_objs.dir/src/objective/cuda/cuda_multiclass_objective.cpp.o\u001b[0m\n",
            "[ 62%] \u001b[32mBuilding CXX object CMakeFiles/lightgbm_objs.dir/src/objective/cuda/cuda_rank_objective.cpp.o\u001b[0m\n",
            "[ 64%] \u001b[32mBuilding CXX object CMakeFiles/lightgbm_objs.dir/src/objective/cuda/cuda_regression_objective.cpp.o\u001b[0m\n",
            "[ 66%] \u001b[32mBuilding CXX object CMakeFiles/lightgbm_objs.dir/src/objective/objective_function.cpp.o\u001b[0m\n",
            "[ 68%] \u001b[32mBuilding CXX object CMakeFiles/lightgbm_objs.dir/src/treelearner/cuda/cuda_best_split_finder.cpp.o\u001b[0m\n",
            "[ 70%] \u001b[32mBuilding CXX object CMakeFiles/lightgbm_objs.dir/src/treelearner/cuda/cuda_data_partition.cpp.o\u001b[0m\n",
            "[ 72%] \u001b[32mBuilding CXX object CMakeFiles/lightgbm_objs.dir/src/treelearner/cuda/cuda_histogram_constructor.cpp.o\u001b[0m\n",
            "[ 74%] \u001b[32mBuilding CXX object CMakeFiles/lightgbm_objs.dir/src/treelearner/cuda/cuda_leaf_splits.cpp.o\u001b[0m\n",
            "[ 76%] \u001b[32mBuilding CXX object CMakeFiles/lightgbm_objs.dir/src/treelearner/cuda/cuda_single_gpu_tree_learner.cpp.o\u001b[0m\n",
            "[ 78%] \u001b[32mBuilding CXX object CMakeFiles/lightgbm_objs.dir/src/treelearner/cuda_tree_learner.cpp.o\u001b[0m\n",
            "[ 80%] \u001b[32mBuilding CXX object CMakeFiles/lightgbm_objs.dir/src/treelearner/data_parallel_tree_learner.cpp.o\u001b[0m\n",
            "[ 82%] \u001b[32mBuilding CXX object CMakeFiles/lightgbm_objs.dir/src/treelearner/feature_parallel_tree_learner.cpp.o\u001b[0m\n",
            "[ 84%] \u001b[32mBuilding CXX object CMakeFiles/lightgbm_objs.dir/src/treelearner/gpu_tree_learner.cpp.o\u001b[0m\n",
            "[ 86%] \u001b[32mBuilding CXX object CMakeFiles/lightgbm_objs.dir/src/treelearner/linear_tree_learner.cpp.o\u001b[0m\n",
            "[ 88%] \u001b[32mBuilding CXX object CMakeFiles/lightgbm_objs.dir/src/treelearner/serial_tree_learner.cpp.o\u001b[0m\n",
            "[ 90%] \u001b[32mBuilding CXX object CMakeFiles/lightgbm_objs.dir/src/treelearner/tree_learner.cpp.o\u001b[0m\n",
            "[ 92%] \u001b[32mBuilding CXX object CMakeFiles/lightgbm_objs.dir/src/treelearner/voting_parallel_tree_learner.cpp.o\u001b[0m\n",
            "[ 92%] Built target lightgbm_objs\n",
            "[ 94%] \u001b[32m\u001b[1mLinking CXX shared library ../lib_lightgbm.so\u001b[0m\n",
            "[ 96%] \u001b[32mBuilding CXX object CMakeFiles/lightgbm.dir/src/main.cpp.o\u001b[0m\n",
            "[ 98%] \u001b[32mBuilding CXX object CMakeFiles/lightgbm.dir/src/application/application.cpp.o\u001b[0m\n",
            "[ 98%] Built target _lightgbm\n",
            "[100%] \u001b[32m\u001b[1mLinking CXX executable ../lightgbm\u001b[0m\n",
            "[100%] Built target lightgbm\n",
            "running install\n",
            "running build\n",
            "running build_py\n",
            "INFO:root:Generating grammar tables from /usr/lib/python3.7/lib2to3/Grammar.txt\n",
            "INFO:root:Generating grammar tables from /usr/lib/python3.7/lib2to3/PatternGrammar.txt\n",
            "creating build\n",
            "creating build/lib\n",
            "creating build/lib/lightgbm\n",
            "copying lightgbm/libpath.py -> build/lib/lightgbm\n",
            "copying lightgbm/basic.py -> build/lib/lightgbm\n",
            "copying lightgbm/dask.py -> build/lib/lightgbm\n",
            "copying lightgbm/__init__.py -> build/lib/lightgbm\n",
            "copying lightgbm/plotting.py -> build/lib/lightgbm\n",
            "copying lightgbm/callback.py -> build/lib/lightgbm\n",
            "copying lightgbm/compat.py -> build/lib/lightgbm\n",
            "copying lightgbm/engine.py -> build/lib/lightgbm\n",
            "copying lightgbm/sklearn.py -> build/lib/lightgbm\n",
            "running egg_info\n",
            "creating lightgbm.egg-info\n",
            "writing lightgbm.egg-info/PKG-INFO\n",
            "writing dependency_links to lightgbm.egg-info/dependency_links.txt\n",
            "writing requirements to lightgbm.egg-info/requires.txt\n",
            "writing top-level names to lightgbm.egg-info/top_level.txt\n",
            "writing manifest file 'lightgbm.egg-info/SOURCES.txt'\n",
            "reading manifest template 'MANIFEST.in'\n",
            "no previously-included directories found matching 'build'\n",
            "warning: no files found matching 'LICENSE'\n",
            "warning: no files found matching '*.txt'\n",
            "warning: no files found matching '*.so' under directory 'lightgbm'\n",
            "warning: no files found matching 'compile/CMakeLists.txt'\n",
            "warning: no files found matching 'compile/cmake/IntegratedOpenCL.cmake'\n",
            "warning: no files found matching '*.so' under directory 'compile'\n",
            "warning: no files found matching '*.dll' under directory 'compile/Release'\n",
            "warning: no files found matching 'compile/external_libs/compute/CMakeLists.txt'\n",
            "warning: no files found matching '*' under directory 'compile/external_libs/compute/cmake'\n",
            "warning: no files found matching '*' under directory 'compile/external_libs/compute/include'\n",
            "warning: no files found matching '*' under directory 'compile/external_libs/compute/meta'\n",
            "warning: no files found matching 'compile/external_libs/eigen/CMakeLists.txt'\n",
            "warning: no files found matching 'compile/external_libs/eigen/Eigen/Cholesky'\n",
            "warning: no files found matching 'compile/external_libs/eigen/Eigen/Core'\n",
            "warning: no files found matching 'compile/external_libs/eigen/Eigen/Dense'\n",
            "warning: no files found matching 'compile/external_libs/eigen/Eigen/Eigenvalues'\n",
            "warning: no files found matching 'compile/external_libs/eigen/Eigen/Geometry'\n",
            "warning: no files found matching 'compile/external_libs/eigen/Eigen/Householder'\n",
            "warning: no files found matching 'compile/external_libs/eigen/Eigen/Jacobi'\n",
            "warning: no files found matching 'compile/external_libs/eigen/Eigen/LU'\n",
            "warning: no files found matching 'compile/external_libs/eigen/Eigen/QR'\n",
            "warning: no files found matching 'compile/external_libs/eigen/Eigen/SVD'\n",
            "warning: no files found matching '*' under directory 'compile/external_libs/eigen/Eigen/src/Cholesky'\n",
            "warning: no files found matching '*' under directory 'compile/external_libs/eigen/Eigen/src/Core'\n",
            "warning: no files found matching '*' under directory 'compile/external_libs/eigen/Eigen/src/Eigenvalues'\n",
            "warning: no files found matching '*' under directory 'compile/external_libs/eigen/Eigen/src/Geometry'\n",
            "warning: no files found matching '*' under directory 'compile/external_libs/eigen/Eigen/src/Householder'\n",
            "warning: no files found matching '*' under directory 'compile/external_libs/eigen/Eigen/src/Jacobi'\n",
            "warning: no files found matching '*' under directory 'compile/external_libs/eigen/Eigen/src/LU'\n",
            "warning: no files found matching '*' under directory 'compile/external_libs/eigen/Eigen/src/misc'\n",
            "warning: no files found matching '*' under directory 'compile/external_libs/eigen/Eigen/src/plugins'\n",
            "warning: no files found matching '*' under directory 'compile/external_libs/eigen/Eigen/src/QR'\n",
            "warning: no files found matching '*' under directory 'compile/external_libs/eigen/Eigen/src/SVD'\n",
            "warning: no files found matching 'compile/external_libs/fast_double_parser/CMakeLists.txt'\n",
            "warning: no files found matching 'compile/external_libs/fast_double_parser/LICENSE'\n",
            "warning: no files found matching 'compile/external_libs/fast_double_parser/LICENSE.BSL'\n",
            "warning: no files found matching '*' under directory 'compile/external_libs/fast_double_parser/include'\n",
            "warning: no files found matching 'compile/external_libs/fmt/CMakeLists.txt'\n",
            "warning: no files found matching 'compile/external_libs/fmt/LICENSE.rst'\n",
            "warning: no files found matching '*' under directory 'compile/external_libs/fmt/include'\n",
            "warning: no files found matching '*' under directory 'compile/include'\n",
            "warning: no files found matching '*' under directory 'compile/src'\n",
            "warning: no files found matching 'LightGBM.sln' under directory 'compile/windows'\n",
            "warning: no files found matching 'LightGBM.vcxproj' under directory 'compile/windows'\n",
            "warning: no files found matching '*.dll' under directory 'compile/windows/x64/DLL'\n",
            "warning: no previously-included files matching '*.py[co]' found anywhere in distribution\n",
            "warning: no previously-included files found matching 'compile/external_libs/compute/.git'\n",
            "writing manifest file 'lightgbm.egg-info/SOURCES.txt'\n",
            "copying lightgbm/VERSION.txt -> build/lib/lightgbm\n",
            "running install_lib\n",
            "copying build/lib/lightgbm/VERSION.txt -> /usr/local/lib/python3.7/dist-packages/lightgbm\n",
            "copying build/lib/lightgbm/libpath.py -> /usr/local/lib/python3.7/dist-packages/lightgbm\n",
            "copying build/lib/lightgbm/basic.py -> /usr/local/lib/python3.7/dist-packages/lightgbm\n",
            "copying build/lib/lightgbm/dask.py -> /usr/local/lib/python3.7/dist-packages/lightgbm\n",
            "copying build/lib/lightgbm/__init__.py -> /usr/local/lib/python3.7/dist-packages/lightgbm\n",
            "copying build/lib/lightgbm/plotting.py -> /usr/local/lib/python3.7/dist-packages/lightgbm\n",
            "copying build/lib/lightgbm/callback.py -> /usr/local/lib/python3.7/dist-packages/lightgbm\n",
            "copying build/lib/lightgbm/compat.py -> /usr/local/lib/python3.7/dist-packages/lightgbm\n",
            "copying build/lib/lightgbm/engine.py -> /usr/local/lib/python3.7/dist-packages/lightgbm\n",
            "copying build/lib/lightgbm/sklearn.py -> /usr/local/lib/python3.7/dist-packages/lightgbm\n",
            "INFO:LightGBM:Installing lib_lightgbm from: ['/content/LightGBM/lib_lightgbm.so']\n",
            "copying /content/LightGBM/lib_lightgbm.so -> /usr/local/lib/python3.7/dist-packages/lightgbm\n",
            "byte-compiling /usr/local/lib/python3.7/dist-packages/lightgbm/libpath.py to libpath.cpython-37.pyc\n",
            "byte-compiling /usr/local/lib/python3.7/dist-packages/lightgbm/basic.py to basic.cpython-37.pyc\n",
            "byte-compiling /usr/local/lib/python3.7/dist-packages/lightgbm/dask.py to dask.cpython-37.pyc\n",
            "byte-compiling /usr/local/lib/python3.7/dist-packages/lightgbm/__init__.py to __init__.cpython-37.pyc\n",
            "byte-compiling /usr/local/lib/python3.7/dist-packages/lightgbm/plotting.py to plotting.cpython-37.pyc\n",
            "byte-compiling /usr/local/lib/python3.7/dist-packages/lightgbm/callback.py to callback.cpython-37.pyc\n",
            "byte-compiling /usr/local/lib/python3.7/dist-packages/lightgbm/compat.py to compat.cpython-37.pyc\n",
            "byte-compiling /usr/local/lib/python3.7/dist-packages/lightgbm/engine.py to engine.cpython-37.pyc\n",
            "byte-compiling /usr/local/lib/python3.7/dist-packages/lightgbm/sklearn.py to sklearn.cpython-37.pyc\n",
            "running install_egg_info\n",
            "Copying lightgbm.egg-info to /usr/local/lib/python3.7/dist-packages/lightgbm-3.3.2.99-py3.7.egg-info\n",
            "running install_scripts\n"
          ]
        }
      ]
    },
    {
      "cell_type": "code",
      "execution_count": null,
      "metadata": {
        "id": "umFjwbm61-Ly"
      },
      "outputs": [],
      "source": [
        "import os\n",
        "import pickle\n",
        "\n",
        "import numpy as np\n",
        "import pandas as pd\n",
        "import matplotlib.pyplot as plt"
      ]
    },
    {
      "cell_type": "code",
      "source": [
        "def get_df_log_of(df_log, dname):\n",
        "    df_log = df_log.copy()\n",
        "    if dname == 'CV':\n",
        "        df_log = df_log[(df_log['t_dat'] < '2019-10-02')]\n",
        "        df_log['target'] = 'train'\n",
        "        df_log.loc[(df_log['t_dat'] >= '2019-09-18'), 'target'] = 'valid'\n",
        "        df_log.loc[(df_log['t_dat'] >= '2019-09-25'), 'target'] = 'test'\n",
        "    elif dname == 'LB':\n",
        "        df_log = df_log[(df_log['t_dat'] >= '2019-09-19')]\n",
        "        df_log['target'] = 'train'\n",
        "        df_log.loc[(df_log['t_dat'] >= '2020-09-16'), 'target'] = 'valid'\n",
        "    else:\n",
        "        raise Exception(\"dname = CV or LB only\")\n",
        "    return df_log"
      ],
      "metadata": {
        "id": "AxZqND6s2ODg"
      },
      "execution_count": null,
      "outputs": []
    },
    {
      "cell_type": "code",
      "execution_count": null,
      "metadata": {
        "id": "-TJkiWKs1-L6"
      },
      "outputs": [],
      "source": [
        "df_sub_raw = pd.read_parquet('raw/sample_submission.pq')"
      ]
    },
    {
      "cell_type": "code",
      "execution_count": null,
      "metadata": {
        "id": "ewb-BNuj1-L7"
      },
      "outputs": [],
      "source": [
        "df_user = pd.read_parquet('data/df_user_preprocessed.pq')\n",
        "df_log_all = pd.read_parquet('data/df_log_preprocessed.pq')\n",
        "df_log_CV = get_df_log_of(df_log_all, 'CV')\n",
        "df_log_LB = get_df_log_of(df_log_all, 'LB')\n",
        "\n",
        "del df_log_all"
      ]
    },
    {
      "cell_type": "code",
      "execution_count": null,
      "metadata": {
        "id": "YlIINIoi1-L8"
      },
      "outputs": [],
      "source": [
        "df_user.info(memory_usage='deep')"
      ]
    },
    {
      "cell_type": "code",
      "source": [
        "df_user.reset_index(inplace=True)\n",
        "df_user.drop(columns=['Active', 'age'], inplace=True)\n",
        "\n",
        "df_user.info(memory_usage='deep')"
      ],
      "metadata": {
        "colab": {
          "base_uri": "https://localhost:8080/"
        },
        "id": "fJtd5rPDQk2z",
        "outputId": "f2bb42b6-372f-421e-9f51-55304cd1123f"
      },
      "execution_count": null,
      "outputs": [
        {
          "output_type": "stream",
          "name": "stdout",
          "text": [
            "<class 'pandas.core.frame.DataFrame'>\n",
            "RangeIndex: 1371980 entries, 0 to 1371979\n",
            "Data columns (total 10 columns):\n",
            " #   Column       Non-Null Count    Dtype  \n",
            "---  ------       --------------    -----  \n",
            " 0   customer_id  1371980 non-null  object \n",
            " 1   FN           1371980 non-null  int32  \n",
            " 2   ACTIVE       1371980 non-null  uint8  \n",
            " 3   LEFT CLUB    1371980 non-null  uint8  \n",
            " 4   PRE-CREATE   1371980 non-null  uint8  \n",
            " 5   Monthly      1371980 non-null  uint8  \n",
            " 6   NONE         1371980 non-null  uint8  \n",
            " 7   Regularly    1371980 non-null  uint8  \n",
            " 8   age_gmm_1    1371980 non-null  float64\n",
            " 9   age_gmm_2    1371980 non-null  float64\n",
            "dtypes: float64(2), int32(1), object(1), uint8(6)\n",
            "memory usage: 192.3 MB\n"
          ]
        }
      ]
    },
    {
      "cell_type": "code",
      "source": [
        "def customer_hex_id_to_int(series):\n",
        "    return series.str[-16:].apply(hex_id_to_int)\n",
        "\n",
        "def hex_id_to_int(str):\n",
        "    return int(str[-16:], 16)\n",
        "\n",
        "def article_id_str_to_int(series):\n",
        "    return series.astype('int32')\n",
        "\n",
        "def article_id_int_to_str(series):\n",
        "    return '0' + series.astype('str')"
      ],
      "metadata": {
        "id": "NfkffdKjIMAu"
      },
      "execution_count": null,
      "outputs": []
    },
    {
      "cell_type": "code",
      "source": [
        "df_log_CV['customer_id'] = customer_hex_id_to_int(df_log_CV['customer_id'])\n",
        "df_log_LB['customer_id'] = customer_hex_id_to_int(df_log_LB['customer_id'])\n",
        "df_log_CV['article_id'] = article_id_str_to_int(df_log_CV['article_id'])\n",
        "df_log_LB['article_id'] = article_id_str_to_int(df_log_LB['article_id'])\n",
        "df_log_CV.drop(columns='t_dat', inplace=True)\n",
        "df_log_LB.drop(columns='t_dat', inplace=True)\n",
        "df_user['customer_id'] = customer_hex_id_to_int(df_user['customer_id'])"
      ],
      "metadata": {
        "id": "sle8X952IPfx"
      },
      "execution_count": null,
      "outputs": []
    },
    {
      "cell_type": "markdown",
      "source": [
        "### df log cv"
      ],
      "metadata": {
        "id": "xerGbaAn45re"
      }
    },
    {
      "cell_type": "code",
      "execution_count": null,
      "metadata": {
        "id": "RxOIMT4_1-L-"
      },
      "outputs": [],
      "source": [
        "test_week = df_log_CV['week'].iloc[-1]\n",
        "c2weeks = df_log_CV.groupby('customer_id')['week'].unique()\n",
        "\n",
        "c2weeks2shiftedweeks = {}\n",
        "for id, weeks in c2weeks.items():\n",
        "    c2weeks2shiftedweeks[id] = {}\n",
        "    for i in range(weeks.shape[0]-1):\n",
        "        c2weeks2shiftedweeks[id][weeks[i]] = weeks[i+1]\n",
        "    c2weeks2shiftedweeks[id][weeks[-1]] = test_week\n",
        "\n",
        "candidates_lastpurchase = df_log_CV.copy()\n",
        "\n",
        "weeks = []\n",
        "for id, week in zip(df_log_CV['customer_id'], df_log_CV['week']):\n",
        "    weeks.append(c2weeks2shiftedweeks[id][week])\n",
        "candidates_lastpurchase.week = weeks"
      ]
    },
    {
      "cell_type": "code",
      "execution_count": null,
      "metadata": {
        "id": "l-wH5oxJ1-MA"
      },
      "outputs": [],
      "source": [
        "del c2weeks\n",
        "del c2weeks2shiftedweeks"
      ]
    },
    {
      "cell_type": "code",
      "execution_count": null,
      "metadata": {
        "id": "mVmnqYtQ1-MB"
      },
      "outputs": [],
      "source": [
        "mean_price = df_log_CV.groupby(['week', 'article_id'])['price'].mean()\n",
        "\n",
        "sales = df_log_CV.groupby('week')['article_id'].value_counts()\\\n",
        "    .groupby('week').rank(method='dense', ascending=False)\\\n",
        "    .groupby('week').head(12).rename('bestseller_rank')\n",
        "\n",
        "bestsellers_previous_week = pd.merge(sales, mean_price, on=['week', 'article_id']).reset_index()\n",
        "bestsellers_previous_week.week += 1\n",
        "\n",
        "unique_transactions = df_log_CV.groupby(['week', 'customer_id'])\\\n",
        "    .head(1).drop(columns=['article_id', 'price']).copy()\n",
        "candidates_bestsellers = pd.merge(unique_transactions, bestsellers_previous_week, on='week')\n",
        "\n",
        "test_set_transactions = unique_transactions.drop_duplicates('customer_id').reset_index(drop=True)\n",
        "test_set_transactions.week = test_week\n",
        "\n",
        "candidates_bestsellers_test_week = pd.merge(test_set_transactions, bestsellers_previous_week, on='week')\n",
        "\n",
        "candidates_bestsellers = pd.concat([candidates_bestsellers, candidates_bestsellers_test_week])\n",
        "candidates_bestsellers.drop(columns='bestseller_rank', inplace=True)"
      ]
    },
    {
      "cell_type": "code",
      "execution_count": null,
      "metadata": {
        "id": "W1mGEnHj1-MD"
      },
      "outputs": [],
      "source": [
        "del mean_price\n",
        "del sales\n",
        "del unique_transactions\n",
        "del test_set_transactions\n",
        "del candidates_bestsellers_test_week"
      ]
    },
    {
      "cell_type": "code",
      "source": [
        "import gc\n",
        "\n",
        "gc.collect()"
      ],
      "metadata": {
        "colab": {
          "base_uri": "https://localhost:8080/"
        },
        "id": "qLdVlffwBi7w",
        "outputId": "7c656b53-662d-4083-da00-b3a7ee4b0ea3"
      },
      "execution_count": null,
      "outputs": [
        {
          "output_type": "execute_result",
          "data": {
            "text/plain": [
              "60"
            ]
          },
          "metadata": {},
          "execution_count": 15
        }
      ]
    },
    {
      "cell_type": "markdown",
      "source": [
        "### df log lb"
      ],
      "metadata": {
        "id": "TqAhJfTQ4-Eg"
      }
    },
    {
      "cell_type": "code",
      "source": [
        "test_week = df_log_LB['week'].iloc[-1]\n",
        "c2weeks = df_log_LB.groupby('customer_id')['week'].unique()\n",
        "\n",
        "c2weeks2shiftedweeks = {}\n",
        "for id, weeks in c2weeks.items():\n",
        "    c2weeks2shiftedweeks[id] = {}\n",
        "    for i in range(weeks.shape[0]-1):\n",
        "        c2weeks2shiftedweeks[id][weeks[i]] = weeks[i+1]\n",
        "    c2weeks2shiftedweeks[id][weeks[-1]] = test_week\n",
        "\n",
        "candidates_lastpurchase = df_log_LB.copy()\n",
        "\n",
        "weeks = []\n",
        "for id, week in zip(df_log_LB['customer_id'], df_log_LB['week']):\n",
        "    weeks.append(c2weeks2shiftedweeks[id][week])\n",
        "candidates_lastpurchase.week = weeks"
      ],
      "metadata": {
        "id": "xKL8WYsA5A9_"
      },
      "execution_count": null,
      "outputs": []
    },
    {
      "cell_type": "code",
      "source": [
        "del c2weeks\n",
        "del c2weeks2shiftedweeks"
      ],
      "metadata": {
        "id": "uFz_3JbO5A4c"
      },
      "execution_count": null,
      "outputs": []
    },
    {
      "cell_type": "code",
      "source": [
        "mean_price = df_log_LB.groupby(['week', 'article_id'])['price'].mean()\n",
        "\n",
        "sales = df_log_LB.groupby('week')['article_id'].value_counts()\\\n",
        "    .groupby('week').rank(method='dense', ascending=False)\\\n",
        "    .groupby('week').head(12).rename('bestseller_rank')\n",
        "\n",
        "bestsellers_previous_week = pd.merge(sales, mean_price, on=['week', 'article_id']).reset_index()\n",
        "bestsellers_previous_week.week += 1\n",
        "\n",
        "unique_transactions = df_log_LB.groupby(['week', 'customer_id'])\\\n",
        "    .head(1).drop(columns=['article_id', 'price']).copy()\n",
        "candidates_bestsellers = pd.merge(unique_transactions, bestsellers_previous_week, on='week')\n",
        "\n",
        "test_set_transactions = unique_transactions.drop_duplicates('customer_id').reset_index(drop=True)\n",
        "test_set_transactions.week = test_week\n",
        "\n",
        "candidates_bestsellers_test_week = pd.merge(test_set_transactions, bestsellers_previous_week, on='week')\n",
        "\n",
        "candidates_bestsellers = pd.concat([candidates_bestsellers, candidates_bestsellers_test_week])\n",
        "candidates_bestsellers.drop(columns='bestseller_rank', inplace=True)"
      ],
      "metadata": {
        "id": "FS4y1pre5Ayw"
      },
      "execution_count": null,
      "outputs": []
    },
    {
      "cell_type": "code",
      "source": [
        "del mean_price\n",
        "del sales\n",
        "del unique_transactions\n",
        "del test_set_transactions\n",
        "del candidates_bestsellers_test_week"
      ],
      "metadata": {
        "id": "nURPBqip5AtQ"
      },
      "execution_count": null,
      "outputs": []
    },
    {
      "cell_type": "code",
      "source": [
        "import gc\n",
        "\n",
        "gc.collect()"
      ],
      "metadata": {
        "colab": {
          "base_uri": "https://localhost:8080/"
        },
        "id": "CG319HjL5Ak8",
        "outputId": "f748c3db-c7d9-49a5-e028-e88dbe9e3e6e"
      },
      "execution_count": null,
      "outputs": [
        {
          "output_type": "execute_result",
          "data": {
            "text/plain": [
              "60"
            ]
          },
          "metadata": {},
          "execution_count": 15
        }
      ]
    },
    {
      "cell_type": "markdown",
      "source": [
        "## merge with file (works)"
      ],
      "metadata": {
        "id": "fXiePz7Xly3K"
      }
    },
    {
      "cell_type": "code",
      "source": [
        "try:\n",
        "    os.mkdir('data/temp')\n",
        "except FileExistsError:\n",
        "    print(\"folder already exists\")"
      ],
      "metadata": {
        "id": "axU-eFg2spFN"
      },
      "execution_count": null,
      "outputs": []
    },
    {
      "cell_type": "code",
      "source": [
        "def mergewithfile(onepath, two, on, how, shrinksize=False):\n",
        "    onelist = pd.read_csv(onepath, chunksize=200000)\n",
        "    it = 0\n",
        "    for o in onelist:\n",
        "        if it==0:\n",
        "            pd.merge(o, two, on=on, how=how).to_hdf('data/temp/tempdata.h5', 's', format='table', mode='w')\n",
        "        else:\n",
        "            if shrinksize:\n",
        "                if np.random.randint(6)==0:\n",
        "                    pd.merge(o, two, on=on, how=how).to_hdf('data/temp/tempdata.h5', 's', format='table', append=True)\n",
        "            else:\n",
        "                pd.merge(o, two, on=on, how=how).to_hdf('data/temp/tempdata.h5', 's', format='table', append=True)\n",
        "        gc.collect()\n",
        "        it += 1\n",
        "        print(it, end=' ')\n",
        "    del onelist\n",
        "    gc.collect()"
      ],
      "metadata": {
        "id": "ZM1Kd1LboxUK"
      },
      "execution_count": null,
      "outputs": []
    },
    {
      "cell_type": "code",
      "source": [
        "def mergewithfile2(onepath, two, on, how, shrinksize=False):\n",
        "    onelist = pd.read_hdf(onepath, 's', chunksize=200000)\n",
        "    it = 0\n",
        "    for o in onelist:\n",
        "        if it==0:\n",
        "            pd.merge(o, two, on=on, how=how).to_hdf('data/temp/tempdata2.h5', 's', format='table', mode='w')\n",
        "        else:\n",
        "            if shrinksize:\n",
        "                if np.random.randint(3)==0:\n",
        "                    pd.merge(o, two, on=on, how=how).to_hdf('data/temp/tempdata2.h5', 's', format='table', append=True)\n",
        "            else:\n",
        "                pd.merge(o, two, on=on, how=how).to_hdf('data/temp/tempdata2.h5', 's', format='table', append=True)\n",
        "        gc.collect()\n",
        "        it += 1\n",
        "        print(it, end=' ')\n",
        "    del onelist\n",
        "    gc.collect()"
      ],
      "metadata": {
        "id": "uhAnvoANVYPd"
      },
      "execution_count": null,
      "outputs": []
    },
    {
      "cell_type": "markdown",
      "source": [
        "CV"
      ],
      "metadata": {
        "id": "rmHEQaWm6hlT"
      }
    },
    {
      "cell_type": "code",
      "source": [
        "df_log_CV['purchased'] = 1\n",
        "\n",
        "data = pd.concat([df_log_CV, candidates_lastpurchase, candidates_bestsellers])\n",
        "data.purchased.fillna(0, inplace=True)\n",
        "gc.collect()\n",
        "\n",
        "data.to_csv('data/temp/tempdata.csv')\n",
        "del data\n",
        "gc.collect()\n",
        "mergewithfile('data/temp/tempdata.csv', bestsellers_previous_week[['week', 'article_id', 'bestseller_rank']],\n",
        "                     on=['week', 'article_id'], how='left', shrinksize=True)\n",
        "gc.collect()\n",
        "data = pd.read_hdf('data/temp/tempdata.h5', 's')\n",
        "gc.collect()\n",
        "data = data[data.week != data.week.min()].copy()\n",
        "gc.collect()\n",
        "data.bestseller_rank.fillna(999, inplace=True)"
      ],
      "metadata": {
        "id": "N1fUnrevlyjZ"
      },
      "execution_count": null,
      "outputs": []
    },
    {
      "cell_type": "markdown",
      "source": [
        "LB"
      ],
      "metadata": {
        "id": "Q6qfrKmZ6p6i"
      }
    },
    {
      "cell_type": "code",
      "source": [
        "df_log_LB['purchased'] = 1\n",
        "\n",
        "data = pd.concat([df_log_LB, candidates_lastpurchase, candidates_bestsellers])\n",
        "data.purchased.fillna(0, inplace=True)\n",
        "gc.collect()\n",
        "\n",
        "data.to_csv('data/temp/tempdata.csv')\n",
        "del data\n",
        "gc.collect()\n",
        "mergewithfile('data/temp/tempdata.csv', bestsellers_previous_week[['week', 'article_id', 'bestseller_rank']],\n",
        "                     on=['week', 'article_id'], how='left', shrinksize=True)\n",
        "gc.collect()\n",
        "data = pd.read_hdf('data/temp/tempdata.h5', 's')\n",
        "gc.collect()\n",
        "data = data[data.week != data.week.min()].copy()\n",
        "gc.collect()\n",
        "data.bestseller_rank.fillna(999, inplace=True)"
      ],
      "metadata": {
        "colab": {
          "base_uri": "https://localhost:8080/"
        },
        "id": "wLQfuZXD6rRf",
        "outputId": "fb489410-81a4-4a23-8f61-34e2ef7a9101"
      },
      "execution_count": null,
      "outputs": [
        {
          "output_type": "stream",
          "name": "stdout",
          "text": [
            "1 2 3 4 5 6 7 8 9 10 11 12 13 14 15 16 17 18 19 20 21 22 23 24 25 26 27 28 29 30 31 32 33 34 35 36 37 38 39 40 41 42 43 44 45 46 47 48 49 50 51 52 53 54 55 56 57 58 59 60 61 62 63 64 65 66 67 68 69 70 71 72 73 74 75 76 77 78 79 80 81 82 83 84 85 86 87 88 89 90 91 92 93 94 95 96 97 98 99 100 101 102 103 104 105 106 107 108 109 110 111 112 113 114 115 116 117 118 119 120 121 122 123 124 125 126 127 128 129 130 131 132 133 134 135 136 137 138 139 140 141 142 143 144 145 146 147 148 149 150 151 152 153 154 155 156 157 158 159 160 161 162 163 164 165 166 167 168 169 170 171 172 173 174 175 176 177 178 179 180 181 182 183 184 185 186 187 188 189 190 191 192 193 194 195 196 197 198 199 200 201 202 203 204 205 206 207 208 209 210 211 212 213 214 215 216 217 218 219 220 221 222 223 224 225 226 227 228 229 230 231 232 233 234 235 236 237 238 239 240 241 242 243 244 245 246 247 248 249 250 251 252 253 254 255 256 257 258 259 260 261 262 263 264 265 266 267 268 269 270 271 272 273 274 275 276 277 278 279 280 281 282 283 284 285 286 287 288 289 290 291 292 293 294 295 296 297 298 299 300 301 302 303 304 305 306 307 308 309 310 311 312 313 314 315 316 317 318 319 320 321 322 323 324 325 326 327 328 329 330 331 332 333 334 335 336 337 338 339 340 341 342 343 344 345 346 347 348 349 350 351 352 353 354 355 356 357 358 359 360 361 362 363 364 365 366 367 368 369 370 371 372 373 374 375 376 377 378 379 380 381 382 383 384 385 386 387 388 389 390 391 392 393 394 395 396 397 398 399 400 401 402 403 404 405 406 407 408 409 410 411 412 413 414 415 416 417 418 419 420 421 422 423 424 425 426 427 428 429 430 431 432 433 434 435 436 437 438 439 440 441 442 443 444 "
          ]
        }
      ]
    },
    {
      "cell_type": "code",
      "source": [
        "data.drop('Unnamed: 0', axis=1, inplace=True)\n",
        "data['customer_id'] = data['customer_id'].astype('int64')\n",
        "\n",
        "data.info(memory_usage='deep')"
      ],
      "metadata": {
        "colab": {
          "base_uri": "https://localhost:8080/"
        },
        "id": "NRI5tnkZXJi1",
        "outputId": "d26fdf62-7083-435b-f547-ec5dc6f77c30"
      },
      "execution_count": null,
      "outputs": [
        {
          "output_type": "stream",
          "name": "stdout",
          "text": [
            "<class 'pandas.core.frame.DataFrame'>\n",
            "Int64Index: 11406731 entries, 193269 to 199999\n",
            "Data columns (total 11 columns):\n",
            " #   Column            Dtype  \n",
            "---  ------            -----  \n",
            " 0   customer_id       int64  \n",
            " 1   article_id        int64  \n",
            " 2   price             float64\n",
            " 3   sales_channel_id  int64  \n",
            " 4   timestamp         int64  \n",
            " 5   dto               object \n",
            " 6   week              int64  \n",
            " 7   log_price         float64\n",
            " 8   target            object \n",
            " 9   purchased         float64\n",
            " 10  bestseller_rank   float64\n",
            "dtypes: float64(4), int64(5), object(2)\n",
            "memory usage: 2.2 GB\n"
          ]
        }
      ]
    },
    {
      "cell_type": "code",
      "source": [
        "store = pd.HDFStore('data/temp/tempdata3.h5')\n",
        "store.append('s', data, data_columns=True)\n",
        "store.close()\n",
        "del data\n",
        "gc.collect()\n",
        "mergewithfile2('data/temp/tempdata3.h5', df_user, on='customer_id', how='left')\n",
        "gc.collect()\n",
        "data = pd.read_hdf('data/temp/tempdata2.h5', 's')\n",
        "gc.collect()\n",
        "\n",
        "data.sort_values(['week', 'customer_id'], inplace=True)\n",
        "data.reset_index(drop=True, inplace=True)"
      ],
      "metadata": {
        "colab": {
          "base_uri": "https://localhost:8080/"
        },
        "id": "rg84tW6QEPQc",
        "outputId": "3bd0481c-cb7f-4f9a-e18e-38b38ce70900"
      },
      "execution_count": null,
      "outputs": [
        {
          "output_type": "stream",
          "name": "stdout",
          "text": [
            "1 2 3 4 5 6 7 8 9 10 11 12 13 14 15 16 17 18 19 20 21 22 23 24 25 26 27 28 29 30 31 32 33 34 35 36 37 38 39 40 41 42 43 44 45 46 47 48 49 50 51 52 53 54 55 56 57 58 "
          ]
        }
      ]
    },
    {
      "cell_type": "markdown",
      "source": [
        "# not working code"
      ],
      "metadata": {
        "id": "PyMNq2su5ptR"
      }
    },
    {
      "cell_type": "markdown",
      "metadata": {
        "id": "v8qw2SUq1-ME"
      },
      "source": [
        "### below code results in memory error"
      ]
    },
    {
      "cell_type": "code",
      "execution_count": null,
      "metadata": {
        "id": "mN4tZ0Fx1-MG"
      },
      "outputs": [],
      "source": [
        "def mergebyparts(one, two, on, how, n=20):\n",
        "    splits = np.array_split(one, n)\n",
        "    ret = []\n",
        "    for s in splits:\n",
        "        ret.append(pd.merge(s, two, on=on, how=how))\n",
        "    return pd.concat(ret)"
      ]
    },
    {
      "cell_type": "code",
      "execution_count": null,
      "metadata": {
        "id": "C-U4EHHl1-MH"
      },
      "outputs": [],
      "source": [
        "df_log_CV['purchased'] = 1\n",
        "\n",
        "data = pd.concat([df_log_CV, candidates_lastpurchase, candidates_bestsellers])\n",
        "data.purchased.fillna(0, inplace=True)\n",
        "\n",
        "data = mergebyparts(data, bestsellers_previous_week[['week', 'article_id', 'bestseller_rank']],\n",
        "    on=['week', 'article_id'], how='left')\n",
        "data = data[data.week != data.week.min()].copy()\n",
        "data.bestseller_rank.fillna(999, inplace=True)\n",
        "\n",
        "data = mergebyparts(data, df_item, on='article_id', how='left')\n",
        "\n",
        "data.sort_values(['week', 'customer_id'], inplace=True)\n",
        "data.reset_index(drop=True, inplace=True)"
      ]
    },
    {
      "cell_type": "markdown",
      "metadata": {
        "id": "8tYphRZD1-MI"
      },
      "source": [
        "### storing data in files instead"
      ]
    },
    {
      "cell_type": "code",
      "execution_count": null,
      "metadata": {
        "id": "My1kBAjt1-MI"
      },
      "outputs": [],
      "source": [
        "def partmergetofile(splits, two, on, how, prefix):\n",
        "    for i in range(20):\n",
        "        pd.merge(splits[i], two, on=on, how=how).to_csv(f'data/temp/{prefix}{i}_temp.csv', index=False)\n",
        "        gc.collect()"
      ]
    },
    {
      "cell_type": "code",
      "execution_count": null,
      "metadata": {
        "id": "-C3x1yK61-MJ"
      },
      "outputs": [],
      "source": [
        "df_log_CV['purchased'] = 1\n",
        "\n",
        "data = pd.concat([df_log_CV, candidates_lastpurchase, candidates_bestsellers])\n",
        "data.purchased.fillna(0, inplace=True)\n",
        "\n",
        "splits = np.array_split(data, 20)\n",
        "del data\n",
        "gc.collect()\n",
        "partmergetofile(splits, bestsellers_previous_week[['week', 'article_id', 'bestseller_rank']],\n",
        "    on=['week', 'article_id'], how='left', prefix='bestseller')\n",
        "\n",
        "# combine files outside notebook here"
      ]
    },
    {
      "cell_type": "code",
      "execution_count": null,
      "metadata": {
        "id": "jRKqA7HH1-MK"
      },
      "outputs": [],
      "source": [
        "data = pd.read_csv('data/temp/bestseller_combined.csv')\n",
        "data = data[data.week != data.week.min()].copy()\n",
        "data.bestseller_rank.fillna(999, inplace=True)\n",
        "\n",
        "splits = np.array_split(data, 20)\n",
        "del data\n",
        "gc.collect()\n",
        "partmergetofile(splits, df_user_CV, on='customer_id', how='left', prefix='userdata')\n",
        "\n",
        "# combine files outside notebook here"
      ]
    },
    {
      "cell_type": "code",
      "execution_count": null,
      "metadata": {
        "id": "9BW-hmUp1-MK"
      },
      "outputs": [],
      "source": [
        "data = pd.read_csv('data/temp/userdata_combined.csv')\n",
        "\n",
        "data.sort_values(['week', 'customer_id'], inplace=True)\n",
        "data.reset_index(drop=True, inplace=True)"
      ]
    },
    {
      "cell_type": "code",
      "execution_count": null,
      "metadata": {
        "id": "LKwR0VRE1-ML"
      },
      "outputs": [],
      "source": [
        "data"
      ]
    },
    {
      "cell_type": "code",
      "execution_count": null,
      "metadata": {
        "id": "diUsla1s1-ML"
      },
      "outputs": [],
      "source": [
        "train = data[data.target != 'test']\n",
        "test = data[data.target == 'test'].drop_duplicates(['customer_id', 'article_id', 'sales_channel_id']).copy()\n",
        "\n",
        "train_baskets = train.groupby(['week', 'customer_id'])['article_id'].count().values"
      ]
    },
    {
      "cell_type": "markdown",
      "source": [
        "# training"
      ],
      "metadata": {
        "id": "kjCkQW96aBPY"
      }
    },
    {
      "cell_type": "code",
      "source": [
        "train = data[data.week != test_week]\n",
        "test = data[data.week==test_week].drop_duplicates(['customer_id', 'article_id', 'sales_channel_id'])\n",
        "\n",
        "train_baskets = train.groupby(['week', 'customer_id'])['article_id'].count().values"
      ],
      "metadata": {
        "id": "QjheW5gxaA7C"
      },
      "execution_count": null,
      "outputs": []
    },
    {
      "cell_type": "code",
      "source": [
        "train.info()"
      ],
      "metadata": {
        "colab": {
          "base_uri": "https://localhost:8080/"
        },
        "id": "ZMR0yDu0a1XT",
        "outputId": "8bd5ebde-9aa0-4c27-a554-4163d93a9869"
      },
      "execution_count": null,
      "outputs": [
        {
          "output_type": "stream",
          "name": "stdout",
          "text": [
            "<class 'pandas.core.frame.DataFrame'>\n",
            "Int64Index: 12166518 entries, 0 to 12166517\n",
            "Data columns (total 20 columns):\n",
            " #   Column            Dtype  \n",
            "---  ------            -----  \n",
            " 0   customer_id       int64  \n",
            " 1   article_id        int64  \n",
            " 2   price             float64\n",
            " 3   sales_channel_id  int64  \n",
            " 4   timestamp         int64  \n",
            " 5   dto               object \n",
            " 6   week              int64  \n",
            " 7   log_price         float64\n",
            " 8   target            object \n",
            " 9   purchased         float64\n",
            " 10  bestseller_rank   float64\n",
            " 11  FN                int32  \n",
            " 12  ACTIVE            uint8  \n",
            " 13  LEFT CLUB         uint8  \n",
            " 14  PRE-CREATE        uint8  \n",
            " 15  Monthly           uint8  \n",
            " 16  NONE              uint8  \n",
            " 17  Regularly         uint8  \n",
            " 18  age_gmm_1         float64\n",
            " 19  age_gmm_2         float64\n",
            "dtypes: float64(6), int32(1), int64(5), object(2), uint8(6)\n",
            "memory usage: 1.4+ GB\n"
          ]
        }
      ]
    },
    {
      "cell_type": "markdown",
      "source": [
        "### initial training"
      ],
      "metadata": {
        "id": "T-anMb9yJGEg"
      }
    },
    {
      "cell_type": "code",
      "source": [
        "columns_to_use = ['article_id', 'sales_channel_id', 'timestamp',\n",
        "                  'log_price', 'bestseller_rank', 'FN',\n",
        "                  'ACTIVE', 'LEFT CLUB', 'PRE-CREATE',\n",
        "                  'Monthly', 'NONE', 'Regularly',\n",
        "                  'age_gmm_1', 'age_gmm_2']"
      ],
      "metadata": {
        "id": "NNt3iVaCa6KN"
      },
      "execution_count": null,
      "outputs": []
    },
    {
      "cell_type": "code",
      "source": [
        "train_X = train[columns_to_use]\n",
        "train_y = train['purchased']\n",
        "\n",
        "test_X = test[columns_to_use]"
      ],
      "metadata": {
        "id": "FqmpePoWcRkz"
      },
      "execution_count": null,
      "outputs": []
    },
    {
      "cell_type": "markdown",
      "source": [
        "lightgbm"
      ],
      "metadata": {
        "id": "zu9OYYI5cgUn"
      }
    },
    {
      "cell_type": "code",
      "source": [
        "from lightgbm.sklearn import LGBMRanker"
      ],
      "metadata": {
        "id": "11HhKWBncatl"
      },
      "execution_count": null,
      "outputs": []
    },
    {
      "cell_type": "code",
      "source": [
        "ranker = LGBMRanker(\n",
        "    objective='lambdarank',\n",
        "    metric='ndcg',\n",
        "    boosting_type='goss',\n",
        "    n_estimators=20,\n",
        "    max_depth=3,\n",
        "    importance_type='gain',\n",
        "    verbose=10,\n",
        "    device='gpu'\n",
        ")"
      ],
      "metadata": {
        "id": "AiFCk1aRdG9X"
      },
      "execution_count": null,
      "outputs": []
    },
    {
      "cell_type": "code",
      "source": [
        "ranker = ranker.fit(\n",
        "    train_X, train_y,\n",
        "    group=train_baskets\n",
        ")"
      ],
      "metadata": {
        "colab": {
          "base_uri": "https://localhost:8080/"
        },
        "id": "gaFXZRGRfdmO",
        "outputId": "09c20fb0-7edf-40e9-e05b-679f31ef495a"
      },
      "execution_count": null,
      "outputs": [
        {
          "output_type": "stream",
          "name": "stdout",
          "text": [
            "[LightGBM] [Warning] Found whitespace in feature_names, replace with underlines\n",
            "[LightGBM] [Info] This is the GPU trainer!!\n",
            "[LightGBM] [Debug] Dataset::GetMultiBinFromSparseFeatures: sparse rate 0.983140\n",
            "[LightGBM] [Info] Total Bins 841\n",
            "[LightGBM] [Info] Number of data points in the train set: 8530264, number of used features: 14\n",
            "[LightGBM] [Info] Using GPU Device: Tesla T4, Vendor: NVIDIA Corporation\n",
            "[LightGBM] [Info] Compiling OpenCL Kernel with 256 bins...\n",
            "[LightGBM] [Info] GPU programs have been built\n",
            "[LightGBM] [Info] Size of histogram bin entry: 8\n",
            "[LightGBM] [Info] 9 dense feature groups (97.62 MB) transferred to GPU in 0.100154 secs. 1 sparse feature groups\n",
            "[LightGBM] [Info] Using GOSS\n",
            "[LightGBM] [Debug] Trained a tree with leaves = 8 and depth = 3\n",
            "[LightGBM] [Debug] Trained a tree with leaves = 8 and depth = 3\n",
            "[LightGBM] [Debug] Trained a tree with leaves = 8 and depth = 3\n",
            "[LightGBM] [Debug] Trained a tree with leaves = 8 and depth = 3\n",
            "[LightGBM] [Debug] Trained a tree with leaves = 8 and depth = 3\n",
            "[LightGBM] [Debug] Trained a tree with leaves = 8 and depth = 3\n",
            "[LightGBM] [Debug] Trained a tree with leaves = 8 and depth = 3\n",
            "[LightGBM] [Debug] Trained a tree with leaves = 8 and depth = 3\n",
            "[LightGBM] [Debug] Trained a tree with leaves = 8 and depth = 3\n",
            "[LightGBM] [Debug] Trained a tree with leaves = 8 and depth = 3\n",
            "[LightGBM] [Info] Size of histogram bin entry: 8\n",
            "[LightGBM] [Info] 9 dense feature groups (97.62 MB) transferred to GPU in 0.102023 secs. 1 sparse feature groups\n",
            "[LightGBM] [Debug] Trained a tree with leaves = 8 and depth = 3\n",
            "[LightGBM] [Info] Size of histogram bin entry: 8\n",
            "[LightGBM] [Info] 9 dense feature groups (97.62 MB) transferred to GPU in 0.101438 secs. 1 sparse feature groups\n",
            "[LightGBM] [Debug] Trained a tree with leaves = 8 and depth = 3\n",
            "[LightGBM] [Info] Size of histogram bin entry: 8\n",
            "[LightGBM] [Info] 9 dense feature groups (97.62 MB) transferred to GPU in 0.106378 secs. 1 sparse feature groups\n",
            "[LightGBM] [Debug] Trained a tree with leaves = 8 and depth = 3\n",
            "[LightGBM] [Info] Size of histogram bin entry: 8\n",
            "[LightGBM] [Info] 9 dense feature groups (97.62 MB) transferred to GPU in 0.097413 secs. 1 sparse feature groups\n",
            "[LightGBM] [Debug] Trained a tree with leaves = 8 and depth = 3\n",
            "[LightGBM] [Info] Size of histogram bin entry: 8\n",
            "[LightGBM] [Info] 9 dense feature groups (97.62 MB) transferred to GPU in 0.097185 secs. 1 sparse feature groups\n",
            "[LightGBM] [Debug] Trained a tree with leaves = 8 and depth = 3\n",
            "[LightGBM] [Info] Size of histogram bin entry: 8\n",
            "[LightGBM] [Info] 9 dense feature groups (97.62 MB) transferred to GPU in 0.096115 secs. 1 sparse feature groups\n",
            "[LightGBM] [Debug] Trained a tree with leaves = 8 and depth = 3\n",
            "[LightGBM] [Info] Size of histogram bin entry: 8\n",
            "[LightGBM] [Info] 9 dense feature groups (97.62 MB) transferred to GPU in 0.097091 secs. 1 sparse feature groups\n",
            "[LightGBM] [Debug] Trained a tree with leaves = 8 and depth = 3\n",
            "[LightGBM] [Info] Size of histogram bin entry: 8\n",
            "[LightGBM] [Info] 9 dense feature groups (97.62 MB) transferred to GPU in 0.096802 secs. 1 sparse feature groups\n",
            "[LightGBM] [Debug] Trained a tree with leaves = 8 and depth = 3\n",
            "[LightGBM] [Info] Size of histogram bin entry: 8\n",
            "[LightGBM] [Info] 9 dense feature groups (97.62 MB) transferred to GPU in 0.097571 secs. 1 sparse feature groups\n",
            "[LightGBM] [Debug] Trained a tree with leaves = 8 and depth = 3\n",
            "[LightGBM] [Info] Size of histogram bin entry: 8\n",
            "[LightGBM] [Info] 9 dense feature groups (97.62 MB) transferred to GPU in 0.096987 secs. 1 sparse feature groups\n",
            "[LightGBM] [Debug] Trained a tree with leaves = 8 and depth = 3\n"
          ]
        }
      ]
    },
    {
      "cell_type": "code",
      "source": [
        "for i in ranker.feature_importances_.argsort()[::-1]:\n",
        "    print(columns_to_use[i], ranker.feature_importances_[i]/ranker.feature_importances_.sum())"
      ],
      "metadata": {
        "colab": {
          "base_uri": "https://localhost:8080/"
        },
        "id": "Dy6kxck5firl",
        "outputId": "1adf0ee6-0b8f-4350-ddd4-84b47a252667"
      },
      "execution_count": null,
      "outputs": [
        {
          "output_type": "stream",
          "name": "stdout",
          "text": [
            "bestseller_rank 0.5121878273178316\n",
            "timestamp 0.4860835421185678\n",
            "log_price 0.0015691273949578336\n",
            "article_id 0.0001585900771431276\n",
            "ACTIVE 2.959669285796765e-07\n",
            "Regularly 2.930451988022991e-07\n",
            "age_gmm_2 1.8845553614158337e-07\n",
            "age_gmm_1 1.3562383607753934e-07\n",
            "NONE 0.0\n",
            "Monthly 0.0\n",
            "PRE-CREATE 0.0\n",
            "LEFT CLUB 0.0\n",
            "FN 0.0\n",
            "sales_channel_id 0.0\n"
          ]
        }
      ]
    },
    {
      "cell_type": "code",
      "source": [
        "test['preds'] = ranker.predict(test_X)\n",
        "\n",
        "c_id2predicted_article_ids = test \\\n",
        "    .sort_values(['customer_id', 'preds'], ascending=False) \\\n",
        "    .groupby('customer_id')['article_id'].apply(list).to_dict()\n",
        "\n",
        "bestsellers_last_week = ['0' + str(a_id) for a_id in bestsellers_previous_week[bestsellers_previous_week.week == bestsellers_previous_week.week.max()]['article_id'].tolist()]"
      ],
      "metadata": {
        "id": "6gOcG36Uft6H"
      },
      "execution_count": null,
      "outputs": []
    },
    {
      "cell_type": "code",
      "source": [
        "preds = []\n",
        "for c_id in customer_hex_id_to_int(df_sub_raw.customer_id):\n",
        "    if c_id in c_id2predicted_article_ids:\n",
        "        ps = ['0' + str(p) for p in c_id2predicted_article_ids[c_id]]\n",
        "        preds.append(ps)\n",
        "    else:\n",
        "        preds.append(bestsellers_last_week)"
      ],
      "metadata": {
        "id": "J46tUGI7gG2L"
      },
      "execution_count": null,
      "outputs": []
    },
    {
      "cell_type": "code",
      "source": [
        "preds = [' '.join(ps) for ps in preds]\n",
        "df_sub_raw.prediction = preds"
      ],
      "metadata": {
        "id": "CyMQFypSgXQs"
      },
      "execution_count": null,
      "outputs": []
    },
    {
      "cell_type": "code",
      "source": [
        "try:\n",
        "    os.mkdir('data/subs')\n",
        "except FileExistsError:\n",
        "    print(\"folder already exists\")"
      ],
      "metadata": {
        "id": "OC5pOru4gqd3"
      },
      "execution_count": null,
      "outputs": []
    },
    {
      "cell_type": "code",
      "source": [
        "df_sub_raw.to_csv('data/subs/lgbm_basic.csv.gz', index=False)"
      ],
      "metadata": {
        "id": "pA6e_omDgd-5"
      },
      "execution_count": null,
      "outputs": []
    },
    {
      "cell_type": "markdown",
      "source": [
        "### adjustments"
      ],
      "metadata": {
        "id": "2JsB8j-yJMT1"
      }
    },
    {
      "cell_type": "code",
      "source": [
        "columns_to_use = ['article_id', 'sales_channel_id',\n",
        "                  'log_price', 'bestseller_rank', 'FN',\n",
        "                  'ACTIVE', 'LEFT CLUB', 'PRE-CREATE',\n",
        "                  'Monthly', 'NONE', 'Regularly',\n",
        "                  'age_gmm_1', 'age_gmm_2']"
      ],
      "metadata": {
        "id": "d9gz3zyrgy4p"
      },
      "execution_count": null,
      "outputs": []
    },
    {
      "cell_type": "code",
      "source": [
        "train_X = train[columns_to_use]\n",
        "train_y = train['purchased']\n",
        "\n",
        "test_X = test[columns_to_use]"
      ],
      "metadata": {
        "id": "qEjhVecFNFx5"
      },
      "execution_count": null,
      "outputs": []
    },
    {
      "cell_type": "markdown",
      "source": [
        "model"
      ],
      "metadata": {
        "id": "3iqfzEypNmof"
      }
    },
    {
      "cell_type": "code",
      "source": [
        "from lightgbm.sklearn import LGBMRanker"
      ],
      "metadata": {
        "id": "_s2OoJo-NIYq"
      },
      "execution_count": null,
      "outputs": []
    },
    {
      "cell_type": "code",
      "source": [
        "ranker = LGBMRanker(\n",
        "    objective='lambdarank',\n",
        "    metric='ndcg',\n",
        "    boosting_type='goss',\n",
        "    n_estimators=3,\n",
        "    importance_type='gain',\n",
        "    verbose=10,\n",
        "    device='gpu'\n",
        ")"
      ],
      "metadata": {
        "id": "VYaDTQ6nNIyA"
      },
      "execution_count": null,
      "outputs": []
    },
    {
      "cell_type": "markdown",
      "source": [
        "training"
      ],
      "metadata": {
        "id": "iW7o_W7hNpeR"
      }
    },
    {
      "cell_type": "code",
      "source": [
        "ranker = ranker.fit(\n",
        "    train_X, train_y,\n",
        "    group=train_baskets\n",
        ")"
      ],
      "metadata": {
        "colab": {
          "base_uri": "https://localhost:8080/"
        },
        "id": "ZHqDdlnnNJA6",
        "outputId": "aec378e8-d64c-4ef0-c21d-6247879b17a5"
      },
      "execution_count": null,
      "outputs": [
        {
          "output_type": "stream",
          "name": "stdout",
          "text": [
            "[LightGBM] [Warning] Found whitespace in feature_names, replace with underlines\n",
            "[LightGBM] [Info] This is the GPU trainer!!\n",
            "[LightGBM] [Debug] Dataset::GetMultiBinFromSparseFeatures: sparse rate 0.989158\n",
            "[LightGBM] [Info] Total Bins 690\n",
            "[LightGBM] [Info] Number of data points in the train set: 9215917, number of used features: 13\n",
            "[LightGBM] [Info] Using GPU Device: Tesla P100-PCIE-16GB, Vendor: NVIDIA Corporation\n",
            "[LightGBM] [Info] Compiling OpenCL Kernel with 256 bins...\n",
            "[LightGBM] [Info] GPU programs have been built\n",
            "[LightGBM] [Info] Size of histogram bin entry: 8\n",
            "[LightGBM] [Info] 8 dense feature groups (70.31 MB) transferred to GPU in 0.095821 secs. 1 sparse feature groups\n",
            "[LightGBM] [Info] Using GOSS\n",
            "[LightGBM] [Debug] Trained a tree with leaves = 31 and depth = 9\n",
            "[LightGBM] [Debug] Trained a tree with leaves = 31 and depth = 10\n",
            "[LightGBM] [Debug] Trained a tree with leaves = 31 and depth = 9\n"
          ]
        }
      ]
    },
    {
      "cell_type": "code",
      "source": [
        "for i in ranker.feature_importances_.argsort()[::-1]:\n",
        "    print(columns_to_use[i], ranker.feature_importances_[i]/ranker.feature_importances_.sum())"
      ],
      "metadata": {
        "colab": {
          "base_uri": "https://localhost:8080/"
        },
        "id": "CrheGWAkNJTe",
        "outputId": "b05e7f37-86ee-4b3e-dd16-768f375fc4e8"
      },
      "execution_count": null,
      "outputs": [
        {
          "output_type": "stream",
          "name": "stdout",
          "text": [
            "bestseller_rank 0.9107064637106057\n",
            "article_id 0.04583488064286104\n",
            "log_price 0.04010398062501406\n",
            "sales_channel_id 0.0029413666508366415\n",
            "age_gmm_1 0.0002567373745195888\n",
            "age_gmm_2 0.00015657099616296229\n",
            "Regularly 0.0\n",
            "NONE 0.0\n",
            "Monthly 0.0\n",
            "PRE-CREATE 0.0\n",
            "LEFT CLUB 0.0\n",
            "ACTIVE 0.0\n",
            "FN 0.0\n"
          ]
        }
      ]
    },
    {
      "cell_type": "markdown",
      "source": [
        "prediction"
      ],
      "metadata": {
        "id": "Rhn9Tx6BNq0x"
      }
    },
    {
      "cell_type": "code",
      "source": [
        "test['preds'] = ranker.predict(test_X)\n",
        "\n",
        "c_id2predicted_article_ids = test \\\n",
        "    .sort_values(['customer_id', 'preds'], ascending=False) \\\n",
        "    .groupby('customer_id')['article_id'].apply(list).to_dict()\n",
        "\n",
        "bestsellers_last_week = ['0' + str(a_id) for a_id in bestsellers_previous_week[bestsellers_previous_week.week == bestsellers_previous_week.week.max()]['article_id'].tolist()]"
      ],
      "metadata": {
        "id": "HQVwyaT4Nhb_"
      },
      "execution_count": null,
      "outputs": []
    },
    {
      "cell_type": "code",
      "source": [
        "preds = []\n",
        "for c_id in customer_hex_id_to_int(df_sub_raw.customer_id):\n",
        "    if c_id in c_id2predicted_article_ids:\n",
        "        ps = ['0' + str(p) for p in c_id2predicted_article_ids[c_id]]\n",
        "        ps = ps[:12]\n",
        "        if len(ps)<12:\n",
        "            ps.extend(bestsellers_last_week[:12-len(ps)])\n",
        "        preds.append(ps)\n",
        "    else:\n",
        "        preds.append(bestsellers_last_week)"
      ],
      "metadata": {
        "id": "JHJh3_o2Nh28"
      },
      "execution_count": null,
      "outputs": []
    },
    {
      "cell_type": "code",
      "source": [
        "preds = [' '.join(ps) for ps in preds]\n",
        "df_sub_raw.prediction = preds"
      ],
      "metadata": {
        "id": "T9ueAX5mNiH4"
      },
      "execution_count": null,
      "outputs": []
    },
    {
      "cell_type": "code",
      "source": [
        "try:\n",
        "    os.mkdir('data/subs')\n",
        "except FileExistsError:\n",
        "    print(\"folder already exists\")"
      ],
      "metadata": {
        "id": "P8wPgZH0NwfK"
      },
      "execution_count": null,
      "outputs": []
    },
    {
      "cell_type": "code",
      "source": [
        "df_sub_raw.to_csv('data/subs/lgbm_3.csv.gz', index=False)"
      ],
      "metadata": {
        "id": "_3fDpw7ANwwb"
      },
      "execution_count": null,
      "outputs": []
    },
    {
      "cell_type": "markdown",
      "source": [
        "### xgboost"
      ],
      "metadata": {
        "id": "JmWV1x9m3L6L"
      }
    },
    {
      "cell_type": "code",
      "source": [
        "columns_to_use = ['article_id', 'sales_channel_id',\n",
        "                  'log_price', 'bestseller_rank', 'FN',\n",
        "                  'ACTIVE', 'LEFT CLUB', 'PRE-CREATE',\n",
        "                  'Monthly', 'NONE', 'Regularly',\n",
        "                  'age_gmm_1', 'age_gmm_2']"
      ],
      "metadata": {
        "id": "5QkIP5P43M-P"
      },
      "execution_count": null,
      "outputs": []
    },
    {
      "cell_type": "code",
      "source": [
        "train_X = train[columns_to_use]\n",
        "train_y = train['purchased']\n",
        "\n",
        "test_X = test[columns_to_use]"
      ],
      "metadata": {
        "id": "rAZj9VaY3QoR"
      },
      "execution_count": null,
      "outputs": []
    },
    {
      "cell_type": "markdown",
      "source": [
        "model"
      ],
      "metadata": {
        "id": "03u1PRbV4CTU"
      }
    },
    {
      "cell_type": "code",
      "source": [
        "from xgboost import XGBRanker"
      ],
      "metadata": {
        "id": "gjLAWFP63Re6"
      },
      "execution_count": null,
      "outputs": []
    },
    {
      "cell_type": "code",
      "source": [
        "ranker = XGBRanker(\n",
        "    tree_method='gpu_hist',\n",
        "    booster='gbtree',\n",
        "    objective='rank:pairwise',\n",
        "    random_state=24, \n",
        "    learning_rate=0.1,\n",
        "    colsample_bytree=0.9, \n",
        "    eta=0.05, \n",
        "    max_depth=6, \n",
        "    n_estimators=110\n",
        ")"
      ],
      "metadata": {
        "id": "P_QcK1K23RYr"
      },
      "execution_count": null,
      "outputs": []
    },
    {
      "cell_type": "markdown",
      "source": [
        "training"
      ],
      "metadata": {
        "id": "aENRgzea4DR2"
      }
    },
    {
      "cell_type": "code",
      "source": [
        "ranker = ranker.fit(\n",
        "    train_X, train_y,\n",
        "    group=train_baskets\n",
        ")"
      ],
      "metadata": {
        "id": "TCb8cQCU3RTY"
      },
      "execution_count": null,
      "outputs": []
    },
    {
      "cell_type": "markdown",
      "source": [
        "prediction"
      ],
      "metadata": {
        "id": "L7dayDG44GQK"
      }
    },
    {
      "cell_type": "code",
      "source": [
        "test['preds'] = ranker.predict(test_X)\n",
        "\n",
        "c_id2predicted_article_ids = test \\\n",
        "    .sort_values(['customer_id', 'preds'], ascending=False) \\\n",
        "    .groupby('customer_id')['article_id'].apply(list).to_dict()\n",
        "\n",
        "bestsellers_last_week = ['0' + str(a_id) for a_id in bestsellers_previous_week[bestsellers_previous_week.week == bestsellers_previous_week.week.max()]['article_id'].tolist()]"
      ],
      "metadata": {
        "id": "a4XErVE23RKJ"
      },
      "execution_count": null,
      "outputs": []
    },
    {
      "cell_type": "code",
      "source": [
        "preds = []\n",
        "for c_id in customer_hex_id_to_int(df_sub_raw.customer_id):\n",
        "    if c_id in c_id2predicted_article_ids:\n",
        "        ps = ['0' + str(p) for p in c_id2predicted_article_ids[c_id]]\n",
        "        ps = ps[:12]\n",
        "        if len(ps)<12:\n",
        "            ps.extend(bestsellers_last_week[:12-len(ps)])\n",
        "        preds.append(ps)\n",
        "    else:\n",
        "        preds.append(bestsellers_last_week)"
      ],
      "metadata": {
        "id": "oJkOigAJ3RGO"
      },
      "execution_count": null,
      "outputs": []
    },
    {
      "cell_type": "code",
      "source": [
        "preds = [' '.join(ps) for ps in preds]\n",
        "df_sub_raw.prediction = preds"
      ],
      "metadata": {
        "id": "Ppc_SXJ43Q2a"
      },
      "execution_count": null,
      "outputs": []
    },
    {
      "cell_type": "code",
      "source": [
        "try:\n",
        "    os.mkdir('data/subs')\n",
        "except FileExistsError:\n",
        "    print(\"folder already exists\")"
      ],
      "metadata": {
        "colab": {
          "base_uri": "https://localhost:8080/"
        },
        "id": "Tyi-c9T37X2O",
        "outputId": "f3d97b86-497f-4edf-8551-1b45567edf93"
      },
      "execution_count": null,
      "outputs": [
        {
          "output_type": "stream",
          "name": "stdout",
          "text": [
            "folder already exists\n"
          ]
        }
      ]
    },
    {
      "cell_type": "code",
      "source": [
        "df_sub_raw.to_csv('data/subs/xgb_1_actual.csv.gz', index=False)"
      ],
      "metadata": {
        "id": "pUw8Uec09MSL"
      },
      "execution_count": null,
      "outputs": []
    },
    {
      "cell_type": "code",
      "source": [],
      "metadata": {
        "id": "QtPj9TwHIMnl"
      },
      "execution_count": null,
      "outputs": []
    }
  ],
  "metadata": {
    "kernelspec": {
      "display_name": "Python 3.10.0 64-bit",
      "language": "python",
      "name": "python3"
    },
    "language_info": {
      "codemirror_mode": {
        "name": "ipython",
        "version": 3
      },
      "file_extension": ".py",
      "mimetype": "text/x-python",
      "name": "python",
      "nbconvert_exporter": "python",
      "pygments_lexer": "ipython3",
      "version": "3.10.0"
    },
    "orig_nbformat": 4,
    "vscode": {
      "interpreter": {
        "hash": "efb881ff8f996c0b6dd8311259b4eab25403411b810201cbba5a110d03ebe070"
      }
    },
    "colab": {
      "provenance": [],
      "machine_shape": "hm"
    },
    "accelerator": "GPU",
    "gpuClass": "standard"
  },
  "nbformat": 4,
  "nbformat_minor": 0
}