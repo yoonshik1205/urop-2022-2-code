{
  "nbformat": 4,
  "nbformat_minor": 0,
  "metadata": {
    "colab": {
      "provenance": [],
      "collapsed_sections": [
        "dUzuXafDe0K_"
      ],
      "machine_shape": "hm"
    },
    "kernelspec": {
      "name": "python3",
      "display_name": "Python 3"
    },
    "language_info": {
      "name": "python"
    },
    "accelerator": "GPU",
    "gpuClass": "premium"
  },
  "cells": [
    {
      "cell_type": "code",
      "execution_count": 1,
      "metadata": {
        "id": "ul_kiontelGG",
        "colab": {
          "base_uri": "https://localhost:8080/"
        },
        "outputId": "2131a3bd-f9b9-41ac-a013-3d9480a00110"
      },
      "outputs": [
        {
          "output_type": "stream",
          "name": "stdout",
          "text": [
            "Mounted at /content/drive\n"
          ]
        }
      ],
      "source": [
        "from google.colab import drive\n",
        "drive.mount('/content/drive')"
      ]
    },
    {
      "cell_type": "code",
      "source": [
        "!cp -r /content/drive/MyDrive/datasets_for_colab_temp/urop/* /content"
      ],
      "metadata": {
        "id": "ErBL0K_1euRb"
      },
      "execution_count": 2,
      "outputs": []
    },
    {
      "cell_type": "markdown",
      "source": [
        "### lightgbm"
      ],
      "metadata": {
        "id": "dUzuXafDe0K_"
      }
    },
    {
      "cell_type": "code",
      "source": [
        "!git clone --recursive https://github.com/Microsoft/LightGBM\n",
        "!cd LightGBM && rm -rf build && mkdir build && cd build && cmake -DUSE_GPU=1 ../../LightGBM && make -j4 && cd ../python-package && python3 setup.py install --precompile --gpu;"
      ],
      "metadata": {
        "id": "9KgJvCbreuld",
        "colab": {
          "base_uri": "https://localhost:8080/"
        },
        "outputId": "965f56ba-15e1-4c27-f8db-6bd863771790"
      },
      "execution_count": 3,
      "outputs": [
        {
          "output_type": "stream",
          "name": "stdout",
          "text": [
            "Cloning into 'LightGBM'...\n",
            "remote: Enumerating objects: 27743, done.\u001b[K\n",
            "remote: Counting objects: 100% (343/343), done.\u001b[K\n",
            "remote: Compressing objects: 100% (197/197), done.\u001b[K\n",
            "remote: Total 27743 (delta 179), reused 248 (delta 137), pack-reused 27400\u001b[K\n",
            "Receiving objects: 100% (27743/27743), 19.92 MiB | 33.88 MiB/s, done.\n",
            "Resolving deltas: 100% (20483/20483), done.\n",
            "Submodule 'include/boost/compute' (https://github.com/boostorg/compute) registered for path 'external_libs/compute'\n",
            "Submodule 'eigen' (https://gitlab.com/libeigen/eigen.git) registered for path 'external_libs/eigen'\n",
            "Submodule 'external_libs/fast_double_parser' (https://github.com/lemire/fast_double_parser.git) registered for path 'external_libs/fast_double_parser'\n",
            "Submodule 'external_libs/fmt' (https://github.com/fmtlib/fmt.git) registered for path 'external_libs/fmt'\n",
            "Cloning into '/content/LightGBM/external_libs/compute'...\n",
            "remote: Enumerating objects: 21733, done.        \n",
            "remote: Counting objects: 100% (5/5), done.        \n",
            "remote: Compressing objects: 100% (4/4), done.        \n",
            "remote: Total 21733 (delta 1), reused 3 (delta 1), pack-reused 21728        \n",
            "Receiving objects: 100% (21733/21733), 8.51 MiB | 28.76 MiB/s, done.\n",
            "Resolving deltas: 100% (17567/17567), done.\n",
            "Cloning into '/content/LightGBM/external_libs/eigen'...\n",
            "remote: Enumerating objects: 117256, done.        \n",
            "remote: Counting objects: 100% (349/349), done.        \n",
            "remote: Compressing objects: 100% (130/130), done.        \n",
            "remote: Total 117256 (delta 219), reused 345 (delta 216), pack-reused 116907        \n",
            "Receiving objects: 100% (117256/117256), 102.81 MiB | 33.89 MiB/s, done.\n",
            "Resolving deltas: 100% (96794/96794), done.\n",
            "Cloning into '/content/LightGBM/external_libs/fast_double_parser'...\n",
            "remote: Enumerating objects: 733, done.        \n",
            "remote: Counting objects: 100% (132/132), done.        \n",
            "remote: Compressing objects: 100% (37/37), done.        \n",
            "remote: Total 733 (delta 103), reused 103 (delta 91), pack-reused 601        \n",
            "Receiving objects: 100% (733/733), 823.14 KiB | 7.10 MiB/s, done.\n",
            "Resolving deltas: 100% (374/374), done.\n",
            "Cloning into '/content/LightGBM/external_libs/fmt'...\n",
            "remote: Enumerating objects: 30805, done.        \n",
            "remote: Counting objects: 100% (11360/11360), done.        \n",
            "remote: Compressing objects: 100% (460/460), done.        \n",
            "remote: Total 30805 (delta 11036), reused 10902 (delta 10896), pack-reused 19445        \n",
            "Receiving objects: 100% (30805/30805), 13.15 MiB | 30.41 MiB/s, done.\n",
            "Resolving deltas: 100% (20948/20948), done.\n",
            "Submodule path 'external_libs/compute': checked out '36350b7de849300bd3d72a05d8bf890ca405a014'\n",
            "Submodule path 'external_libs/eigen': checked out '3147391d946bb4b6c68edd901f2add6ac1f31f8c'\n",
            "Submodule path 'external_libs/fast_double_parser': checked out 'ace60646c02dc54c57f19d644e49a61e7e7758ec'\n",
            "Submodule 'benchmark/dependencies/abseil-cpp' (https://github.com/abseil/abseil-cpp.git) registered for path 'external_libs/fast_double_parser/benchmarks/dependencies/abseil-cpp'\n",
            "Submodule 'benchmark/dependencies/double-conversion' (https://github.com/google/double-conversion.git) registered for path 'external_libs/fast_double_parser/benchmarks/dependencies/double-conversion'\n",
            "Cloning into '/content/LightGBM/external_libs/fast_double_parser/benchmarks/dependencies/abseil-cpp'...\n",
            "remote: Enumerating objects: 19069, done.        \n",
            "remote: Counting objects: 100% (2558/2558), done.        \n",
            "remote: Compressing objects: 100% (639/639), done.        \n",
            "remote: Total 19069 (delta 1965), reused 1947 (delta 1919), pack-reused 16511        \n",
            "Receiving objects: 100% (19069/19069), 11.55 MiB | 27.07 MiB/s, done.\n",
            "Resolving deltas: 100% (14928/14928), done.\n",
            "Cloning into '/content/LightGBM/external_libs/fast_double_parser/benchmarks/dependencies/double-conversion'...\n",
            "remote: Enumerating objects: 1352, done.        \n",
            "remote: Counting objects: 100% (196/196), done.        \n",
            "remote: Compressing objects: 100% (103/103), done.        \n",
            "remote: Total 1352 (delta 108), reused 156 (delta 86), pack-reused 1156        \n",
            "Receiving objects: 100% (1352/1352), 7.15 MiB | 22.33 MiB/s, done.\n",
            "Resolving deltas: 100% (880/880), done.\n",
            "Submodule path 'external_libs/fast_double_parser/benchmarks/dependencies/abseil-cpp': checked out 'd936052d32a5b7ca08b0199a6724724aea432309'\n",
            "Submodule path 'external_libs/fast_double_parser/benchmarks/dependencies/double-conversion': checked out 'f4cb2384efa55dee0e6652f8674b05763441ab09'\n",
            "Submodule path 'external_libs/fmt': checked out 'b6f4ceaed0a0a24ccf575fab6c56dd50ccf6f1a9'\n",
            "-- The C compiler identification is GNU 7.5.0\n",
            "-- The CXX compiler identification is GNU 7.5.0\n",
            "-- Detecting C compiler ABI info\n",
            "-- Detecting C compiler ABI info - done\n",
            "-- Check for working C compiler: /usr/bin/cc - skipped\n",
            "-- Detecting C compile features\n",
            "-- Detecting C compile features - done\n",
            "-- Detecting CXX compiler ABI info\n",
            "-- Detecting CXX compiler ABI info - done\n",
            "-- Check for working CXX compiler: /usr/bin/c++ - skipped\n",
            "-- Detecting CXX compile features\n",
            "-- Detecting CXX compile features - done\n",
            "-- Found OpenMP_C: -fopenmp (found version \"4.5\") \n",
            "-- Found OpenMP_CXX: -fopenmp (found version \"4.5\") \n",
            "-- Found OpenMP: TRUE (found version \"4.5\")  \n",
            "-- Looking for CL_VERSION_2_2\n",
            "-- Looking for CL_VERSION_2_2 - found\n",
            "-- Found OpenCL: /usr/lib/x86_64-linux-gnu/libOpenCL.so (found version \"2.2\") \n",
            "-- OpenCL include directory: /usr/include\n",
            "-- Found Boost: /usr/include (found suitable version \"1.65.1\", minimum required is \"1.56.0\") found components: filesystem system \n",
            "-- Performing Test MM_PREFETCH\n",
            "-- Performing Test MM_PREFETCH - Success\n",
            "-- Using _mm_prefetch\n",
            "-- Performing Test MM_MALLOC\n",
            "-- Performing Test MM_MALLOC - Success\n",
            "-- Using _mm_malloc\n",
            "-- Configuring done\n",
            "-- Generating done\n",
            "-- Build files have been written to: /content/LightGBM/build\n",
            "[  1%] \u001b[32mBuilding CXX object CMakeFiles/lightgbm_capi_objs.dir/src/c_api.cpp.o\u001b[0m\n",
            "[  3%] \u001b[32mBuilding CXX object CMakeFiles/lightgbm_objs.dir/src/boosting/boosting.cpp.o\u001b[0m\n",
            "[  5%] \u001b[32mBuilding CXX object CMakeFiles/lightgbm_objs.dir/src/boosting/cuda/cuda_score_updater.cpp.o\u001b[0m\n",
            "[  7%] \u001b[32mBuilding CXX object CMakeFiles/lightgbm_objs.dir/src/boosting/gbdt.cpp.o\u001b[0m\n",
            "[  9%] \u001b[32mBuilding CXX object CMakeFiles/lightgbm_objs.dir/src/boosting/gbdt_model_text.cpp.o\u001b[0m\n",
            "[ 11%] \u001b[32mBuilding CXX object CMakeFiles/lightgbm_objs.dir/src/boosting/gbdt_prediction.cpp.o\u001b[0m\n",
            "[ 13%] \u001b[32mBuilding CXX object CMakeFiles/lightgbm_objs.dir/src/boosting/prediction_early_stop.cpp.o\u001b[0m\n",
            "[ 15%] \u001b[32mBuilding CXX object CMakeFiles/lightgbm_objs.dir/src/cuda/cuda_utils.cpp.o\u001b[0m\n",
            "[ 17%] \u001b[32mBuilding CXX object CMakeFiles/lightgbm_objs.dir/src/io/bin.cpp.o\u001b[0m\n",
            "[ 19%] \u001b[32mBuilding CXX object CMakeFiles/lightgbm_objs.dir/src/io/config.cpp.o\u001b[0m\n",
            "[ 21%] \u001b[32mBuilding CXX object CMakeFiles/lightgbm_objs.dir/src/io/config_auto.cpp.o\u001b[0m\n",
            "[ 21%] Built target lightgbm_capi_objs\n",
            "[ 23%] \u001b[32mBuilding CXX object CMakeFiles/lightgbm_objs.dir/src/io/cuda/cuda_column_data.cpp.o\u001b[0m\n",
            "[ 25%] \u001b[32mBuilding CXX object CMakeFiles/lightgbm_objs.dir/src/io/cuda/cuda_metadata.cpp.o\u001b[0m\n",
            "[ 27%] \u001b[32mBuilding CXX object CMakeFiles/lightgbm_objs.dir/src/io/cuda/cuda_row_data.cpp.o\u001b[0m\n",
            "[ 29%] \u001b[32mBuilding CXX object CMakeFiles/lightgbm_objs.dir/src/io/cuda/cuda_tree.cpp.o\u001b[0m\n",
            "[ 31%] \u001b[32mBuilding CXX object CMakeFiles/lightgbm_objs.dir/src/io/dataset.cpp.o\u001b[0m\n",
            "[ 33%] \u001b[32mBuilding CXX object CMakeFiles/lightgbm_objs.dir/src/io/dataset_loader.cpp.o\u001b[0m\n",
            "[ 35%] \u001b[32mBuilding CXX object CMakeFiles/lightgbm_objs.dir/src/io/file_io.cpp.o\u001b[0m\n",
            "[ 37%] \u001b[32mBuilding CXX object CMakeFiles/lightgbm_objs.dir/src/io/json11.cpp.o\u001b[0m\n",
            "[ 39%] \u001b[32mBuilding CXX object CMakeFiles/lightgbm_objs.dir/src/io/metadata.cpp.o\u001b[0m\n",
            "[ 41%] \u001b[32mBuilding CXX object CMakeFiles/lightgbm_objs.dir/src/io/parser.cpp.o\u001b[0m\n",
            "[ 43%] \u001b[32mBuilding CXX object CMakeFiles/lightgbm_objs.dir/src/io/train_share_states.cpp.o\u001b[0m\n",
            "[ 45%] \u001b[32mBuilding CXX object CMakeFiles/lightgbm_objs.dir/src/io/tree.cpp.o\u001b[0m\n",
            "[ 47%] \u001b[32mBuilding CXX object CMakeFiles/lightgbm_objs.dir/src/metric/dcg_calculator.cpp.o\u001b[0m\n",
            "[ 49%] \u001b[32mBuilding CXX object CMakeFiles/lightgbm_objs.dir/src/metric/metric.cpp.o\u001b[0m\n",
            "[ 50%] \u001b[32mBuilding CXX object CMakeFiles/lightgbm_objs.dir/src/network/linker_topo.cpp.o\u001b[0m\n",
            "[ 52%] \u001b[32mBuilding CXX object CMakeFiles/lightgbm_objs.dir/src/network/linkers_mpi.cpp.o\u001b[0m\n",
            "[ 54%] \u001b[32mBuilding CXX object CMakeFiles/lightgbm_objs.dir/src/network/linkers_socket.cpp.o\u001b[0m\n",
            "[ 56%] \u001b[32mBuilding CXX object CMakeFiles/lightgbm_objs.dir/src/network/network.cpp.o\u001b[0m\n",
            "[ 58%] \u001b[32mBuilding CXX object CMakeFiles/lightgbm_objs.dir/src/objective/cuda/cuda_binary_objective.cpp.o\u001b[0m\n",
            "[ 60%] \u001b[32mBuilding CXX object CMakeFiles/lightgbm_objs.dir/src/objective/cuda/cuda_multiclass_objective.cpp.o\u001b[0m\n",
            "[ 62%] \u001b[32mBuilding CXX object CMakeFiles/lightgbm_objs.dir/src/objective/cuda/cuda_rank_objective.cpp.o\u001b[0m\n",
            "[ 64%] \u001b[32mBuilding CXX object CMakeFiles/lightgbm_objs.dir/src/objective/cuda/cuda_regression_objective.cpp.o\u001b[0m\n",
            "[ 66%] \u001b[32mBuilding CXX object CMakeFiles/lightgbm_objs.dir/src/objective/objective_function.cpp.o\u001b[0m\n",
            "[ 68%] \u001b[32mBuilding CXX object CMakeFiles/lightgbm_objs.dir/src/treelearner/cuda/cuda_best_split_finder.cpp.o\u001b[0m\n",
            "[ 70%] \u001b[32mBuilding CXX object CMakeFiles/lightgbm_objs.dir/src/treelearner/cuda/cuda_data_partition.cpp.o\u001b[0m\n",
            "[ 72%] \u001b[32mBuilding CXX object CMakeFiles/lightgbm_objs.dir/src/treelearner/cuda/cuda_histogram_constructor.cpp.o\u001b[0m\n",
            "[ 74%] \u001b[32mBuilding CXX object CMakeFiles/lightgbm_objs.dir/src/treelearner/cuda/cuda_leaf_splits.cpp.o\u001b[0m\n",
            "[ 76%] \u001b[32mBuilding CXX object CMakeFiles/lightgbm_objs.dir/src/treelearner/cuda/cuda_single_gpu_tree_learner.cpp.o\u001b[0m\n",
            "[ 78%] \u001b[32mBuilding CXX object CMakeFiles/lightgbm_objs.dir/src/treelearner/cuda_tree_learner.cpp.o\u001b[0m\n",
            "[ 80%] \u001b[32mBuilding CXX object CMakeFiles/lightgbm_objs.dir/src/treelearner/data_parallel_tree_learner.cpp.o\u001b[0m\n",
            "[ 82%] \u001b[32mBuilding CXX object CMakeFiles/lightgbm_objs.dir/src/treelearner/feature_parallel_tree_learner.cpp.o\u001b[0m\n",
            "[ 84%] \u001b[32mBuilding CXX object CMakeFiles/lightgbm_objs.dir/src/treelearner/gpu_tree_learner.cpp.o\u001b[0m\n",
            "[ 86%] \u001b[32mBuilding CXX object CMakeFiles/lightgbm_objs.dir/src/treelearner/linear_tree_learner.cpp.o\u001b[0m\n",
            "[ 88%] \u001b[32mBuilding CXX object CMakeFiles/lightgbm_objs.dir/src/treelearner/serial_tree_learner.cpp.o\u001b[0m\n",
            "[ 90%] \u001b[32mBuilding CXX object CMakeFiles/lightgbm_objs.dir/src/treelearner/tree_learner.cpp.o\u001b[0m\n",
            "[ 92%] \u001b[32mBuilding CXX object CMakeFiles/lightgbm_objs.dir/src/treelearner/voting_parallel_tree_learner.cpp.o\u001b[0m\n",
            "[ 92%] Built target lightgbm_objs\n",
            "[ 94%] \u001b[32mBuilding CXX object CMakeFiles/lightgbm.dir/src/main.cpp.o\u001b[0m\n",
            "[ 96%] \u001b[32mBuilding CXX object CMakeFiles/lightgbm.dir/src/application/application.cpp.o\u001b[0m\n",
            "[ 98%] \u001b[32m\u001b[1mLinking CXX shared library ../lib_lightgbm.so\u001b[0m\n",
            "[ 98%] Built target _lightgbm\n",
            "[100%] \u001b[32m\u001b[1mLinking CXX executable ../lightgbm\u001b[0m\n",
            "[100%] Built target lightgbm\n",
            "running install\n",
            "running build\n",
            "running build_py\n",
            "INFO:root:Generating grammar tables from /usr/lib/python3.7/lib2to3/Grammar.txt\n",
            "INFO:root:Generating grammar tables from /usr/lib/python3.7/lib2to3/PatternGrammar.txt\n",
            "creating build\n",
            "creating build/lib\n",
            "creating build/lib/lightgbm\n",
            "copying lightgbm/callback.py -> build/lib/lightgbm\n",
            "copying lightgbm/plotting.py -> build/lib/lightgbm\n",
            "copying lightgbm/__init__.py -> build/lib/lightgbm\n",
            "copying lightgbm/libpath.py -> build/lib/lightgbm\n",
            "copying lightgbm/compat.py -> build/lib/lightgbm\n",
            "copying lightgbm/dask.py -> build/lib/lightgbm\n",
            "copying lightgbm/engine.py -> build/lib/lightgbm\n",
            "copying lightgbm/sklearn.py -> build/lib/lightgbm\n",
            "copying lightgbm/basic.py -> build/lib/lightgbm\n",
            "running egg_info\n",
            "creating lightgbm.egg-info\n",
            "writing lightgbm.egg-info/PKG-INFO\n",
            "writing dependency_links to lightgbm.egg-info/dependency_links.txt\n",
            "writing requirements to lightgbm.egg-info/requires.txt\n",
            "writing top-level names to lightgbm.egg-info/top_level.txt\n",
            "writing manifest file 'lightgbm.egg-info/SOURCES.txt'\n",
            "reading manifest template 'MANIFEST.in'\n",
            "no previously-included directories found matching 'build'\n",
            "warning: no files found matching 'LICENSE'\n",
            "warning: no files found matching '*.txt'\n",
            "warning: no files found matching '*.so' under directory 'lightgbm'\n",
            "warning: no files found matching 'compile/CMakeLists.txt'\n",
            "warning: no files found matching 'compile/cmake/IntegratedOpenCL.cmake'\n",
            "warning: no files found matching '*.so' under directory 'compile'\n",
            "warning: no files found matching '*.dll' under directory 'compile/Release'\n",
            "warning: no files found matching 'compile/external_libs/compute/CMakeLists.txt'\n",
            "warning: no files found matching '*' under directory 'compile/external_libs/compute/cmake'\n",
            "warning: no files found matching '*' under directory 'compile/external_libs/compute/include'\n",
            "warning: no files found matching '*' under directory 'compile/external_libs/compute/meta'\n",
            "warning: no files found matching 'compile/external_libs/eigen/CMakeLists.txt'\n",
            "warning: no files found matching 'compile/external_libs/eigen/Eigen/Cholesky'\n",
            "warning: no files found matching 'compile/external_libs/eigen/Eigen/Core'\n",
            "warning: no files found matching 'compile/external_libs/eigen/Eigen/Dense'\n",
            "warning: no files found matching 'compile/external_libs/eigen/Eigen/Eigenvalues'\n",
            "warning: no files found matching 'compile/external_libs/eigen/Eigen/Geometry'\n",
            "warning: no files found matching 'compile/external_libs/eigen/Eigen/Householder'\n",
            "warning: no files found matching 'compile/external_libs/eigen/Eigen/Jacobi'\n",
            "warning: no files found matching 'compile/external_libs/eigen/Eigen/LU'\n",
            "warning: no files found matching 'compile/external_libs/eigen/Eigen/QR'\n",
            "warning: no files found matching 'compile/external_libs/eigen/Eigen/SVD'\n",
            "warning: no files found matching '*' under directory 'compile/external_libs/eigen/Eigen/src/Cholesky'\n",
            "warning: no files found matching '*' under directory 'compile/external_libs/eigen/Eigen/src/Core'\n",
            "warning: no files found matching '*' under directory 'compile/external_libs/eigen/Eigen/src/Eigenvalues'\n",
            "warning: no files found matching '*' under directory 'compile/external_libs/eigen/Eigen/src/Geometry'\n",
            "warning: no files found matching '*' under directory 'compile/external_libs/eigen/Eigen/src/Householder'\n",
            "warning: no files found matching '*' under directory 'compile/external_libs/eigen/Eigen/src/Jacobi'\n",
            "warning: no files found matching '*' under directory 'compile/external_libs/eigen/Eigen/src/LU'\n",
            "warning: no files found matching '*' under directory 'compile/external_libs/eigen/Eigen/src/misc'\n",
            "warning: no files found matching '*' under directory 'compile/external_libs/eigen/Eigen/src/plugins'\n",
            "warning: no files found matching '*' under directory 'compile/external_libs/eigen/Eigen/src/QR'\n",
            "warning: no files found matching '*' under directory 'compile/external_libs/eigen/Eigen/src/SVD'\n",
            "warning: no files found matching 'compile/external_libs/fast_double_parser/CMakeLists.txt'\n",
            "warning: no files found matching 'compile/external_libs/fast_double_parser/LICENSE'\n",
            "warning: no files found matching 'compile/external_libs/fast_double_parser/LICENSE.BSL'\n",
            "warning: no files found matching '*' under directory 'compile/external_libs/fast_double_parser/include'\n",
            "warning: no files found matching 'compile/external_libs/fmt/CMakeLists.txt'\n",
            "warning: no files found matching 'compile/external_libs/fmt/LICENSE.rst'\n",
            "warning: no files found matching '*' under directory 'compile/external_libs/fmt/include'\n",
            "warning: no files found matching '*' under directory 'compile/include'\n",
            "warning: no files found matching '*' under directory 'compile/src'\n",
            "warning: no files found matching 'LightGBM.sln' under directory 'compile/windows'\n",
            "warning: no files found matching 'LightGBM.vcxproj' under directory 'compile/windows'\n",
            "warning: no files found matching '*.dll' under directory 'compile/windows/x64/DLL'\n",
            "warning: no previously-included files matching '*.py[co]' found anywhere in distribution\n",
            "warning: no previously-included files found matching 'compile/external_libs/compute/.git'\n",
            "writing manifest file 'lightgbm.egg-info/SOURCES.txt'\n",
            "copying lightgbm/VERSION.txt -> build/lib/lightgbm\n",
            "running install_lib\n",
            "copying build/lib/lightgbm/callback.py -> /usr/local/lib/python3.7/dist-packages/lightgbm\n",
            "copying build/lib/lightgbm/plotting.py -> /usr/local/lib/python3.7/dist-packages/lightgbm\n",
            "copying build/lib/lightgbm/__init__.py -> /usr/local/lib/python3.7/dist-packages/lightgbm\n",
            "copying build/lib/lightgbm/libpath.py -> /usr/local/lib/python3.7/dist-packages/lightgbm\n",
            "copying build/lib/lightgbm/VERSION.txt -> /usr/local/lib/python3.7/dist-packages/lightgbm\n",
            "copying build/lib/lightgbm/compat.py -> /usr/local/lib/python3.7/dist-packages/lightgbm\n",
            "copying build/lib/lightgbm/dask.py -> /usr/local/lib/python3.7/dist-packages/lightgbm\n",
            "copying build/lib/lightgbm/engine.py -> /usr/local/lib/python3.7/dist-packages/lightgbm\n",
            "copying build/lib/lightgbm/sklearn.py -> /usr/local/lib/python3.7/dist-packages/lightgbm\n",
            "copying build/lib/lightgbm/basic.py -> /usr/local/lib/python3.7/dist-packages/lightgbm\n",
            "INFO:LightGBM:Installing lib_lightgbm from: ['/content/LightGBM/lib_lightgbm.so']\n",
            "copying /content/LightGBM/lib_lightgbm.so -> /usr/local/lib/python3.7/dist-packages/lightgbm\n",
            "byte-compiling /usr/local/lib/python3.7/dist-packages/lightgbm/callback.py to callback.cpython-37.pyc\n",
            "byte-compiling /usr/local/lib/python3.7/dist-packages/lightgbm/plotting.py to plotting.cpython-37.pyc\n",
            "byte-compiling /usr/local/lib/python3.7/dist-packages/lightgbm/__init__.py to __init__.cpython-37.pyc\n",
            "byte-compiling /usr/local/lib/python3.7/dist-packages/lightgbm/libpath.py to libpath.cpython-37.pyc\n",
            "byte-compiling /usr/local/lib/python3.7/dist-packages/lightgbm/compat.py to compat.cpython-37.pyc\n",
            "byte-compiling /usr/local/lib/python3.7/dist-packages/lightgbm/dask.py to dask.cpython-37.pyc\n",
            "byte-compiling /usr/local/lib/python3.7/dist-packages/lightgbm/engine.py to engine.cpython-37.pyc\n",
            "byte-compiling /usr/local/lib/python3.7/dist-packages/lightgbm/sklearn.py to sklearn.cpython-37.pyc\n",
            "byte-compiling /usr/local/lib/python3.7/dist-packages/lightgbm/basic.py to basic.cpython-37.pyc\n",
            "running install_egg_info\n",
            "Copying lightgbm.egg-info to /usr/local/lib/python3.7/dist-packages/lightgbm-3.3.3.99-py3.7.egg-info\n",
            "running install_scripts\n"
          ]
        }
      ]
    },
    {
      "cell_type": "markdown",
      "source": [
        "# data loading"
      ],
      "metadata": {
        "id": "0TcN0KuAe58B"
      }
    },
    {
      "cell_type": "code",
      "source": [
        "import os\n",
        "import pickle\n",
        "\n",
        "import numpy as np\n",
        "import pandas as pd\n",
        "import matplotlib.pyplot as plt\n",
        "\n",
        "from lightgbm.sklearn import LGBMRanker\n",
        "\n",
        "from tqdm import tqdm"
      ],
      "metadata": {
        "id": "PPzbyGmOe-se"
      },
      "execution_count": 1,
      "outputs": []
    },
    {
      "cell_type": "code",
      "source": [
        "def get_df_log_of(df_log, dname):\n",
        "    df_log = df_log.copy()\n",
        "    if dname == 'CV':\n",
        "        df_log = df_log[(df_log['t_dat'] < '2019-10-02')]\n",
        "        df_log['target'] = 'train'\n",
        "        df_log.loc[(df_log['t_dat'] >= '2019-09-18'), 'target'] = 'valid'\n",
        "        df_log.loc[(df_log['t_dat'] >= '2019-09-25'), 'target'] = 'test'\n",
        "    elif dname == 'LB':\n",
        "        df_log = df_log[(df_log['t_dat'] >= '2019-09-19')]\n",
        "        df_log['target'] = 'train'\n",
        "        df_log.loc[(df_log['t_dat'] >= '2020-09-16'), 'target'] = 'valid'\n",
        "    else:\n",
        "        raise Exception(\"dname = CV or LB only\")\n",
        "    return df_log\n",
        "\n",
        "def customer_hex_id_to_int(series):\n",
        "    return series.str[-16:].apply(hex_id_to_int)\n",
        "\n",
        "def hex_id_to_int(str):\n",
        "    return int(str[-16:], 16)\n",
        "\n",
        "def article_id_str_to_int(series):\n",
        "    return series.astype('int32')\n",
        "\n",
        "def article_id_int_to_str(series):\n",
        "    return '0' + series.astype('str')\n",
        "\n",
        "from typing import List\n",
        "\n",
        "def calc_ap(answerset: set, predictions: List[str], top_k: int = 12) -> float:\n",
        "    if not answerset:\n",
        "        return 0.0\n",
        "    if len(predictions) > top_k:\n",
        "        predictions = predictions[:top_k]\n",
        "    score = 0.0\n",
        "    hit_count = 0.0\n",
        "    seenset = set()\n",
        "    for index, prediction in enumerate(predictions):\n",
        "        if prediction in answerset and prediction not in seenset:\n",
        "            hit_count += 1.0\n",
        "            score += hit_count / (index + 1.0)\n",
        "            seenset.add(prediction)\n",
        "    return score / min(len(answerset), top_k)"
      ],
      "metadata": {
        "id": "N5fcUbxEfGn1"
      },
      "execution_count": 2,
      "outputs": []
    },
    {
      "cell_type": "code",
      "source": [
        "df_sub_raw = pd.read_parquet('raw/sample_submission.pq')\n",
        "\n",
        "df_user = pd.read_parquet('data/df_user_preprocessed.pq')\n",
        "df_log_all = pd.read_parquet('data/df_log_preprocessed.pq')\n",
        "df_log_CV = get_df_log_of(df_log_all, 'CV')\n",
        "df_log_LB = get_df_log_of(df_log_all, 'LB')\n",
        "\n",
        "del df_log_all"
      ],
      "metadata": {
        "id": "-Aum6OvLfJ80"
      },
      "execution_count": 3,
      "outputs": []
    },
    {
      "cell_type": "code",
      "source": [
        "df_user.reset_index(inplace=True)\n",
        "df_user.drop(columns=['Active', 'age'], inplace=True)"
      ],
      "metadata": {
        "id": "StFJ0tkAfTMk"
      },
      "execution_count": 4,
      "outputs": []
    },
    {
      "cell_type": "code",
      "source": [
        "df_log_CV['customer_id'] = customer_hex_id_to_int(df_log_CV['customer_id'])\n",
        "df_log_LB['customer_id'] = customer_hex_id_to_int(df_log_LB['customer_id'])\n",
        "df_log_CV['article_id'] = article_id_str_to_int(df_log_CV['article_id'])\n",
        "df_log_LB['article_id'] = article_id_str_to_int(df_log_LB['article_id'])\n",
        "df_log_CV.drop(columns='t_dat', inplace=True)\n",
        "df_log_LB.drop(columns='t_dat', inplace=True)\n",
        "df_user['customer_id'] = customer_hex_id_to_int(df_user['customer_id'])"
      ],
      "metadata": {
        "id": "OwbIncE8fT2A"
      },
      "execution_count": 5,
      "outputs": []
    },
    {
      "cell_type": "markdown",
      "source": [
        "# CV"
      ],
      "metadata": {
        "id": "o0ikIJVCYO-m"
      }
    },
    {
      "cell_type": "code",
      "source": [
        "df_log_CV_test = df_log_CV[df_log_CV['target'] == 'test']\n",
        "df_log_CV_train_valid = df_log_CV[df_log_CV['target'] != 'test']"
      ],
      "metadata": {
        "id": "jRuz4d8wFTog"
      },
      "execution_count": 9,
      "outputs": []
    },
    {
      "cell_type": "code",
      "source": [
        "uid2aiidset_CV = {}\n",
        "for row in df_log_CV_test[['customer_id', 'article_id']].itertuples():\n",
        "    _, uid, iid = row\n",
        "    if uid not in uid2aiidset_CV:\n",
        "        uid2aiidset_CV[uid] = set()\n",
        "    uid2aiidset_CV[uid].add('0'+str(iid))"
      ],
      "metadata": {
        "id": "cx3VPwagYM4u"
      },
      "execution_count": 10,
      "outputs": []
    },
    {
      "cell_type": "markdown",
      "source": [
        "### generating candidates"
      ],
      "metadata": {
        "id": "-oxUnQksbPxe"
      }
    },
    {
      "cell_type": "code",
      "source": [
        "week_cut = 8\n",
        "\n",
        "val_week = df_log_CV_train_valid['week'].iloc[-1]\n",
        "c2weeks = df_log_CV_train_valid.groupby('customer_id')['week'].unique()\n",
        "\n",
        "candidates_lastpurchase = []\n",
        "lastpurchase_valweek = {}\n",
        "\n",
        "c2weeks2shiftedweeks = {}\n",
        "for id, weeks in c2weeks.items():\n",
        "    c2weeks2shiftedweeks[id] = {}\n",
        "    for week in weeks:\n",
        "        c2weeks2shiftedweeks[id][week] = week\n",
        "\n",
        "for j in range(week_cut):\n",
        "    for id, weeks in c2weeks.items():\n",
        "        for week in weeks:\n",
        "            c2weeks2shiftedweeks[id][week] = min(c2weeks2shiftedweeks[id][week]+1, val_week)\n",
        "\n",
        "    df_copy_temp = df_log_CV_train_valid.copy()\n",
        "\n",
        "    weeks = []\n",
        "    for id, aid, week in zip(df_log_CV_train_valid['customer_id'], df_log_CV_train_valid['article_id'], df_log_CV_train_valid['week']):\n",
        "        weeks.append(c2weeks2shiftedweeks[id][week])\n",
        "        if c2weeks2shiftedweeks[id][week] == val_week:\n",
        "            if id in lastpurchase_valweek:\n",
        "                lastpurchase_valweek[id].append('0'+str(aid))\n",
        "            else:\n",
        "                lastpurchase_valweek[id] = ['0'+str(aid)]\n",
        "    df_copy_temp.week = weeks\n",
        "\n",
        "    candidates_lastpurchase.append(df_copy_temp.sample(frac=0.125, random_state=24+j).copy())\n",
        "\n",
        "    del df_copy_temp\n",
        "\n",
        "del c2weeks"
      ],
      "metadata": {
        "id": "TdCqnjm8bfmd"
      },
      "execution_count": 11,
      "outputs": []
    },
    {
      "cell_type": "code",
      "source": [
        "local_week_cut = 4\n",
        "\n",
        "df_log_temp = df_log_CV_train_valid[df_log_CV_train_valid['week']>val_week-local_week_cut]\n",
        "df_iid_count_temp = df_log_temp[['article_id', 'customer_id']].groupby('article_id').count()\n",
        "df_iid_count_temp.columns = ['count']\n",
        "local_popular_iids = article_id_int_to_str(df_iid_count_temp.sort_values('count', ascending=False).iloc[:12].index).tolist()\n",
        "\n",
        "del df_iid_count_temp\n",
        "del df_log_temp"
      ],
      "metadata": {
        "id": "mQ38aFbFGQdt"
      },
      "execution_count": 12,
      "outputs": []
    },
    {
      "cell_type": "code",
      "source": [
        "df_log_CV_train_valid['purchased'] = 1\n",
        "\n",
        "data = pd.concat([df_log_CV_train_valid, *candidates_lastpurchase])\n",
        "data.purchased.fillna(0, inplace=True)"
      ],
      "metadata": {
        "colab": {
          "base_uri": "https://localhost:8080/"
        },
        "id": "xhPKtodGdT0c",
        "outputId": "e2e98522-7b2d-494e-9780-332b1982b9df"
      },
      "execution_count": 13,
      "outputs": [
        {
          "output_type": "stream",
          "name": "stderr",
          "text": [
            "/usr/local/lib/python3.7/dist-packages/ipykernel_launcher.py:1: SettingWithCopyWarning: \n",
            "A value is trying to be set on a copy of a slice from a DataFrame.\n",
            "Try using .loc[row_indexer,col_indexer] = value instead\n",
            "\n",
            "See the caveats in the documentation: https://pandas.pydata.org/pandas-docs/stable/user_guide/indexing.html#returning-a-view-versus-a-copy\n",
            "  \"\"\"Entry point for launching an IPython kernel.\n"
          ]
        }
      ]
    },
    {
      "cell_type": "code",
      "source": [
        "data['customer_id'] = data['customer_id'].astype('int64')\n",
        "\n",
        "data = data.merge(df_user, on='customer_id', how='left', copy=False)\n",
        "\n",
        "data = data.sort_values(['week', 'customer_id'])\n",
        "data = data.reset_index(drop=True)"
      ],
      "metadata": {
        "id": "mHzbw3F6_Gzp"
      },
      "execution_count": 14,
      "outputs": []
    },
    {
      "cell_type": "code",
      "source": [
        "data.info(memory_usage='deep')"
      ],
      "metadata": {
        "colab": {
          "base_uri": "https://localhost:8080/"
        },
        "id": "32Hcq9bcAIr4",
        "outputId": "5ff2cd84-2c42-4fc2-f505-893047ed0292"
      },
      "execution_count": null,
      "outputs": [
        {
          "output_type": "stream",
          "name": "stdout",
          "text": [
            "<class 'pandas.core.frame.DataFrame'>\n",
            "RangeIndex: 33921359 entries, 0 to 33921358\n",
            "Data columns (total 19 columns):\n",
            " #   Column            Dtype         \n",
            "---  ------            -----         \n",
            " 0   customer_id       int64         \n",
            " 1   article_id        int32         \n",
            " 2   price             float64       \n",
            " 3   sales_channel_id  int64         \n",
            " 4   timestamp         int64         \n",
            " 5   dto               datetime64[ns]\n",
            " 6   week              int64         \n",
            " 7   log_price         float64       \n",
            " 8   target            object        \n",
            " 9   purchased         float64       \n",
            " 10  FN                int32         \n",
            " 11  ACTIVE            uint8         \n",
            " 12  LEFT CLUB         uint8         \n",
            " 13  PRE-CREATE        uint8         \n",
            " 14  Monthly           uint8         \n",
            " 15  NONE              uint8         \n",
            " 16  Regularly         uint8         \n",
            " 17  age_gmm_1         float64       \n",
            " 18  age_gmm_2         float64       \n",
            "dtypes: datetime64[ns](1), float64(5), int32(2), int64(4), object(1), uint8(6)\n",
            "memory usage: 4.9 GB\n"
          ]
        }
      ]
    },
    {
      "cell_type": "markdown",
      "source": [
        "### training"
      ],
      "metadata": {
        "id": "GVT9FFqqAjDj"
      }
    },
    {
      "cell_type": "code",
      "source": [
        "train = data[data.week != val_week]\n",
        "val = data[data.week==val_week].drop_duplicates(['customer_id', 'article_id', 'sales_channel_id'])\n",
        "\n",
        "train_baskets = train.groupby(['week', 'customer_id'])['article_id'].count().values"
      ],
      "metadata": {
        "id": "2rQIidq8AinP"
      },
      "execution_count": 15,
      "outputs": []
    },
    {
      "cell_type": "code",
      "source": [
        "columns_to_use = ['article_id', 'sales_channel_id',\n",
        "                  'week', 'log_price', 'FN',\n",
        "                  'ACTIVE', 'LEFT CLUB', 'PRE-CREATE',\n",
        "                  'Monthly', 'NONE', 'Regularly',\n",
        "                  'age_gmm_1', 'age_gmm_2']\n",
        "\n",
        "train_X = train[columns_to_use]\n",
        "train_y = train['purchased']\n",
        "\n",
        "val_X = val[columns_to_use]"
      ],
      "metadata": {
        "id": "FNWQ_6hpIxPT"
      },
      "execution_count": 16,
      "outputs": []
    },
    {
      "cell_type": "markdown",
      "source": [
        "### one model"
      ],
      "metadata": {
        "id": "pXbiyhRnH10V"
      }
    },
    {
      "cell_type": "code",
      "source": [
        "ranker = LGBMRanker(\n",
        "    objective='lambdarank',\n",
        "    metric='ndcg',\n",
        "    boosting_type='goss',\n",
        "    n_estimators=30,\n",
        "    importance_type='gain',\n",
        "    verbose=10,\n",
        "    max_depth=4,\n",
        "    device='gpu'\n",
        ")"
      ],
      "metadata": {
        "id": "RU1ZORLrI6U2"
      },
      "execution_count": null,
      "outputs": []
    },
    {
      "cell_type": "code",
      "source": [
        "ranker = ranker.fit(\n",
        "    train_X, train_y,\n",
        "    group=train_baskets\n",
        ")"
      ],
      "metadata": {
        "id": "gOWRfscAJNuw"
      },
      "execution_count": null,
      "outputs": []
    },
    {
      "cell_type": "code",
      "source": [
        "for i in ranker.feature_importances_.argsort()[::-1]:\n",
        "    print(columns_to_use[i], ranker.feature_importances_[i]/ranker.feature_importances_.sum())"
      ],
      "metadata": {
        "colab": {
          "base_uri": "https://localhost:8080/"
        },
        "id": "ncQWfeumJSoA",
        "outputId": "5cbd532a-3430-4c88-ebd8-5a52e3a30a58"
      },
      "execution_count": null,
      "outputs": [
        {
          "output_type": "stream",
          "name": "stdout",
          "text": [
            "article_id 0.5006277692668195\n",
            "week 0.2554346641132712\n",
            "sales_channel_id 0.15664731193244236\n",
            "log_price 0.08187873944975718\n",
            "age_gmm_1 0.004467460309324328\n",
            "age_gmm_2 0.0009440549283854498\n",
            "Regularly 0.0\n",
            "NONE 0.0\n",
            "Monthly 0.0\n",
            "PRE-CREATE 0.0\n",
            "LEFT CLUB 0.0\n",
            "ACTIVE 0.0\n",
            "FN 0.0\n"
          ]
        }
      ]
    },
    {
      "cell_type": "markdown",
      "source": [
        "### validation"
      ],
      "metadata": {
        "id": "QngCMEGgJYpg"
      }
    },
    {
      "cell_type": "code",
      "source": [
        "val['preds'] = ranker.predict(val_X)\n",
        "\n",
        "c_id2predicted_article_ids = val \\\n",
        "    .sort_values(['customer_id', 'preds'], ascending=False) \\\n",
        "    .groupby('customer_id')['article_id'].apply(list).to_dict()"
      ],
      "metadata": {
        "id": "yJ0xtQrDJXPX"
      },
      "execution_count": null,
      "outputs": []
    },
    {
      "cell_type": "code",
      "source": [
        "aps = []\n",
        "\n",
        "for uid, aiidset in uid2aiidset_CV.items():\n",
        "    preds = []\n",
        "    if uid in c_id2predicted_article_ids:\n",
        "        preds.extend(['0'+str(p) for p in c_id2predicted_article_ids[uid]])\n",
        "    if uid in lastpurchase_valweek:\n",
        "        for iid in lastpurchase_valweek[uid]:\n",
        "            if iid in preds: continue\n",
        "            preds.append(iid)\n",
        "    for iid in local_popular_iids:\n",
        "        if iid in preds: continue\n",
        "        preds.append(iid)\n",
        "    aps.append(calc_ap(aiidset, preds[:12]))\n",
        "\n",
        "mean_ap = np.array(aps).mean()"
      ],
      "metadata": {
        "id": "SanF3nA4KB1N"
      },
      "execution_count": null,
      "outputs": []
    },
    {
      "cell_type": "code",
      "source": [
        "mean_ap"
      ],
      "metadata": {
        "colab": {
          "base_uri": "https://localhost:8080/"
        },
        "id": "tDYbpf8QOYAf",
        "outputId": "81676c15-c9b2-4293-fd40-a51170a85ccc"
      },
      "execution_count": null,
      "outputs": [
        {
          "output_type": "execute_result",
          "data": {
            "text/plain": [
              "0.01885726045994695"
            ]
          },
          "metadata": {},
          "execution_count": 29
        }
      ]
    },
    {
      "cell_type": "markdown",
      "source": [
        "### searching for good hyperparameters"
      ],
      "metadata": {
        "id": "zdtnp1y2ECKA"
      }
    },
    {
      "cell_type": "code",
      "source": [
        "n_estimators_list = [1, 3, 30, 50, 100, 200, 300]\n",
        "max_depth_list = [3, 4, 6, 8, 9, 10]\n",
        "hyp_list = [(n, m) for n in n_estimators_list for m in max_depth_list]\n",
        "\n",
        "rankers = []\n",
        "for n, m in hyp_list:\n",
        "    rankers.append(LGBMRanker(\n",
        "        objective='lambdarank',\n",
        "        metric='ndcg',\n",
        "        boosting_type='goss',\n",
        "        n_estimators=n,\n",
        "        importance_type='gain',\n",
        "        verbose=-1,\n",
        "        max_depth=m,\n",
        "        device='gpu'))"
      ],
      "metadata": {
        "id": "xXOVM-fZEByK"
      },
      "execution_count": 19,
      "outputs": []
    },
    {
      "cell_type": "code",
      "source": [
        "fit_rankers = []\n",
        "for r in tqdm(rankers):\n",
        "    fit_rankers.append(r.fit(train_X, train_y, group=train_baskets))"
      ],
      "metadata": {
        "id": "jqppEG1EHEcY"
      },
      "execution_count": null,
      "outputs": []
    },
    {
      "cell_type": "code",
      "source": [
        "val_copy = val.copy(deep=False)\n",
        "best_ap = 0\n",
        "best_hyp = (0, 0)\n",
        "\n",
        "for i in tqdm(range(len(hyp_list))):\n",
        "    r = fit_rankers[i]\n",
        "    n, m = hyp_list[i]\n",
        "    val_copy['preds'] = r.predict(val_X)\n",
        "    c_id2predicted_article_ids = val_copy \\\n",
        "        .sort_values(['customer_id', 'preds'], ascending=False) \\\n",
        "        .groupby('customer_id')['article_id'].apply(list).to_dict()\n",
        "\n",
        "    aps = []\n",
        "    for uid, aiidset in uid2aiidset_CV.items():\n",
        "        preds = []\n",
        "        if uid in c_id2predicted_article_ids:\n",
        "            preds.extend(['0'+str(p) for p in c_id2predicted_article_ids[uid]])\n",
        "        if uid in lastpurchase_valweek:\n",
        "            for iid in lastpurchase_valweek[uid]:\n",
        "                if iid in preds: continue\n",
        "                preds.append(iid)\n",
        "        for iid in local_popular_iids:\n",
        "            if iid in preds: continue\n",
        "            preds.append(iid)\n",
        "        aps.append(calc_ap(aiidset, preds[:12]))\n",
        "    mean_ap = np.array(aps).mean()\n",
        "\n",
        "    if mean_ap > best_ap:\n",
        "        best_ap = mean_ap\n",
        "        best_hyp = (n, m)\n",
        "\n",
        "print(best_hyp, best_ap)"
      ],
      "metadata": {
        "colab": {
          "base_uri": "https://localhost:8080/"
        },
        "id": "qCAzW2cLHGaL",
        "outputId": "e683163c-9458-4a4e-a077-8e0a6124e232"
      },
      "execution_count": 22,
      "outputs": [
        {
          "output_type": "stream",
          "name": "stderr",
          "text": [
            "100%|██████████| 42/42 [05:59<00:00,  8.55s/it]"
          ]
        },
        {
          "output_type": "stream",
          "name": "stdout",
          "text": [
            "(200, 8) 0.01910618398681305\n"
          ]
        },
        {
          "output_type": "stream",
          "name": "stderr",
          "text": [
            "\n"
          ]
        }
      ]
    },
    {
      "cell_type": "markdown",
      "source": [
        "### clearing up space"
      ],
      "metadata": {
        "id": "mygP4SyTOkIK"
      }
    },
    {
      "cell_type": "code",
      "source": [
        "del uid2aiidset_CV\n",
        "del lastpurchase_valweek\n",
        "del local_popular_iids\n",
        "del c_id2predicted_article_ids\n",
        "del candidates_lastpurchase"
      ],
      "metadata": {
        "id": "WFslbQ_3OikE"
      },
      "execution_count": 24,
      "outputs": []
    },
    {
      "cell_type": "code",
      "source": [
        "del train_X\n",
        "del train_y\n",
        "del val_X\n",
        "del train\n",
        "del val\n",
        "del data\n",
        "del df_log_CV_test\n",
        "del df_log_CV_train_valid\n",
        "del df_log_CV"
      ],
      "metadata": {
        "id": "DcXvZMOCPuy1"
      },
      "execution_count": 25,
      "outputs": []
    },
    {
      "cell_type": "markdown",
      "source": [
        "# LB"
      ],
      "metadata": {
        "id": "W9JadYNFOmfr"
      }
    },
    {
      "cell_type": "markdown",
      "source": [
        "### generating candidates"
      ],
      "metadata": {
        "id": "sylgF9Itg3mz"
      }
    },
    {
      "cell_type": "code",
      "source": [
        "week_cut = 8\n",
        "\n",
        "test_week = df_log_LB['week'].iloc[-1]\n",
        "c2weeks = df_log_LB.groupby('customer_id')['week'].unique()\n",
        "\n",
        "candidates_lastpurchase = []\n",
        "lastpurchase_testweek = {}\n",
        "\n",
        "c2weeks2shiftedweeks = {}\n",
        "for id, weeks in c2weeks.items():\n",
        "    c2weeks2shiftedweeks[id] = {}\n",
        "    for week in weeks:\n",
        "        c2weeks2shiftedweeks[id][week] = week\n",
        "\n",
        "for j in range(week_cut):\n",
        "    for id, weeks in c2weeks.items():\n",
        "        for week in weeks:\n",
        "            c2weeks2shiftedweeks[id][week] = min(c2weeks2shiftedweeks[id][week]+1, test_week)\n",
        "\n",
        "    df_copy_temp = df_log_LB.copy()\n",
        "\n",
        "    weeks = []\n",
        "    for id, aid, week in zip(df_log_LB['customer_id'], df_log_LB['article_id'], df_log_LB['week']):\n",
        "        weeks.append(c2weeks2shiftedweeks[id][week])\n",
        "        if c2weeks2shiftedweeks[id][week] == test_week:\n",
        "            if id in lastpurchase_testweek:\n",
        "                lastpurchase_testweek[id].append('0'+str(aid))\n",
        "            else:\n",
        "                lastpurchase_testweek[id] = ['0'+str(aid)]\n",
        "    df_copy_temp.week = weeks\n",
        "\n",
        "    candidates_lastpurchase.append(df_copy_temp.sample(frac=0.125, random_state=24+j).copy())\n",
        "\n",
        "    del df_copy_temp\n",
        "\n",
        "del c2weeks\n",
        "\n",
        "local_week_cut = 4\n",
        "\n",
        "df_log_temp = df_log_LB[df_log_LB['week']>test_week-local_week_cut]\n",
        "df_iid_count_temp = df_log_temp[['article_id', 'customer_id']].groupby('article_id').count()\n",
        "df_iid_count_temp.columns = ['count']\n",
        "local_popular_iids = article_id_int_to_str(df_iid_count_temp.sort_values('count', ascending=False).iloc[:12].index).tolist()\n",
        "\n",
        "del df_iid_count_temp\n",
        "del df_log_temp\n",
        "\n",
        "df_log_LB['purchased'] = 1\n",
        "\n",
        "data = pd.concat([df_log_LB, *candidates_lastpurchase])\n",
        "data.purchased.fillna(0, inplace=True)\n",
        "\n",
        "data['customer_id'] = data['customer_id'].astype('int64')\n",
        "\n",
        "data = data.merge(df_user, on='customer_id', how='left', copy=False)\n",
        "\n",
        "data = data.sort_values(['week', 'customer_id'])\n",
        "data = data.reset_index(drop=True)"
      ],
      "metadata": {
        "id": "cTb0TJanOmNY"
      },
      "execution_count": 7,
      "outputs": []
    },
    {
      "cell_type": "code",
      "source": [
        "data.info(memory_usage='deep')"
      ],
      "metadata": {
        "colab": {
          "base_uri": "https://localhost:8080/"
        },
        "id": "qLIIIiNWrRG9",
        "outputId": "c0296e83-f836-4397-f779-3fa01dfdc36a"
      },
      "execution_count": 9,
      "outputs": [
        {
          "output_type": "stream",
          "name": "stdout",
          "text": [
            "<class 'pandas.core.frame.DataFrame'>\n",
            "RangeIndex: 30041826 entries, 0 to 30041825\n",
            "Data columns (total 19 columns):\n",
            " #   Column            Dtype         \n",
            "---  ------            -----         \n",
            " 0   customer_id       int64         \n",
            " 1   article_id        int32         \n",
            " 2   price             float64       \n",
            " 3   sales_channel_id  int64         \n",
            " 4   timestamp         int64         \n",
            " 5   dto               datetime64[ns]\n",
            " 6   week              int64         \n",
            " 7   log_price         float64       \n",
            " 8   target            object        \n",
            " 9   purchased         float64       \n",
            " 10  FN                int32         \n",
            " 11  ACTIVE            uint8         \n",
            " 12  LEFT CLUB         uint8         \n",
            " 13  PRE-CREATE        uint8         \n",
            " 14  Monthly           uint8         \n",
            " 15  NONE              uint8         \n",
            " 16  Regularly         uint8         \n",
            " 17  age_gmm_1         float64       \n",
            " 18  age_gmm_2         float64       \n",
            "dtypes: datetime64[ns](1), float64(5), int32(2), int64(4), object(1), uint8(6)\n",
            "memory usage: 4.4 GB\n"
          ]
        }
      ]
    },
    {
      "cell_type": "markdown",
      "source": [
        "### training"
      ],
      "metadata": {
        "id": "HkEf_FswkK_Y"
      }
    },
    {
      "cell_type": "code",
      "source": [
        "train = data[data.week != test_week]\n",
        "test = data[data.week==test_week].drop_duplicates(['customer_id', 'article_id', 'sales_channel_id'])\n",
        "\n",
        "train_baskets = train.groupby(['week', 'customer_id'])['article_id'].count().values\n",
        "\n",
        "columns_to_use = ['article_id', 'sales_channel_id',\n",
        "                  'week', 'log_price', 'FN',\n",
        "                  'ACTIVE', 'LEFT CLUB', 'PRE-CREATE',\n",
        "                  'Monthly', 'NONE', 'Regularly',\n",
        "                  'age_gmm_1', 'age_gmm_2']\n",
        "\n",
        "train_X = train[columns_to_use]\n",
        "train_y = train['purchased']\n",
        "\n",
        "test_X = test[columns_to_use]"
      ],
      "metadata": {
        "id": "_8s8-gWVkE2F"
      },
      "execution_count": 11,
      "outputs": []
    },
    {
      "cell_type": "code",
      "source": [
        "ranker = LGBMRanker(\n",
        "    objective='lambdarank',\n",
        "    metric='ndcg',\n",
        "    boosting_type='goss',\n",
        "    n_estimators=200,\n",
        "    importance_type='gain',\n",
        "    verbose=10,\n",
        "    max_depth=8,\n",
        "    device='gpu'\n",
        ")\n",
        "\n",
        "ranker = ranker.fit(\n",
        "    train_X, train_y,\n",
        "    group=train_baskets\n",
        ")"
      ],
      "metadata": {
        "colab": {
          "base_uri": "https://localhost:8080/"
        },
        "id": "TJCt-mgnn59D",
        "outputId": "5c740d98-7720-44a6-c433-1e1b7fcb27c5"
      },
      "execution_count": 12,
      "outputs": [
        {
          "output_type": "stream",
          "name": "stdout",
          "text": [
            "[LightGBM] [Warning] Accuracy may be bad since you didn't explicitly set num_leaves OR 2^max_depth > num_leaves. (num_leaves=31).\n",
            "[LightGBM] [Warning] Found whitespace in feature_names, replace with underlines\n",
            "[LightGBM] [Warning] Accuracy may be bad since you didn't explicitly set num_leaves OR 2^max_depth > num_leaves. (num_leaves=31).\n",
            "[LightGBM] [Info] This is the GPU trainer!!\n",
            "[LightGBM] [Debug] Dataset::GetMultiBinFromSparseFeatures: sparse rate 0.937535\n",
            "[LightGBM] [Info] Total Bins 731\n",
            "[LightGBM] [Info] Number of data points in the train set: 28341931, number of used features: 13\n",
            "[LightGBM] [Info] Using GPU Device: A100-SXM4-40GB, Vendor: NVIDIA Corporation\n",
            "[LightGBM] [Info] Compiling OpenCL Kernel with 256 bins...\n",
            "[LightGBM] [Info] GPU programs have been built\n",
            "[LightGBM] [Info] Size of histogram bin entry: 8\n",
            "[LightGBM] [Info] 7 dense feature groups (216.23 MB) transferred to GPU in 0.240359 secs. 1 sparse feature groups\n",
            "[LightGBM] [Info] Using GOSS\n",
            "[LightGBM] [Debug] Trained a tree with leaves = 31 and depth = 8\n",
            "[LightGBM] [Debug] Trained a tree with leaves = 31 and depth = 7\n",
            "[LightGBM] [Debug] Trained a tree with leaves = 31 and depth = 7\n",
            "[LightGBM] [Debug] Trained a tree with leaves = 31 and depth = 8\n",
            "[LightGBM] [Debug] Trained a tree with leaves = 31 and depth = 8\n",
            "[LightGBM] [Debug] Trained a tree with leaves = 31 and depth = 8\n",
            "[LightGBM] [Debug] Trained a tree with leaves = 31 and depth = 8\n",
            "[LightGBM] [Debug] Trained a tree with leaves = 31 and depth = 8\n",
            "[LightGBM] [Debug] Trained a tree with leaves = 31 and depth = 8\n",
            "[LightGBM] [Debug] Trained a tree with leaves = 31 and depth = 8\n",
            "[LightGBM] [Info] Size of histogram bin entry: 8\n",
            "[LightGBM] [Info] 7 dense feature groups (64.88 MB) transferred to GPU in 0.083457 secs. 1 sparse feature groups\n",
            "[LightGBM] [Debug] Trained a tree with leaves = 31 and depth = 8\n",
            "[LightGBM] [Info] Size of histogram bin entry: 8\n",
            "[LightGBM] [Info] 7 dense feature groups (64.88 MB) transferred to GPU in 0.080541 secs. 1 sparse feature groups\n",
            "[LightGBM] [Debug] Trained a tree with leaves = 31 and depth = 8\n",
            "[LightGBM] [Info] Size of histogram bin entry: 8\n",
            "[LightGBM] [Info] 7 dense feature groups (64.88 MB) transferred to GPU in 0.080500 secs. 1 sparse feature groups\n",
            "[LightGBM] [Debug] Trained a tree with leaves = 31 and depth = 8\n",
            "[LightGBM] [Info] Size of histogram bin entry: 8\n",
            "[LightGBM] [Info] 7 dense feature groups (64.88 MB) transferred to GPU in 0.080975 secs. 1 sparse feature groups\n",
            "[LightGBM] [Debug] Trained a tree with leaves = 31 and depth = 8\n",
            "[LightGBM] [Info] Size of histogram bin entry: 8\n",
            "[LightGBM] [Info] 7 dense feature groups (64.88 MB) transferred to GPU in 0.081296 secs. 1 sparse feature groups\n",
            "[LightGBM] [Debug] Trained a tree with leaves = 31 and depth = 8\n",
            "[LightGBM] [Info] Size of histogram bin entry: 8\n",
            "[LightGBM] [Info] 7 dense feature groups (64.87 MB) transferred to GPU in 0.080188 secs. 1 sparse feature groups\n",
            "[LightGBM] [Debug] Trained a tree with leaves = 31 and depth = 8\n",
            "[LightGBM] [Info] Size of histogram bin entry: 8\n",
            "[LightGBM] [Info] 7 dense feature groups (64.87 MB) transferred to GPU in 0.080993 secs. 1 sparse feature groups\n",
            "[LightGBM] [Debug] Trained a tree with leaves = 31 and depth = 8\n",
            "[LightGBM] [Info] Size of histogram bin entry: 8\n",
            "[LightGBM] [Info] 7 dense feature groups (64.87 MB) transferred to GPU in 0.080392 secs. 1 sparse feature groups\n",
            "[LightGBM] [Debug] Trained a tree with leaves = 31 and depth = 8\n",
            "[LightGBM] [Info] Size of histogram bin entry: 8\n",
            "[LightGBM] [Info] 7 dense feature groups (64.87 MB) transferred to GPU in 0.081054 secs. 1 sparse feature groups\n",
            "[LightGBM] [Debug] Trained a tree with leaves = 31 and depth = 8\n",
            "[LightGBM] [Info] Size of histogram bin entry: 8\n",
            "[LightGBM] [Info] 7 dense feature groups (64.87 MB) transferred to GPU in 0.112178 secs. 1 sparse feature groups\n",
            "[LightGBM] [Debug] Trained a tree with leaves = 31 and depth = 8\n",
            "[LightGBM] [Info] Size of histogram bin entry: 8\n",
            "[LightGBM] [Info] 7 dense feature groups (64.87 MB) transferred to GPU in 0.080245 secs. 1 sparse feature groups\n",
            "[LightGBM] [Debug] Trained a tree with leaves = 31 and depth = 8\n",
            "[LightGBM] [Info] Size of histogram bin entry: 8\n",
            "[LightGBM] [Info] 7 dense feature groups (64.87 MB) transferred to GPU in 0.084048 secs. 1 sparse feature groups\n",
            "[LightGBM] [Debug] Trained a tree with leaves = 31 and depth = 8\n",
            "[LightGBM] [Info] Size of histogram bin entry: 8\n",
            "[LightGBM] [Info] 7 dense feature groups (64.87 MB) transferred to GPU in 0.080720 secs. 1 sparse feature groups\n",
            "[LightGBM] [Debug] Trained a tree with leaves = 31 and depth = 8\n",
            "[LightGBM] [Info] Size of histogram bin entry: 8\n",
            "[LightGBM] [Info] 7 dense feature groups (64.87 MB) transferred to GPU in 0.079991 secs. 1 sparse feature groups\n",
            "[LightGBM] [Debug] Trained a tree with leaves = 31 and depth = 8\n",
            "[LightGBM] [Info] Size of histogram bin entry: 8\n",
            "[LightGBM] [Info] 7 dense feature groups (64.87 MB) transferred to GPU in 0.081764 secs. 1 sparse feature groups\n",
            "[LightGBM] [Debug] Trained a tree with leaves = 31 and depth = 8\n",
            "[LightGBM] [Info] Size of histogram bin entry: 8\n",
            "[LightGBM] [Info] 7 dense feature groups (64.87 MB) transferred to GPU in 0.080494 secs. 1 sparse feature groups\n",
            "[LightGBM] [Debug] Trained a tree with leaves = 31 and depth = 8\n",
            "[LightGBM] [Info] Size of histogram bin entry: 8\n",
            "[LightGBM] [Info] 7 dense feature groups (64.87 MB) transferred to GPU in 0.080617 secs. 1 sparse feature groups\n",
            "[LightGBM] [Debug] Trained a tree with leaves = 31 and depth = 8\n",
            "[LightGBM] [Info] Size of histogram bin entry: 8\n",
            "[LightGBM] [Info] 7 dense feature groups (64.87 MB) transferred to GPU in 0.081071 secs. 1 sparse feature groups\n",
            "[LightGBM] [Debug] Trained a tree with leaves = 31 and depth = 8\n",
            "[LightGBM] [Info] Size of histogram bin entry: 8\n",
            "[LightGBM] [Info] 7 dense feature groups (64.87 MB) transferred to GPU in 0.080637 secs. 1 sparse feature groups\n",
            "[LightGBM] [Debug] Trained a tree with leaves = 31 and depth = 8\n",
            "[LightGBM] [Info] Size of histogram bin entry: 8\n",
            "[LightGBM] [Info] 7 dense feature groups (64.87 MB) transferred to GPU in 0.080904 secs. 1 sparse feature groups\n",
            "[LightGBM] [Debug] Trained a tree with leaves = 31 and depth = 8\n",
            "[LightGBM] [Info] Size of histogram bin entry: 8\n",
            "[LightGBM] [Info] 7 dense feature groups (64.87 MB) transferred to GPU in 0.081711 secs. 1 sparse feature groups\n",
            "[LightGBM] [Debug] Trained a tree with leaves = 31 and depth = 8\n",
            "[LightGBM] [Info] Size of histogram bin entry: 8\n",
            "[LightGBM] [Info] 7 dense feature groups (64.87 MB) transferred to GPU in 0.080454 secs. 1 sparse feature groups\n",
            "[LightGBM] [Debug] Trained a tree with leaves = 31 and depth = 8\n",
            "[LightGBM] [Info] Size of histogram bin entry: 8\n",
            "[LightGBM] [Info] 7 dense feature groups (64.87 MB) transferred to GPU in 0.081195 secs. 1 sparse feature groups\n",
            "[LightGBM] [Debug] Trained a tree with leaves = 31 and depth = 8\n",
            "[LightGBM] [Info] Size of histogram bin entry: 8\n",
            "[LightGBM] [Info] 7 dense feature groups (64.87 MB) transferred to GPU in 0.081133 secs. 1 sparse feature groups\n",
            "[LightGBM] [Debug] Trained a tree with leaves = 31 and depth = 8\n",
            "[LightGBM] [Info] Size of histogram bin entry: 8\n",
            "[LightGBM] [Info] 7 dense feature groups (64.87 MB) transferred to GPU in 0.080151 secs. 1 sparse feature groups\n",
            "[LightGBM] [Debug] Trained a tree with leaves = 31 and depth = 8\n",
            "[LightGBM] [Info] Size of histogram bin entry: 8\n",
            "[LightGBM] [Info] 7 dense feature groups (64.87 MB) transferred to GPU in 0.080189 secs. 1 sparse feature groups\n",
            "[LightGBM] [Debug] Trained a tree with leaves = 31 and depth = 8\n",
            "[LightGBM] [Info] Size of histogram bin entry: 8\n",
            "[LightGBM] [Info] 7 dense feature groups (64.87 MB) transferred to GPU in 0.080477 secs. 1 sparse feature groups\n",
            "[LightGBM] [Debug] Trained a tree with leaves = 31 and depth = 8\n",
            "[LightGBM] [Info] Size of histogram bin entry: 8\n",
            "[LightGBM] [Info] 7 dense feature groups (64.87 MB) transferred to GPU in 0.080291 secs. 1 sparse feature groups\n",
            "[LightGBM] [Debug] Trained a tree with leaves = 31 and depth = 8\n",
            "[LightGBM] [Info] Size of histogram bin entry: 8\n",
            "[LightGBM] [Info] 7 dense feature groups (64.87 MB) transferred to GPU in 0.080276 secs. 1 sparse feature groups\n",
            "[LightGBM] [Debug] Trained a tree with leaves = 31 and depth = 8\n",
            "[LightGBM] [Info] Size of histogram bin entry: 8\n",
            "[LightGBM] [Info] 7 dense feature groups (64.87 MB) transferred to GPU in 0.089918 secs. 1 sparse feature groups\n",
            "[LightGBM] [Debug] Trained a tree with leaves = 31 and depth = 8\n",
            "[LightGBM] [Info] Size of histogram bin entry: 8\n",
            "[LightGBM] [Info] 7 dense feature groups (64.87 MB) transferred to GPU in 0.089772 secs. 1 sparse feature groups\n",
            "[LightGBM] [Debug] Trained a tree with leaves = 31 and depth = 8\n",
            "[LightGBM] [Info] Size of histogram bin entry: 8\n",
            "[LightGBM] [Info] 7 dense feature groups (64.87 MB) transferred to GPU in 0.080145 secs. 1 sparse feature groups\n",
            "[LightGBM] [Debug] Trained a tree with leaves = 31 and depth = 8\n",
            "[LightGBM] [Info] Size of histogram bin entry: 8\n",
            "[LightGBM] [Info] 7 dense feature groups (64.87 MB) transferred to GPU in 0.080460 secs. 1 sparse feature groups\n",
            "[LightGBM] [Debug] Trained a tree with leaves = 31 and depth = 8\n",
            "[LightGBM] [Info] Size of histogram bin entry: 8\n",
            "[LightGBM] [Info] 7 dense feature groups (64.87 MB) transferred to GPU in 0.080163 secs. 1 sparse feature groups\n",
            "[LightGBM] [Debug] Trained a tree with leaves = 31 and depth = 8\n",
            "[LightGBM] [Info] Size of histogram bin entry: 8\n",
            "[LightGBM] [Info] 7 dense feature groups (64.87 MB) transferred to GPU in 0.080458 secs. 1 sparse feature groups\n",
            "[LightGBM] [Debug] Trained a tree with leaves = 31 and depth = 8\n",
            "[LightGBM] [Info] Size of histogram bin entry: 8\n",
            "[LightGBM] [Info] 7 dense feature groups (64.87 MB) transferred to GPU in 0.080380 secs. 1 sparse feature groups\n",
            "[LightGBM] [Debug] Trained a tree with leaves = 31 and depth = 8\n",
            "[LightGBM] [Info] Size of histogram bin entry: 8\n",
            "[LightGBM] [Info] 7 dense feature groups (64.87 MB) transferred to GPU in 0.080226 secs. 1 sparse feature groups\n",
            "[LightGBM] [Debug] Trained a tree with leaves = 31 and depth = 8\n",
            "[LightGBM] [Info] Size of histogram bin entry: 8\n",
            "[LightGBM] [Info] 7 dense feature groups (64.87 MB) transferred to GPU in 0.080125 secs. 1 sparse feature groups\n",
            "[LightGBM] [Debug] Trained a tree with leaves = 31 and depth = 8\n",
            "[LightGBM] [Info] Size of histogram bin entry: 8\n",
            "[LightGBM] [Info] 7 dense feature groups (64.87 MB) transferred to GPU in 0.081232 secs. 1 sparse feature groups\n",
            "[LightGBM] [Debug] Trained a tree with leaves = 31 and depth = 8\n",
            "[LightGBM] [Info] Size of histogram bin entry: 8\n",
            "[LightGBM] [Info] 7 dense feature groups (64.87 MB) transferred to GPU in 0.086246 secs. 1 sparse feature groups\n",
            "[LightGBM] [Debug] Trained a tree with leaves = 31 and depth = 8\n",
            "[LightGBM] [Info] Size of histogram bin entry: 8\n",
            "[LightGBM] [Info] 7 dense feature groups (64.87 MB) transferred to GPU in 0.080632 secs. 1 sparse feature groups\n",
            "[LightGBM] [Debug] Trained a tree with leaves = 31 and depth = 8\n",
            "[LightGBM] [Info] Size of histogram bin entry: 8\n",
            "[LightGBM] [Info] 7 dense feature groups (64.87 MB) transferred to GPU in 0.080752 secs. 1 sparse feature groups\n",
            "[LightGBM] [Debug] Trained a tree with leaves = 31 and depth = 8\n",
            "[LightGBM] [Info] Size of histogram bin entry: 8\n",
            "[LightGBM] [Info] 7 dense feature groups (64.87 MB) transferred to GPU in 0.080629 secs. 1 sparse feature groups\n",
            "[LightGBM] [Debug] Trained a tree with leaves = 31 and depth = 8\n",
            "[LightGBM] [Info] Size of histogram bin entry: 8\n",
            "[LightGBM] [Info] 7 dense feature groups (64.87 MB) transferred to GPU in 0.080420 secs. 1 sparse feature groups\n",
            "[LightGBM] [Debug] Trained a tree with leaves = 31 and depth = 8\n",
            "[LightGBM] [Info] Size of histogram bin entry: 8\n",
            "[LightGBM] [Info] 7 dense feature groups (64.87 MB) transferred to GPU in 0.080546 secs. 1 sparse feature groups\n",
            "[LightGBM] [Debug] Trained a tree with leaves = 31 and depth = 8\n",
            "[LightGBM] [Info] Size of histogram bin entry: 8\n",
            "[LightGBM] [Info] 7 dense feature groups (64.87 MB) transferred to GPU in 0.080741 secs. 1 sparse feature groups\n",
            "[LightGBM] [Debug] Trained a tree with leaves = 31 and depth = 8\n",
            "[LightGBM] [Info] Size of histogram bin entry: 8\n",
            "[LightGBM] [Info] 7 dense feature groups (64.87 MB) transferred to GPU in 0.080778 secs. 1 sparse feature groups\n",
            "[LightGBM] [Debug] Trained a tree with leaves = 31 and depth = 8\n",
            "[LightGBM] [Info] Size of histogram bin entry: 8\n",
            "[LightGBM] [Info] 7 dense feature groups (64.87 MB) transferred to GPU in 0.080354 secs. 1 sparse feature groups\n",
            "[LightGBM] [Debug] Trained a tree with leaves = 31 and depth = 8\n",
            "[LightGBM] [Info] Size of histogram bin entry: 8\n",
            "[LightGBM] [Info] 7 dense feature groups (64.87 MB) transferred to GPU in 0.080887 secs. 1 sparse feature groups\n",
            "[LightGBM] [Debug] Trained a tree with leaves = 31 and depth = 8\n",
            "[LightGBM] [Info] Size of histogram bin entry: 8\n",
            "[LightGBM] [Info] 7 dense feature groups (64.87 MB) transferred to GPU in 0.081214 secs. 1 sparse feature groups\n",
            "[LightGBM] [Debug] Trained a tree with leaves = 31 and depth = 8\n",
            "[LightGBM] [Info] Size of histogram bin entry: 8\n",
            "[LightGBM] [Info] 7 dense feature groups (64.87 MB) transferred to GPU in 0.080515 secs. 1 sparse feature groups\n",
            "[LightGBM] [Debug] Trained a tree with leaves = 31 and depth = 8\n",
            "[LightGBM] [Info] Size of histogram bin entry: 8\n",
            "[LightGBM] [Info] 7 dense feature groups (64.87 MB) transferred to GPU in 0.089825 secs. 1 sparse feature groups\n",
            "[LightGBM] [Debug] Trained a tree with leaves = 31 and depth = 8\n",
            "[LightGBM] [Info] Size of histogram bin entry: 8\n",
            "[LightGBM] [Info] 7 dense feature groups (64.87 MB) transferred to GPU in 0.081457 secs. 1 sparse feature groups\n",
            "[LightGBM] [Debug] Trained a tree with leaves = 31 and depth = 8\n",
            "[LightGBM] [Info] Size of histogram bin entry: 8\n",
            "[LightGBM] [Info] 7 dense feature groups (64.87 MB) transferred to GPU in 0.079775 secs. 1 sparse feature groups\n",
            "[LightGBM] [Debug] Trained a tree with leaves = 31 and depth = 8\n",
            "[LightGBM] [Info] Size of histogram bin entry: 8\n",
            "[LightGBM] [Info] 7 dense feature groups (64.87 MB) transferred to GPU in 0.080923 secs. 1 sparse feature groups\n",
            "[LightGBM] [Debug] Trained a tree with leaves = 31 and depth = 8\n",
            "[LightGBM] [Info] Size of histogram bin entry: 8\n",
            "[LightGBM] [Info] 7 dense feature groups (64.87 MB) transferred to GPU in 0.080506 secs. 1 sparse feature groups\n",
            "[LightGBM] [Debug] Trained a tree with leaves = 31 and depth = 8\n",
            "[LightGBM] [Info] Size of histogram bin entry: 8\n",
            "[LightGBM] [Info] 7 dense feature groups (64.87 MB) transferred to GPU in 0.080480 secs. 1 sparse feature groups\n",
            "[LightGBM] [Debug] Trained a tree with leaves = 31 and depth = 8\n",
            "[LightGBM] [Info] Size of histogram bin entry: 8\n",
            "[LightGBM] [Info] 7 dense feature groups (64.87 MB) transferred to GPU in 0.080908 secs. 1 sparse feature groups\n",
            "[LightGBM] [Debug] Trained a tree with leaves = 31 and depth = 8\n",
            "[LightGBM] [Info] Size of histogram bin entry: 8\n",
            "[LightGBM] [Info] 7 dense feature groups (64.87 MB) transferred to GPU in 0.081238 secs. 1 sparse feature groups\n",
            "[LightGBM] [Debug] Trained a tree with leaves = 31 and depth = 8\n",
            "[LightGBM] [Info] Size of histogram bin entry: 8\n",
            "[LightGBM] [Info] 7 dense feature groups (64.87 MB) transferred to GPU in 0.080697 secs. 1 sparse feature groups\n",
            "[LightGBM] [Debug] Trained a tree with leaves = 31 and depth = 8\n",
            "[LightGBM] [Info] Size of histogram bin entry: 8\n",
            "[LightGBM] [Info] 7 dense feature groups (64.87 MB) transferred to GPU in 0.081467 secs. 1 sparse feature groups\n",
            "[LightGBM] [Debug] Trained a tree with leaves = 31 and depth = 8\n",
            "[LightGBM] [Info] Size of histogram bin entry: 8\n",
            "[LightGBM] [Info] 7 dense feature groups (64.87 MB) transferred to GPU in 0.080692 secs. 1 sparse feature groups\n",
            "[LightGBM] [Debug] Trained a tree with leaves = 31 and depth = 8\n",
            "[LightGBM] [Info] Size of histogram bin entry: 8\n",
            "[LightGBM] [Info] 7 dense feature groups (64.87 MB) transferred to GPU in 0.083650 secs. 1 sparse feature groups\n",
            "[LightGBM] [Debug] Trained a tree with leaves = 31 and depth = 8\n",
            "[LightGBM] [Info] Size of histogram bin entry: 8\n",
            "[LightGBM] [Info] 7 dense feature groups (64.87 MB) transferred to GPU in 0.080842 secs. 1 sparse feature groups\n",
            "[LightGBM] [Debug] Trained a tree with leaves = 31 and depth = 8\n",
            "[LightGBM] [Info] Size of histogram bin entry: 8\n",
            "[LightGBM] [Info] 7 dense feature groups (64.87 MB) transferred to GPU in 0.080748 secs. 1 sparse feature groups\n",
            "[LightGBM] [Debug] Trained a tree with leaves = 31 and depth = 8\n",
            "[LightGBM] [Info] Size of histogram bin entry: 8\n",
            "[LightGBM] [Info] 7 dense feature groups (64.87 MB) transferred to GPU in 0.081019 secs. 1 sparse feature groups\n",
            "[LightGBM] [Debug] Trained a tree with leaves = 31 and depth = 8\n",
            "[LightGBM] [Info] Size of histogram bin entry: 8\n",
            "[LightGBM] [Info] 7 dense feature groups (64.87 MB) transferred to GPU in 0.080686 secs. 1 sparse feature groups\n",
            "[LightGBM] [Debug] Trained a tree with leaves = 31 and depth = 8\n",
            "[LightGBM] [Info] Size of histogram bin entry: 8\n",
            "[LightGBM] [Info] 7 dense feature groups (64.87 MB) transferred to GPU in 0.080335 secs. 1 sparse feature groups\n",
            "[LightGBM] [Debug] Trained a tree with leaves = 31 and depth = 8\n",
            "[LightGBM] [Info] Size of histogram bin entry: 8\n",
            "[LightGBM] [Info] 7 dense feature groups (64.87 MB) transferred to GPU in 0.080601 secs. 1 sparse feature groups\n",
            "[LightGBM] [Debug] Trained a tree with leaves = 31 and depth = 8\n",
            "[LightGBM] [Info] Size of histogram bin entry: 8\n",
            "[LightGBM] [Info] 7 dense feature groups (64.87 MB) transferred to GPU in 0.080853 secs. 1 sparse feature groups\n",
            "[LightGBM] [Debug] Trained a tree with leaves = 31 and depth = 8\n",
            "[LightGBM] [Info] Size of histogram bin entry: 8\n",
            "[LightGBM] [Info] 7 dense feature groups (64.87 MB) transferred to GPU in 0.081153 secs. 1 sparse feature groups\n",
            "[LightGBM] [Debug] Trained a tree with leaves = 31 and depth = 8\n",
            "[LightGBM] [Info] Size of histogram bin entry: 8\n",
            "[LightGBM] [Info] 7 dense feature groups (64.87 MB) transferred to GPU in 0.080868 secs. 1 sparse feature groups\n",
            "[LightGBM] [Debug] Trained a tree with leaves = 31 and depth = 8\n",
            "[LightGBM] [Info] Size of histogram bin entry: 8\n",
            "[LightGBM] [Info] 7 dense feature groups (64.87 MB) transferred to GPU in 0.091131 secs. 1 sparse feature groups\n",
            "[LightGBM] [Debug] Trained a tree with leaves = 31 and depth = 8\n",
            "[LightGBM] [Info] Size of histogram bin entry: 8\n",
            "[LightGBM] [Info] 7 dense feature groups (64.87 MB) transferred to GPU in 0.080264 secs. 1 sparse feature groups\n",
            "[LightGBM] [Debug] Trained a tree with leaves = 31 and depth = 8\n",
            "[LightGBM] [Info] Size of histogram bin entry: 8\n",
            "[LightGBM] [Info] 7 dense feature groups (64.87 MB) transferred to GPU in 0.080809 secs. 1 sparse feature groups\n",
            "[LightGBM] [Debug] Trained a tree with leaves = 31 and depth = 8\n",
            "[LightGBM] [Info] Size of histogram bin entry: 8\n",
            "[LightGBM] [Info] 7 dense feature groups (64.87 MB) transferred to GPU in 0.080625 secs. 1 sparse feature groups\n",
            "[LightGBM] [Debug] Trained a tree with leaves = 31 and depth = 8\n",
            "[LightGBM] [Info] Size of histogram bin entry: 8\n",
            "[LightGBM] [Info] 7 dense feature groups (64.87 MB) transferred to GPU in 0.080826 secs. 1 sparse feature groups\n",
            "[LightGBM] [Debug] Trained a tree with leaves = 31 and depth = 8\n",
            "[LightGBM] [Info] Size of histogram bin entry: 8\n",
            "[LightGBM] [Info] 7 dense feature groups (64.87 MB) transferred to GPU in 0.081061 secs. 1 sparse feature groups\n",
            "[LightGBM] [Debug] Trained a tree with leaves = 31 and depth = 8\n",
            "[LightGBM] [Info] Size of histogram bin entry: 8\n",
            "[LightGBM] [Info] 7 dense feature groups (64.87 MB) transferred to GPU in 0.080753 secs. 1 sparse feature groups\n",
            "[LightGBM] [Debug] Trained a tree with leaves = 31 and depth = 8\n",
            "[LightGBM] [Info] Size of histogram bin entry: 8\n",
            "[LightGBM] [Info] 7 dense feature groups (64.87 MB) transferred to GPU in 0.080723 secs. 1 sparse feature groups\n",
            "[LightGBM] [Debug] Trained a tree with leaves = 31 and depth = 8\n",
            "[LightGBM] [Info] Size of histogram bin entry: 8\n",
            "[LightGBM] [Info] 7 dense feature groups (64.87 MB) transferred to GPU in 0.089682 secs. 1 sparse feature groups\n",
            "[LightGBM] [Debug] Trained a tree with leaves = 31 and depth = 8\n",
            "[LightGBM] [Info] Size of histogram bin entry: 8\n",
            "[LightGBM] [Info] 7 dense feature groups (64.87 MB) transferred to GPU in 0.081361 secs. 1 sparse feature groups\n",
            "[LightGBM] [Debug] Trained a tree with leaves = 31 and depth = 8\n",
            "[LightGBM] [Info] Size of histogram bin entry: 8\n",
            "[LightGBM] [Info] 7 dense feature groups (64.87 MB) transferred to GPU in 0.080419 secs. 1 sparse feature groups\n",
            "[LightGBM] [Debug] Trained a tree with leaves = 31 and depth = 8\n",
            "[LightGBM] [Info] Size of histogram bin entry: 8\n",
            "[LightGBM] [Info] 7 dense feature groups (64.87 MB) transferred to GPU in 0.085826 secs. 1 sparse feature groups\n",
            "[LightGBM] [Debug] Trained a tree with leaves = 31 and depth = 8\n",
            "[LightGBM] [Info] Size of histogram bin entry: 8\n",
            "[LightGBM] [Info] 7 dense feature groups (64.87 MB) transferred to GPU in 0.081082 secs. 1 sparse feature groups\n",
            "[LightGBM] [Debug] Trained a tree with leaves = 31 and depth = 8\n",
            "[LightGBM] [Info] Size of histogram bin entry: 8\n",
            "[LightGBM] [Info] 7 dense feature groups (64.87 MB) transferred to GPU in 0.091845 secs. 1 sparse feature groups\n",
            "[LightGBM] [Debug] Trained a tree with leaves = 31 and depth = 8\n",
            "[LightGBM] [Info] Size of histogram bin entry: 8\n",
            "[LightGBM] [Info] 7 dense feature groups (64.87 MB) transferred to GPU in 0.080559 secs. 1 sparse feature groups\n",
            "[LightGBM] [Debug] Trained a tree with leaves = 31 and depth = 8\n",
            "[LightGBM] [Info] Size of histogram bin entry: 8\n",
            "[LightGBM] [Info] 7 dense feature groups (64.87 MB) transferred to GPU in 0.082020 secs. 1 sparse feature groups\n",
            "[LightGBM] [Debug] Trained a tree with leaves = 31 and depth = 8\n",
            "[LightGBM] [Info] Size of histogram bin entry: 8\n",
            "[LightGBM] [Info] 7 dense feature groups (64.87 MB) transferred to GPU in 0.080843 secs. 1 sparse feature groups\n",
            "[LightGBM] [Debug] Trained a tree with leaves = 31 and depth = 8\n",
            "[LightGBM] [Info] Size of histogram bin entry: 8\n",
            "[LightGBM] [Info] 7 dense feature groups (64.87 MB) transferred to GPU in 0.080928 secs. 1 sparse feature groups\n",
            "[LightGBM] [Debug] Trained a tree with leaves = 31 and depth = 8\n",
            "[LightGBM] [Info] Size of histogram bin entry: 8\n",
            "[LightGBM] [Info] 7 dense feature groups (64.87 MB) transferred to GPU in 0.081040 secs. 1 sparse feature groups\n",
            "[LightGBM] [Debug] Trained a tree with leaves = 31 and depth = 8\n",
            "[LightGBM] [Info] Size of histogram bin entry: 8\n",
            "[LightGBM] [Info] 7 dense feature groups (64.87 MB) transferred to GPU in 0.080931 secs. 1 sparse feature groups\n",
            "[LightGBM] [Debug] Trained a tree with leaves = 31 and depth = 8\n",
            "[LightGBM] [Info] Size of histogram bin entry: 8\n",
            "[LightGBM] [Info] 7 dense feature groups (64.87 MB) transferred to GPU in 0.082183 secs. 1 sparse feature groups\n",
            "[LightGBM] [Debug] Trained a tree with leaves = 31 and depth = 8\n",
            "[LightGBM] [Info] Size of histogram bin entry: 8\n",
            "[LightGBM] [Info] 7 dense feature groups (64.87 MB) transferred to GPU in 0.082385 secs. 1 sparse feature groups\n",
            "[LightGBM] [Debug] Trained a tree with leaves = 31 and depth = 8\n",
            "[LightGBM] [Info] Size of histogram bin entry: 8\n",
            "[LightGBM] [Info] 7 dense feature groups (64.87 MB) transferred to GPU in 0.080765 secs. 1 sparse feature groups\n",
            "[LightGBM] [Debug] Trained a tree with leaves = 31 and depth = 8\n",
            "[LightGBM] [Info] Size of histogram bin entry: 8\n",
            "[LightGBM] [Info] 7 dense feature groups (64.87 MB) transferred to GPU in 0.081429 secs. 1 sparse feature groups\n",
            "[LightGBM] [Debug] Trained a tree with leaves = 31 and depth = 8\n",
            "[LightGBM] [Info] Size of histogram bin entry: 8\n",
            "[LightGBM] [Info] 7 dense feature groups (64.87 MB) transferred to GPU in 0.080600 secs. 1 sparse feature groups\n",
            "[LightGBM] [Debug] Trained a tree with leaves = 31 and depth = 8\n",
            "[LightGBM] [Info] Size of histogram bin entry: 8\n",
            "[LightGBM] [Info] 7 dense feature groups (64.87 MB) transferred to GPU in 0.080847 secs. 1 sparse feature groups\n",
            "[LightGBM] [Debug] Trained a tree with leaves = 31 and depth = 8\n",
            "[LightGBM] [Info] Size of histogram bin entry: 8\n",
            "[LightGBM] [Info] 7 dense feature groups (64.87 MB) transferred to GPU in 0.080698 secs. 1 sparse feature groups\n",
            "[LightGBM] [Debug] Trained a tree with leaves = 31 and depth = 8\n",
            "[LightGBM] [Info] Size of histogram bin entry: 8\n",
            "[LightGBM] [Info] 7 dense feature groups (64.87 MB) transferred to GPU in 0.080519 secs. 1 sparse feature groups\n",
            "[LightGBM] [Debug] Trained a tree with leaves = 31 and depth = 8\n",
            "[LightGBM] [Info] Size of histogram bin entry: 8\n",
            "[LightGBM] [Info] 7 dense feature groups (64.87 MB) transferred to GPU in 0.080957 secs. 1 sparse feature groups\n",
            "[LightGBM] [Debug] Trained a tree with leaves = 31 and depth = 8\n",
            "[LightGBM] [Info] Size of histogram bin entry: 8\n",
            "[LightGBM] [Info] 7 dense feature groups (64.87 MB) transferred to GPU in 0.080912 secs. 1 sparse feature groups\n",
            "[LightGBM] [Debug] Trained a tree with leaves = 31 and depth = 8\n",
            "[LightGBM] [Info] Size of histogram bin entry: 8\n",
            "[LightGBM] [Info] 7 dense feature groups (64.87 MB) transferred to GPU in 0.080304 secs. 1 sparse feature groups\n",
            "[LightGBM] [Debug] Trained a tree with leaves = 31 and depth = 8\n",
            "[LightGBM] [Info] Size of histogram bin entry: 8\n",
            "[LightGBM] [Info] 7 dense feature groups (64.87 MB) transferred to GPU in 0.081125 secs. 1 sparse feature groups\n",
            "[LightGBM] [Debug] Trained a tree with leaves = 31 and depth = 8\n",
            "[LightGBM] [Info] Size of histogram bin entry: 8\n",
            "[LightGBM] [Info] 7 dense feature groups (64.87 MB) transferred to GPU in 0.080975 secs. 1 sparse feature groups\n",
            "[LightGBM] [Debug] Trained a tree with leaves = 31 and depth = 8\n",
            "[LightGBM] [Info] Size of histogram bin entry: 8\n",
            "[LightGBM] [Info] 7 dense feature groups (64.87 MB) transferred to GPU in 0.082647 secs. 1 sparse feature groups\n",
            "[LightGBM] [Debug] Trained a tree with leaves = 31 and depth = 8\n",
            "[LightGBM] [Info] Size of histogram bin entry: 8\n",
            "[LightGBM] [Info] 7 dense feature groups (64.87 MB) transferred to GPU in 0.080516 secs. 1 sparse feature groups\n",
            "[LightGBM] [Debug] Trained a tree with leaves = 31 and depth = 8\n",
            "[LightGBM] [Info] Size of histogram bin entry: 8\n",
            "[LightGBM] [Info] 7 dense feature groups (64.87 MB) transferred to GPU in 0.089299 secs. 1 sparse feature groups\n",
            "[LightGBM] [Debug] Trained a tree with leaves = 31 and depth = 8\n",
            "[LightGBM] [Info] Size of histogram bin entry: 8\n",
            "[LightGBM] [Info] 7 dense feature groups (64.87 MB) transferred to GPU in 0.080824 secs. 1 sparse feature groups\n",
            "[LightGBM] [Debug] Trained a tree with leaves = 31 and depth = 8\n",
            "[LightGBM] [Info] Size of histogram bin entry: 8\n",
            "[LightGBM] [Info] 7 dense feature groups (64.87 MB) transferred to GPU in 0.086252 secs. 1 sparse feature groups\n",
            "[LightGBM] [Debug] Trained a tree with leaves = 31 and depth = 8\n",
            "[LightGBM] [Info] Size of histogram bin entry: 8\n",
            "[LightGBM] [Info] 7 dense feature groups (64.87 MB) transferred to GPU in 0.090258 secs. 1 sparse feature groups\n",
            "[LightGBM] [Debug] Trained a tree with leaves = 31 and depth = 8\n",
            "[LightGBM] [Info] Size of histogram bin entry: 8\n",
            "[LightGBM] [Info] 7 dense feature groups (64.87 MB) transferred to GPU in 0.081287 secs. 1 sparse feature groups\n",
            "[LightGBM] [Debug] Trained a tree with leaves = 31 and depth = 8\n",
            "[LightGBM] [Info] Size of histogram bin entry: 8\n",
            "[LightGBM] [Info] 7 dense feature groups (64.87 MB) transferred to GPU in 0.080731 secs. 1 sparse feature groups\n",
            "[LightGBM] [Debug] Trained a tree with leaves = 31 and depth = 8\n",
            "[LightGBM] [Info] Size of histogram bin entry: 8\n",
            "[LightGBM] [Info] 7 dense feature groups (64.87 MB) transferred to GPU in 0.080126 secs. 1 sparse feature groups\n",
            "[LightGBM] [Debug] Trained a tree with leaves = 31 and depth = 8\n",
            "[LightGBM] [Info] Size of histogram bin entry: 8\n",
            "[LightGBM] [Info] 7 dense feature groups (64.87 MB) transferred to GPU in 0.080586 secs. 1 sparse feature groups\n",
            "[LightGBM] [Debug] Trained a tree with leaves = 31 and depth = 8\n",
            "[LightGBM] [Info] Size of histogram bin entry: 8\n",
            "[LightGBM] [Info] 7 dense feature groups (64.87 MB) transferred to GPU in 0.081585 secs. 1 sparse feature groups\n",
            "[LightGBM] [Debug] Trained a tree with leaves = 31 and depth = 8\n",
            "[LightGBM] [Info] Size of histogram bin entry: 8\n",
            "[LightGBM] [Info] 7 dense feature groups (64.87 MB) transferred to GPU in 0.081570 secs. 1 sparse feature groups\n",
            "[LightGBM] [Debug] Trained a tree with leaves = 31 and depth = 8\n",
            "[LightGBM] [Info] Size of histogram bin entry: 8\n",
            "[LightGBM] [Info] 7 dense feature groups (64.87 MB) transferred to GPU in 0.080850 secs. 1 sparse feature groups\n",
            "[LightGBM] [Debug] Trained a tree with leaves = 31 and depth = 8\n",
            "[LightGBM] [Info] Size of histogram bin entry: 8\n",
            "[LightGBM] [Info] 7 dense feature groups (64.87 MB) transferred to GPU in 0.081598 secs. 1 sparse feature groups\n",
            "[LightGBM] [Debug] Trained a tree with leaves = 31 and depth = 8\n",
            "[LightGBM] [Info] Size of histogram bin entry: 8\n",
            "[LightGBM] [Info] 7 dense feature groups (64.87 MB) transferred to GPU in 0.082088 secs. 1 sparse feature groups\n",
            "[LightGBM] [Debug] Trained a tree with leaves = 31 and depth = 8\n",
            "[LightGBM] [Info] Size of histogram bin entry: 8\n",
            "[LightGBM] [Info] 7 dense feature groups (64.87 MB) transferred to GPU in 0.080523 secs. 1 sparse feature groups\n",
            "[LightGBM] [Debug] Trained a tree with leaves = 31 and depth = 8\n",
            "[LightGBM] [Info] Size of histogram bin entry: 8\n",
            "[LightGBM] [Info] 7 dense feature groups (64.87 MB) transferred to GPU in 0.081729 secs. 1 sparse feature groups\n",
            "[LightGBM] [Debug] Trained a tree with leaves = 31 and depth = 8\n",
            "[LightGBM] [Info] Size of histogram bin entry: 8\n",
            "[LightGBM] [Info] 7 dense feature groups (64.87 MB) transferred to GPU in 0.080884 secs. 1 sparse feature groups\n",
            "[LightGBM] [Debug] Trained a tree with leaves = 31 and depth = 8\n",
            "[LightGBM] [Info] Size of histogram bin entry: 8\n",
            "[LightGBM] [Info] 7 dense feature groups (64.87 MB) transferred to GPU in 0.080813 secs. 1 sparse feature groups\n",
            "[LightGBM] [Debug] Trained a tree with leaves = 31 and depth = 8\n",
            "[LightGBM] [Info] Size of histogram bin entry: 8\n",
            "[LightGBM] [Info] 7 dense feature groups (64.87 MB) transferred to GPU in 0.081262 secs. 1 sparse feature groups\n",
            "[LightGBM] [Debug] Trained a tree with leaves = 31 and depth = 8\n",
            "[LightGBM] [Info] Size of histogram bin entry: 8\n",
            "[LightGBM] [Info] 7 dense feature groups (64.87 MB) transferred to GPU in 0.080753 secs. 1 sparse feature groups\n",
            "[LightGBM] [Debug] Trained a tree with leaves = 31 and depth = 8\n",
            "[LightGBM] [Info] Size of histogram bin entry: 8\n",
            "[LightGBM] [Info] 7 dense feature groups (64.87 MB) transferred to GPU in 0.080466 secs. 1 sparse feature groups\n",
            "[LightGBM] [Debug] Trained a tree with leaves = 31 and depth = 8\n",
            "[LightGBM] [Info] Size of histogram bin entry: 8\n",
            "[LightGBM] [Info] 7 dense feature groups (64.87 MB) transferred to GPU in 0.080395 secs. 1 sparse feature groups\n",
            "[LightGBM] [Debug] Trained a tree with leaves = 31 and depth = 8\n",
            "[LightGBM] [Info] Size of histogram bin entry: 8\n",
            "[LightGBM] [Info] 7 dense feature groups (64.87 MB) transferred to GPU in 0.080839 secs. 1 sparse feature groups\n",
            "[LightGBM] [Debug] Trained a tree with leaves = 31 and depth = 8\n",
            "[LightGBM] [Info] Size of histogram bin entry: 8\n",
            "[LightGBM] [Info] 7 dense feature groups (64.87 MB) transferred to GPU in 0.081376 secs. 1 sparse feature groups\n",
            "[LightGBM] [Debug] Trained a tree with leaves = 31 and depth = 8\n",
            "[LightGBM] [Info] Size of histogram bin entry: 8\n",
            "[LightGBM] [Info] 7 dense feature groups (64.87 MB) transferred to GPU in 0.081037 secs. 1 sparse feature groups\n",
            "[LightGBM] [Debug] Trained a tree with leaves = 31 and depth = 8\n",
            "[LightGBM] [Info] Size of histogram bin entry: 8\n",
            "[LightGBM] [Info] 7 dense feature groups (64.87 MB) transferred to GPU in 0.080625 secs. 1 sparse feature groups\n",
            "[LightGBM] [Debug] Trained a tree with leaves = 31 and depth = 8\n",
            "[LightGBM] [Info] Size of histogram bin entry: 8\n",
            "[LightGBM] [Info] 7 dense feature groups (64.87 MB) transferred to GPU in 0.081439 secs. 1 sparse feature groups\n",
            "[LightGBM] [Debug] Trained a tree with leaves = 31 and depth = 8\n",
            "[LightGBM] [Info] Size of histogram bin entry: 8\n",
            "[LightGBM] [Info] 7 dense feature groups (64.87 MB) transferred to GPU in 0.080834 secs. 1 sparse feature groups\n",
            "[LightGBM] [Debug] Trained a tree with leaves = 31 and depth = 8\n",
            "[LightGBM] [Info] Size of histogram bin entry: 8\n",
            "[LightGBM] [Info] 7 dense feature groups (64.87 MB) transferred to GPU in 0.080985 secs. 1 sparse feature groups\n",
            "[LightGBM] [Debug] Trained a tree with leaves = 31 and depth = 8\n",
            "[LightGBM] [Info] Size of histogram bin entry: 8\n",
            "[LightGBM] [Info] 7 dense feature groups (64.87 MB) transferred to GPU in 0.081695 secs. 1 sparse feature groups\n",
            "[LightGBM] [Debug] Trained a tree with leaves = 31 and depth = 8\n",
            "[LightGBM] [Info] Size of histogram bin entry: 8\n",
            "[LightGBM] [Info] 7 dense feature groups (64.87 MB) transferred to GPU in 0.082642 secs. 1 sparse feature groups\n",
            "[LightGBM] [Debug] Trained a tree with leaves = 31 and depth = 8\n",
            "[LightGBM] [Info] Size of histogram bin entry: 8\n",
            "[LightGBM] [Info] 7 dense feature groups (64.87 MB) transferred to GPU in 0.080681 secs. 1 sparse feature groups\n",
            "[LightGBM] [Debug] Trained a tree with leaves = 31 and depth = 8\n",
            "[LightGBM] [Info] Size of histogram bin entry: 8\n",
            "[LightGBM] [Info] 7 dense feature groups (64.87 MB) transferred to GPU in 0.081640 secs. 1 sparse feature groups\n",
            "[LightGBM] [Debug] Trained a tree with leaves = 31 and depth = 8\n",
            "[LightGBM] [Info] Size of histogram bin entry: 8\n",
            "[LightGBM] [Info] 7 dense feature groups (64.87 MB) transferred to GPU in 0.081064 secs. 1 sparse feature groups\n",
            "[LightGBM] [Debug] Trained a tree with leaves = 31 and depth = 8\n",
            "[LightGBM] [Info] Size of histogram bin entry: 8\n",
            "[LightGBM] [Info] 7 dense feature groups (64.87 MB) transferred to GPU in 0.089740 secs. 1 sparse feature groups\n",
            "[LightGBM] [Debug] Trained a tree with leaves = 31 and depth = 8\n",
            "[LightGBM] [Info] Size of histogram bin entry: 8\n",
            "[LightGBM] [Info] 7 dense feature groups (64.87 MB) transferred to GPU in 0.080621 secs. 1 sparse feature groups\n",
            "[LightGBM] [Debug] Trained a tree with leaves = 31 and depth = 8\n",
            "[LightGBM] [Info] Size of histogram bin entry: 8\n",
            "[LightGBM] [Info] 7 dense feature groups (64.87 MB) transferred to GPU in 0.080415 secs. 1 sparse feature groups\n",
            "[LightGBM] [Debug] Trained a tree with leaves = 31 and depth = 8\n",
            "[LightGBM] [Info] Size of histogram bin entry: 8\n",
            "[LightGBM] [Info] 7 dense feature groups (64.87 MB) transferred to GPU in 0.080833 secs. 1 sparse feature groups\n",
            "[LightGBM] [Debug] Trained a tree with leaves = 31 and depth = 8\n",
            "[LightGBM] [Info] Size of histogram bin entry: 8\n",
            "[LightGBM] [Info] 7 dense feature groups (64.87 MB) transferred to GPU in 0.080008 secs. 1 sparse feature groups\n",
            "[LightGBM] [Debug] Trained a tree with leaves = 31 and depth = 8\n",
            "[LightGBM] [Info] Size of histogram bin entry: 8\n",
            "[LightGBM] [Info] 7 dense feature groups (64.87 MB) transferred to GPU in 0.082546 secs. 1 sparse feature groups\n",
            "[LightGBM] [Debug] Trained a tree with leaves = 31 and depth = 8\n",
            "[LightGBM] [Info] Size of histogram bin entry: 8\n",
            "[LightGBM] [Info] 7 dense feature groups (64.87 MB) transferred to GPU in 0.080941 secs. 1 sparse feature groups\n",
            "[LightGBM] [Debug] Trained a tree with leaves = 31 and depth = 8\n",
            "[LightGBM] [Info] Size of histogram bin entry: 8\n",
            "[LightGBM] [Info] 7 dense feature groups (64.87 MB) transferred to GPU in 0.080910 secs. 1 sparse feature groups\n",
            "[LightGBM] [Debug] Trained a tree with leaves = 31 and depth = 8\n",
            "[LightGBM] [Info] Size of histogram bin entry: 8\n",
            "[LightGBM] [Info] 7 dense feature groups (64.87 MB) transferred to GPU in 0.080905 secs. 1 sparse feature groups\n",
            "[LightGBM] [Debug] Trained a tree with leaves = 31 and depth = 8\n",
            "[LightGBM] [Info] Size of histogram bin entry: 8\n",
            "[LightGBM] [Info] 7 dense feature groups (64.87 MB) transferred to GPU in 0.080864 secs. 1 sparse feature groups\n",
            "[LightGBM] [Debug] Trained a tree with leaves = 31 and depth = 8\n",
            "[LightGBM] [Info] Size of histogram bin entry: 8\n",
            "[LightGBM] [Info] 7 dense feature groups (64.87 MB) transferred to GPU in 0.081204 secs. 1 sparse feature groups\n",
            "[LightGBM] [Debug] Trained a tree with leaves = 31 and depth = 8\n",
            "[LightGBM] [Info] Size of histogram bin entry: 8\n",
            "[LightGBM] [Info] 7 dense feature groups (64.87 MB) transferred to GPU in 0.080504 secs. 1 sparse feature groups\n",
            "[LightGBM] [Debug] Trained a tree with leaves = 31 and depth = 8\n",
            "[LightGBM] [Info] Size of histogram bin entry: 8\n",
            "[LightGBM] [Info] 7 dense feature groups (64.87 MB) transferred to GPU in 0.080388 secs. 1 sparse feature groups\n",
            "[LightGBM] [Debug] Trained a tree with leaves = 31 and depth = 8\n",
            "[LightGBM] [Info] Size of histogram bin entry: 8\n",
            "[LightGBM] [Info] 7 dense feature groups (64.87 MB) transferred to GPU in 0.092353 secs. 1 sparse feature groups\n",
            "[LightGBM] [Debug] Trained a tree with leaves = 31 and depth = 8\n",
            "[LightGBM] [Info] Size of histogram bin entry: 8\n",
            "[LightGBM] [Info] 7 dense feature groups (64.87 MB) transferred to GPU in 0.080613 secs. 1 sparse feature groups\n",
            "[LightGBM] [Debug] Trained a tree with leaves = 31 and depth = 8\n",
            "[LightGBM] [Info] Size of histogram bin entry: 8\n",
            "[LightGBM] [Info] 7 dense feature groups (64.87 MB) transferred to GPU in 0.080185 secs. 1 sparse feature groups\n",
            "[LightGBM] [Debug] Trained a tree with leaves = 31 and depth = 8\n",
            "[LightGBM] [Info] Size of histogram bin entry: 8\n",
            "[LightGBM] [Info] 7 dense feature groups (64.87 MB) transferred to GPU in 0.080510 secs. 1 sparse feature groups\n",
            "[LightGBM] [Debug] Trained a tree with leaves = 31 and depth = 8\n",
            "[LightGBM] [Info] Size of histogram bin entry: 8\n",
            "[LightGBM] [Info] 7 dense feature groups (64.87 MB) transferred to GPU in 0.080627 secs. 1 sparse feature groups\n",
            "[LightGBM] [Debug] Trained a tree with leaves = 31 and depth = 8\n",
            "[LightGBM] [Info] Size of histogram bin entry: 8\n",
            "[LightGBM] [Info] 7 dense feature groups (64.87 MB) transferred to GPU in 0.081051 secs. 1 sparse feature groups\n",
            "[LightGBM] [Debug] Trained a tree with leaves = 31 and depth = 8\n",
            "[LightGBM] [Info] Size of histogram bin entry: 8\n",
            "[LightGBM] [Info] 7 dense feature groups (64.87 MB) transferred to GPU in 0.086575 secs. 1 sparse feature groups\n",
            "[LightGBM] [Debug] Trained a tree with leaves = 31 and depth = 8\n",
            "[LightGBM] [Info] Size of histogram bin entry: 8\n",
            "[LightGBM] [Info] 7 dense feature groups (64.87 MB) transferred to GPU in 0.080993 secs. 1 sparse feature groups\n",
            "[LightGBM] [Debug] Trained a tree with leaves = 31 and depth = 8\n",
            "[LightGBM] [Info] Size of histogram bin entry: 8\n",
            "[LightGBM] [Info] 7 dense feature groups (64.87 MB) transferred to GPU in 0.081059 secs. 1 sparse feature groups\n",
            "[LightGBM] [Debug] Trained a tree with leaves = 31 and depth = 8\n",
            "[LightGBM] [Info] Size of histogram bin entry: 8\n",
            "[LightGBM] [Info] 7 dense feature groups (64.87 MB) transferred to GPU in 0.080467 secs. 1 sparse feature groups\n",
            "[LightGBM] [Debug] Trained a tree with leaves = 31 and depth = 8\n",
            "[LightGBM] [Info] Size of histogram bin entry: 8\n",
            "[LightGBM] [Info] 7 dense feature groups (64.87 MB) transferred to GPU in 0.080681 secs. 1 sparse feature groups\n",
            "[LightGBM] [Debug] Trained a tree with leaves = 31 and depth = 8\n",
            "[LightGBM] [Info] Size of histogram bin entry: 8\n",
            "[LightGBM] [Info] 7 dense feature groups (64.87 MB) transferred to GPU in 0.080920 secs. 1 sparse feature groups\n",
            "[LightGBM] [Debug] Trained a tree with leaves = 31 and depth = 8\n",
            "[LightGBM] [Info] Size of histogram bin entry: 8\n",
            "[LightGBM] [Info] 7 dense feature groups (64.87 MB) transferred to GPU in 0.080417 secs. 1 sparse feature groups\n",
            "[LightGBM] [Debug] Trained a tree with leaves = 31 and depth = 8\n",
            "[LightGBM] [Info] Size of histogram bin entry: 8\n",
            "[LightGBM] [Info] 7 dense feature groups (64.87 MB) transferred to GPU in 0.081040 secs. 1 sparse feature groups\n",
            "[LightGBM] [Debug] Trained a tree with leaves = 31 and depth = 8\n",
            "[LightGBM] [Info] Size of histogram bin entry: 8\n",
            "[LightGBM] [Info] 7 dense feature groups (64.87 MB) transferred to GPU in 0.080949 secs. 1 sparse feature groups\n",
            "[LightGBM] [Debug] Trained a tree with leaves = 31 and depth = 8\n",
            "[LightGBM] [Info] Size of histogram bin entry: 8\n",
            "[LightGBM] [Info] 7 dense feature groups (64.87 MB) transferred to GPU in 0.080612 secs. 1 sparse feature groups\n",
            "[LightGBM] [Debug] Trained a tree with leaves = 31 and depth = 8\n",
            "[LightGBM] [Info] Size of histogram bin entry: 8\n",
            "[LightGBM] [Info] 7 dense feature groups (64.87 MB) transferred to GPU in 0.080713 secs. 1 sparse feature groups\n",
            "[LightGBM] [Debug] Trained a tree with leaves = 31 and depth = 8\n",
            "[LightGBM] [Info] Size of histogram bin entry: 8\n",
            "[LightGBM] [Info] 7 dense feature groups (64.87 MB) transferred to GPU in 0.080629 secs. 1 sparse feature groups\n",
            "[LightGBM] [Debug] Trained a tree with leaves = 31 and depth = 8\n",
            "[LightGBM] [Info] Size of histogram bin entry: 8\n",
            "[LightGBM] [Info] 7 dense feature groups (64.87 MB) transferred to GPU in 0.088455 secs. 1 sparse feature groups\n",
            "[LightGBM] [Debug] Trained a tree with leaves = 31 and depth = 8\n",
            "[LightGBM] [Info] Size of histogram bin entry: 8\n",
            "[LightGBM] [Info] 7 dense feature groups (64.87 MB) transferred to GPU in 0.090124 secs. 1 sparse feature groups\n",
            "[LightGBM] [Debug] Trained a tree with leaves = 31 and depth = 8\n",
            "[LightGBM] [Info] Size of histogram bin entry: 8\n",
            "[LightGBM] [Info] 7 dense feature groups (64.87 MB) transferred to GPU in 0.093565 secs. 1 sparse feature groups\n",
            "[LightGBM] [Debug] Trained a tree with leaves = 31 and depth = 8\n",
            "[LightGBM] [Info] Size of histogram bin entry: 8\n",
            "[LightGBM] [Info] 7 dense feature groups (64.87 MB) transferred to GPU in 0.102687 secs. 1 sparse feature groups\n",
            "[LightGBM] [Debug] Trained a tree with leaves = 31 and depth = 8\n",
            "[LightGBM] [Info] Size of histogram bin entry: 8\n",
            "[LightGBM] [Info] 7 dense feature groups (64.87 MB) transferred to GPU in 0.090130 secs. 1 sparse feature groups\n",
            "[LightGBM] [Debug] Trained a tree with leaves = 31 and depth = 8\n",
            "[LightGBM] [Info] Size of histogram bin entry: 8\n",
            "[LightGBM] [Info] 7 dense feature groups (64.87 MB) transferred to GPU in 0.082748 secs. 1 sparse feature groups\n",
            "[LightGBM] [Debug] Trained a tree with leaves = 31 and depth = 8\n",
            "[LightGBM] [Info] Size of histogram bin entry: 8\n",
            "[LightGBM] [Info] 7 dense feature groups (64.87 MB) transferred to GPU in 0.080570 secs. 1 sparse feature groups\n",
            "[LightGBM] [Debug] Trained a tree with leaves = 31 and depth = 8\n",
            "[LightGBM] [Info] Size of histogram bin entry: 8\n",
            "[LightGBM] [Info] 7 dense feature groups (64.87 MB) transferred to GPU in 0.080586 secs. 1 sparse feature groups\n",
            "[LightGBM] [Debug] Trained a tree with leaves = 31 and depth = 8\n",
            "[LightGBM] [Info] Size of histogram bin entry: 8\n",
            "[LightGBM] [Info] 7 dense feature groups (64.87 MB) transferred to GPU in 0.080785 secs. 1 sparse feature groups\n",
            "[LightGBM] [Debug] Trained a tree with leaves = 31 and depth = 8\n",
            "[LightGBM] [Info] Size of histogram bin entry: 8\n",
            "[LightGBM] [Info] 7 dense feature groups (64.87 MB) transferred to GPU in 0.079961 secs. 1 sparse feature groups\n",
            "[LightGBM] [Debug] Trained a tree with leaves = 31 and depth = 8\n",
            "[LightGBM] [Info] Size of histogram bin entry: 8\n",
            "[LightGBM] [Info] 7 dense feature groups (64.87 MB) transferred to GPU in 0.082109 secs. 1 sparse feature groups\n",
            "[LightGBM] [Debug] Trained a tree with leaves = 31 and depth = 8\n",
            "[LightGBM] [Info] Size of histogram bin entry: 8\n",
            "[LightGBM] [Info] 7 dense feature groups (64.87 MB) transferred to GPU in 0.080815 secs. 1 sparse feature groups\n",
            "[LightGBM] [Debug] Trained a tree with leaves = 31 and depth = 8\n",
            "[LightGBM] [Info] Size of histogram bin entry: 8\n",
            "[LightGBM] [Info] 7 dense feature groups (64.87 MB) transferred to GPU in 0.080715 secs. 1 sparse feature groups\n",
            "[LightGBM] [Debug] Trained a tree with leaves = 31 and depth = 8\n",
            "[LightGBM] [Info] Size of histogram bin entry: 8\n",
            "[LightGBM] [Info] 7 dense feature groups (64.87 MB) transferred to GPU in 0.091128 secs. 1 sparse feature groups\n",
            "[LightGBM] [Debug] Trained a tree with leaves = 31 and depth = 8\n",
            "[LightGBM] [Info] Size of histogram bin entry: 8\n",
            "[LightGBM] [Info] 7 dense feature groups (64.87 MB) transferred to GPU in 0.080584 secs. 1 sparse feature groups\n",
            "[LightGBM] [Debug] Trained a tree with leaves = 31 and depth = 8\n",
            "[LightGBM] [Info] Size of histogram bin entry: 8\n",
            "[LightGBM] [Info] 7 dense feature groups (64.87 MB) transferred to GPU in 0.079956 secs. 1 sparse feature groups\n",
            "[LightGBM] [Debug] Trained a tree with leaves = 31 and depth = 8\n",
            "[LightGBM] [Info] Size of histogram bin entry: 8\n",
            "[LightGBM] [Info] 7 dense feature groups (64.87 MB) transferred to GPU in 0.081642 secs. 1 sparse feature groups\n",
            "[LightGBM] [Debug] Trained a tree with leaves = 31 and depth = 8\n",
            "[LightGBM] [Info] Size of histogram bin entry: 8\n",
            "[LightGBM] [Info] 7 dense feature groups (64.87 MB) transferred to GPU in 0.082405 secs. 1 sparse feature groups\n",
            "[LightGBM] [Debug] Trained a tree with leaves = 31 and depth = 8\n",
            "[LightGBM] [Info] Size of histogram bin entry: 8\n",
            "[LightGBM] [Info] 7 dense feature groups (64.87 MB) transferred to GPU in 0.080366 secs. 1 sparse feature groups\n",
            "[LightGBM] [Debug] Trained a tree with leaves = 31 and depth = 8\n"
          ]
        }
      ]
    },
    {
      "cell_type": "markdown",
      "source": [
        "### prediction"
      ],
      "metadata": {
        "id": "PwaZkcF3odWp"
      }
    },
    {
      "cell_type": "code",
      "source": [
        "test['preds'] = ranker.predict(test_X)\n",
        "\n",
        "c_id2predicted_article_ids = test \\\n",
        "    .sort_values(['customer_id', 'preds'], ascending=False) \\\n",
        "    .groupby('customer_id')['article_id'].apply(list).to_dict()\n",
        "\n",
        "predslist = []\n",
        "for uid in customer_hex_id_to_int(df_sub_raw.customer_id):\n",
        "    preds = []\n",
        "    if uid in c_id2predicted_article_ids:\n",
        "        preds.extend(['0'+str(p) for p in c_id2predicted_article_ids[uid]])\n",
        "    if uid in lastpurchase_testweek:\n",
        "        for iid in lastpurchase_testweek[uid]:\n",
        "            if iid in preds: continue\n",
        "            preds.append(iid)\n",
        "    for iid in local_popular_iids:\n",
        "        if iid in preds: continue\n",
        "        preds.append(iid)\n",
        "    predslist.append(preds[:12])\n",
        "\n",
        "predslist = [' '.join(ps) for ps in predslist]\n",
        "df_sub_raw.prediction = predslist"
      ],
      "metadata": {
        "id": "UgFwEv75oc9o"
      },
      "execution_count": 14,
      "outputs": []
    },
    {
      "cell_type": "code",
      "source": [
        "try:\n",
        "    os.mkdir('data/subs')\n",
        "except FileExistsError:\n",
        "    print(\"folder already exists\")"
      ],
      "metadata": {
        "id": "PyB4T6nPpWAQ"
      },
      "execution_count": 15,
      "outputs": []
    },
    {
      "cell_type": "code",
      "source": [
        "df_sub_raw.to_csv('data/subs/lgbm_4.csv.gz', index=False)"
      ],
      "metadata": {
        "id": "Jx6ppNhfpYHm"
      },
      "execution_count": 16,
      "outputs": []
    },
    {
      "cell_type": "code",
      "source": [],
      "metadata": {
        "id": "NNTtKdDetJSf"
      },
      "execution_count": null,
      "outputs": []
    }
  ]
}